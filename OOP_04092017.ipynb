{
 "cells": [
  {
   "cell_type": "markdown",
   "metadata": {},
   "source": [
    "# Object Oriented Programming\n",
    "## Terminología\n",
    "Clase: Un prototipo para un objeto definido por el usuarioque define un conjunto de atributos que caracteriza cualquier objeto de la clase. Los atributos son miembros tipo datos (variables de clase y variables de instancias) y métodos, accedidos a través de la notación \"punto\".  \n",
    "\n",
    "Variable de Clase: Una variable que es compartida por toda las instancias de la clase. Las variables de clase son definidas dentro de una clase pero fuera de cualquier método de la clase. Variables de clase no son tan utilizadas como las variables de instancias. \n",
    "\n",
    "Data member: Una variable (de clase o de instancia) que contiene datos asociados a una clase y sus objetos.\n",
    "\n",
    "Function overloading: Asignar más de un comportamiento a una función dada. La operación realizada varía dependiendo del tipo del objeto o argumentos involucrados. \n",
    "\n",
    "Variable de instancia: Una variable que es definida dentro de un método y pertenece solamente a la instancia actual de la clase.\n",
    "\n",
    "Herencia (Inheritance): La transferencia de las características de una clase a otras clases que se derivan de ella.\n",
    "\n",
    "Instancia: Un objeto individual de una cierta clase. Un objeto (obj) que pertenece a una clase (círculo), por ejemplo, es una instancia de la clase círculo.\n",
    "\n",
    "Instantiation: La creación de una instancia de una clase.\n",
    "\n",
    "Method : Una clase especial de función que se define en la definición de una clase.\n",
    "\n",
    "Object: Una instancia única de una estructura de datos que definida por su clase. Un objeto se compone de miembros tipo dato y tipo método.\n",
    "\n",
    "Operator overloading: La asignación de más de una función a un operador dado."
   ]
  },
  {
   "cell_type": "markdown",
   "metadata": {},
   "source": [
    "Veamoslo en acción:"
   ]
  },
  {
   "cell_type": "code",
   "execution_count": null,
   "metadata": {
    "collapsed": true
   },
   "outputs": [],
   "source": [
    "class Robot:\n",
    "    pass"
   ]
  },
  {
   "cell_type": "code",
   "execution_count": null,
   "metadata": {},
   "outputs": [],
   "source": [
    "#ejemplo de pass (no hace absolutamente nada)\n",
    "for letter in \"Python\":\n",
    "    if letter ==\"h\":\n",
    "        pass\n",
    "        print(\"This is a pass block\")\n",
    "    print (\"Current letter: \",letter)\n",
    "    "
   ]
  },
  {
   "cell_type": "code",
   "execution_count": null,
   "metadata": {},
   "outputs": [],
   "source": [
    "if __name__==\"__main__\":\n",
    "    x=Robot()\n",
    "    y=Robot()\n",
    "    y2=y\n",
    "    print(y == y2)\n",
    "    print(y == x)\n",
    "    "
   ]
  },
  {
   "cell_type": "markdown",
   "metadata": {},
   "source": [
    "Ahora, añadimos atributos a la clase Robot, lo podemos hacer de forma dinámica. Añadiremos el nombre, designación del tipo, año de construcción, ..."
   ]
  },
  {
   "cell_type": "code",
   "execution_count": null,
   "metadata": {},
   "outputs": [],
   "source": [
    "x.name = \"R2D2\"\n",
    "x.build_year=\"1977\"\n",
    "y.name= \"C3P0\"\n",
    "y.build_year=\"1977\"\n",
    "z=Robot()\n",
    "z.name=\"BB8\"\n",
    "z.build_year=\"2015\"\n",
    "print(x)"
   ]
  },
  {
   "cell_type": "code",
   "execution_count": null,
   "metadata": {},
   "outputs": [],
   "source": [
    "print(x.name+\" make \"+ x.build_year)"
   ]
  },
  {
   "cell_type": "markdown",
   "metadata": {},
   "source": [
    "No es la forma apropiada para crear atributos de una instancia, pero facilita su aprendizaje.  \n",
    "Cada instancia posee un diccionario para almacenar los atributos y los correspondientes valores."
   ]
  },
  {
   "cell_type": "code",
   "execution_count": null,
   "metadata": {},
   "outputs": [],
   "source": [
    "x.__dict__"
   ]
  },
  {
   "cell_type": "code",
   "execution_count": null,
   "metadata": {
    "collapsed": true
   },
   "outputs": [],
   "source": [
    "class Robot(object):\n",
    "    pass"
   ]
  },
  {
   "cell_type": "code",
   "execution_count": null,
   "metadata": {
    "collapsed": true
   },
   "outputs": [],
   "source": [
    "a=Robot()\n",
    "Robot.brand=\"RevelAlliance\"\n",
    "b=Robot()"
   ]
  },
  {
   "cell_type": "code",
   "execution_count": null,
   "metadata": {},
   "outputs": [],
   "source": [
    "a.brand"
   ]
  },
  {
   "cell_type": "code",
   "execution_count": null,
   "metadata": {},
   "outputs": [],
   "source": [
    "a.__dict__"
   ]
  },
  {
   "cell_type": "code",
   "execution_count": null,
   "metadata": {},
   "outputs": [],
   "source": [
    "b.__dict__"
   ]
  },
  {
   "cell_type": "code",
   "execution_count": null,
   "metadata": {},
   "outputs": [],
   "source": [
    "b.brand=\"Empire\"\n",
    "b.__dict__"
   ]
  },
  {
   "cell_type": "code",
   "execution_count": null,
   "metadata": {},
   "outputs": [],
   "source": [
    "Robot.__dict__"
   ]
  },
  {
   "cell_type": "code",
   "execution_count": null,
   "metadata": {},
   "outputs": [],
   "source": [
    "a.energy"
   ]
  },
  {
   "cell_type": "markdown",
   "metadata": {},
   "source": [
    "Para evitar el error al acceder un atributo no definido, utilizamos getattr y damos un valor por defecto:"
   ]
  },
  {
   "cell_type": "code",
   "execution_count": null,
   "metadata": {},
   "outputs": [],
   "source": [
    "getattr(a,\"energy\",\"Nuclear\")"
   ]
  },
  {
   "cell_type": "code",
   "execution_count": null,
   "metadata": {},
   "outputs": [],
   "source": [
    "a.energy=getattr(a,\"energy\",\"Nuclear\")\n",
    "a.__dict__"
   ]
  },
  {
   "cell_type": "code",
   "execution_count": null,
   "metadata": {
    "collapsed": true
   },
   "outputs": [],
   "source": [
    "def f(x):\n",
    "    f.counter = getattr(f, \"counter\",0)+1\n",
    "    return \"Monty Python\"\n"
   ]
  },
  {
   "cell_type": "code",
   "execution_count": null,
   "metadata": {
    "collapsed": true
   },
   "outputs": [],
   "source": [
    "for i in range(10):\n",
    "    f(i)\n",
    "    "
   ]
  },
  {
   "cell_type": "code",
   "execution_count": null,
   "metadata": {},
   "outputs": [],
   "source": [
    "print(f.counter)"
   ]
  },
  {
   "cell_type": "markdown",
   "metadata": {},
   "source": [
    "## Métodos"
   ]
  },
  {
   "cell_type": "code",
   "execution_count": null,
   "metadata": {
    "collapsed": true
   },
   "outputs": [],
   "source": [
    "def hi(obj):\n",
    "    print(\"Hi, I am \" + obj.name+ \", at your service!\")\n",
    "    "
   ]
  },
  {
   "cell_type": "code",
   "execution_count": null,
   "metadata": {
    "collapsed": true
   },
   "outputs": [],
   "source": [
    "class Robot:\n",
    "    pass"
   ]
  },
  {
   "cell_type": "code",
   "execution_count": null,
   "metadata": {
    "collapsed": true
   },
   "outputs": [],
   "source": [
    "x=Robot()\n",
    "x.name=\"C3P0\""
   ]
  },
  {
   "cell_type": "code",
   "execution_count": null,
   "metadata": {},
   "outputs": [],
   "source": [
    "hi(x)"
   ]
  },
  {
   "cell_type": "code",
   "execution_count": null,
   "metadata": {
    "collapsed": true
   },
   "outputs": [],
   "source": [
    "class Robot:\n",
    "    say_hi=hi\n"
   ]
  },
  {
   "cell_type": "code",
   "execution_count": null,
   "metadata": {},
   "outputs": [],
   "source": [
    "x=Robot()\n",
    "x.name=\"C3P0\"\n",
    "y=Robot()\n",
    "y.name=\"R2D2\""
   ]
  },
  {
   "cell_type": "code",
   "execution_count": null,
   "metadata": {},
   "outputs": [],
   "source": [
    "Robot.say_hi(x)"
   ]
  },
  {
   "cell_type": "code",
   "execution_count": null,
   "metadata": {},
   "outputs": [],
   "source": [
    "Robot.say_hi(y)"
   ]
  },
  {
   "cell_type": "code",
   "execution_count": null,
   "metadata": {},
   "outputs": [],
   "source": [
    "x.say_hi()"
   ]
  },
  {
   "cell_type": "markdown",
   "metadata": {},
   "source": [
    "Aunque se pueden definir métodos de esta manera, la forma más apropiada es:\n",
    "\n",
    "\\* En lugar de definir una función fuera de la clase y asociandola como atributo de la clase, se define el método directamente dentro de la definición de la clase\n",
    "\n",
    "\\* Un método es una función definida dentro de una clase\n",
    "\n",
    "\\* El primer parámetro es usualmente una referencia a la instancia que llama\n",
    "\n",
    "\\* Este parámetro es normalmente llamado \"self\"\n",
    "\n",
    "En nuestro ejemplo, \"self\" corresponde a objeto Robot x\n"
   ]
  },
  {
   "cell_type": "markdown",
   "metadata": {},
   "source": [
    "*Pausa dramática:*\n",
    "Qué tiene de malo muestro código?"
   ]
  },
  {
   "cell_type": "code",
   "execution_count": null,
   "metadata": {},
   "outputs": [],
   "source": [
    "class Robot:\n",
    "    def __init__(self,name=None):\n",
    "        self.name = name\n",
    "    \n",
    "    def say_hi(self):\n",
    "        if self.name:\n",
    "            print(\"Hi, I am \"+self.name+ \", at your service!\")\n",
    "        else:\n",
    "            print(\"Hi, I am a robot without a name!\")"
   ]
  },
  {
   "cell_type": "code",
   "execution_count": null,
   "metadata": {},
   "outputs": [],
   "source": [
    "x=Robot()\n",
    "x.say_hi()"
   ]
  },
  {
   "cell_type": "code",
   "execution_count": null,
   "metadata": {},
   "outputs": [],
   "source": [
    "y=Robot(\"R2D2\")\n",
    "y.say_hi()"
   ]
  },
  {
   "cell_type": "markdown",
   "metadata": {},
   "source": [
    "## Data Abstraction, Encapsulation, Information Hiding\n",
    "Getter y Setter:\n",
    "\n",
    "Métodos getter obtienen el valor del atributo sin modificarlo, los métodos setter cambian el valor del atributo."
   ]
  },
  {
   "cell_type": "code",
   "execution_count": null,
   "metadata": {},
   "outputs": [],
   "source": [
    "class Robot:\n",
    "    def __init__(self, name=None):\n",
    "        self.name=name\n",
    "        \n",
    "    def say_hi(self):\n",
    "        if self.name:\n",
    "            print(\"Hi, I am \"+self.name+ \", at your service!\")\n",
    "        else:\n",
    "            print(\"Hi, I am a robot without a name!\")\n",
    "        \n",
    "    def set_name(self,name):\n",
    "        self.name=name\n",
    "        \n",
    "    def get_name(self):\n",
    "        return self.name\n",
    "    "
   ]
  },
  {
   "cell_type": "code",
   "execution_count": null,
   "metadata": {},
   "outputs": [],
   "source": [
    "x=Robot()\n",
    "x.set_name(\"BB8\")\n",
    "x.say_hi()\n",
    "y=Robot()\n",
    "y.set_name(x.get_name()+\"b\")\n",
    "print(y.get_name())\n",
    "y.say_hi()\n",
    "y.name=\"BB9\"\n",
    "y.say_hi()"
   ]
  },
  {
   "cell_type": "markdown",
   "metadata": {},
   "source": [
    "## Público, Privado, Protegido"
   ]
  },
  {
   "cell_type": "markdown",
   "metadata": {},
   "source": [
    "Público: name\n",
    "\n",
    "Privado: __name\n",
    "\n",
    "Protegido: _name"
   ]
  },
  {
   "cell_type": "code",
   "execution_count": null,
   "metadata": {
    "collapsed": true
   },
   "outputs": [],
   "source": [
    "class A():\n",
    "    def __init__(self):\n",
    "        self.__priv = \"I am private\"\n",
    "        self._prot = \"I am protected\"\n",
    "        self.pub = \"I am public\""
   ]
  },
  {
   "cell_type": "code",
   "execution_count": null,
   "metadata": {},
   "outputs": [],
   "source": [
    "x=A()\n",
    "x.pub\n"
   ]
  },
  {
   "cell_type": "code",
   "execution_count": null,
   "metadata": {},
   "outputs": [],
   "source": [
    "x.pub=x.pub+\" and my value can be changed.\"\n",
    "x.pub"
   ]
  },
  {
   "cell_type": "code",
   "execution_count": null,
   "metadata": {},
   "outputs": [],
   "source": [
    "x._prot"
   ]
  },
  {
   "cell_type": "code",
   "execution_count": null,
   "metadata": {},
   "outputs": [],
   "source": [
    "x._prot=x._prot+\" and see what happens when you try and change me.\""
   ]
  },
  {
   "cell_type": "code",
   "execution_count": null,
   "metadata": {},
   "outputs": [],
   "source": [
    "x._prot"
   ]
  },
  {
   "cell_type": "code",
   "execution_count": null,
   "metadata": {},
   "outputs": [],
   "source": [
    "x.__priv"
   ]
  },
  {
   "cell_type": "code",
   "execution_count": null,
   "metadata": {},
   "outputs": [],
   "source": [
    "class Robot:\n",
    "    \n",
    "    def __init__(self, name=None,movie_year=1977):\n",
    "        self.__name=name\n",
    "        self.__movie_year=movie_year\n",
    "    \n",
    "    def say_hi(self):\n",
    "        if self.__name:\n",
    "            print(\"Hi, I am \"+self.__name+\" !\")\n",
    "        else:\n",
    "            print(\"Hi, I am a robot without a name!\")\n",
    "    def set_name(self,name):\n",
    "        self.__name=name\n",
    "    \n",
    "    def get_name(self):\n",
    "        return self.__name\n",
    "    \n",
    "    def set_movie_year(self,year):\n",
    "        self.__movie_year=year\n",
    "        \n",
    "    def get_movie_year(self):\n",
    "        return self.__movie_year\n",
    "    \n",
    "    def __repr__(self):\n",
    "        return \"Robot('\" +self.__name+\"', appeared in the year:  \"+str(self.__movie_year) +\")\"\n",
    "    \n",
    "    def __str__(self):\n",
    "        return \"Name:\" +self.__name+\", year of movie: \" + str(self.__movie_year)\n",
    "            "
   ]
  },
  {
   "cell_type": "code",
   "execution_count": null,
   "metadata": {},
   "outputs": [],
   "source": [
    "x=Robot(\"R2D2\",1977)\n",
    "y=Robot(\"C3P0\",2016)\n",
    "for rob in (x,y):\n",
    "    rob.say_hi()\n",
    "    if rob.get_name()=='C3P0':\n",
    "        rob.set_movie_year(1977)\n",
    "    print(\"I first appeared in the year \"+str(rob.get_movie_year())+\"!\")"
   ]
  },
  {
   "cell_type": "code",
   "execution_count": null,
   "metadata": {},
   "outputs": [],
   "source": [
    "x.__str__"
   ]
  },
  {
   "cell_type": "code",
   "execution_count": null,
   "metadata": {},
   "outputs": [],
   "source": [
    "x.__repr__"
   ]
  },
  {
   "cell_type": "code",
   "execution_count": null,
   "metadata": {},
   "outputs": [],
   "source": [
    "print(x.__repr__)"
   ]
  },
  {
   "cell_type": "code",
   "execution_count": null,
   "metadata": {},
   "outputs": [],
   "source": [
    "print(x.__str__)"
   ]
  },
  {
   "cell_type": "code",
   "execution_count": null,
   "metadata": {},
   "outputs": [],
   "source": [
    "print(str(x))"
   ]
  },
  {
   "cell_type": "code",
   "execution_count": null,
   "metadata": {
    "collapsed": true
   },
   "outputs": [],
   "source": [
    "a=str(42)"
   ]
  },
  {
   "cell_type": "code",
   "execution_count": null,
   "metadata": {},
   "outputs": [],
   "source": [
    "print(\"Number\"+a)"
   ]
  },
  {
   "cell_type": "code",
   "execution_count": null,
   "metadata": {},
   "outputs": [],
   "source": [
    "b=43\n",
    "print(\"Number\"+b)"
   ]
  },
  {
   "cell_type": "code",
   "execution_count": null,
   "metadata": {},
   "outputs": [],
   "source": [
    "print(str(x))"
   ]
  },
  {
   "cell_type": "code",
   "execution_count": null,
   "metadata": {},
   "outputs": [],
   "source": [
    "print(repr(x))"
   ]
  },
  {
   "cell_type": "code",
   "execution_count": null,
   "metadata": {},
   "outputs": [],
   "source": [
    "import datetime\n",
    "today=datetime.datetime.now()\n",
    "str_today=str(today)"
   ]
  },
  {
   "cell_type": "code",
   "execution_count": null,
   "metadata": {},
   "outputs": [],
   "source": [
    "print(today)"
   ]
  },
  {
   "cell_type": "code",
   "execution_count": null,
   "metadata": {},
   "outputs": [],
   "source": [
    "type(today)"
   ]
  },
  {
   "cell_type": "code",
   "execution_count": null,
   "metadata": {},
   "outputs": [],
   "source": [
    "print(str_today)"
   ]
  },
  {
   "cell_type": "code",
   "execution_count": null,
   "metadata": {},
   "outputs": [],
   "source": [
    "type(str_today)"
   ]
  },
  {
   "cell_type": "code",
   "execution_count": null,
   "metadata": {},
   "outputs": [],
   "source": [
    "eval(str_today)"
   ]
  },
  {
   "cell_type": "code",
   "execution_count": null,
   "metadata": {
    "collapsed": true
   },
   "outputs": [],
   "source": [
    "repr_today=repr(today)"
   ]
  },
  {
   "cell_type": "code",
   "execution_count": null,
   "metadata": {},
   "outputs": [],
   "source": [
    "eval(repr_today)"
   ]
  },
  {
   "cell_type": "code",
   "execution_count": null,
   "metadata": {},
   "outputs": [],
   "source": [
    "type(repr_today)"
   ]
  },
  {
   "cell_type": "code",
   "execution_count": null,
   "metadata": {},
   "outputs": [],
   "source": [
    "type(str_today)"
   ]
  },
  {
   "cell_type": "code",
   "execution_count": null,
   "metadata": {
    "collapsed": true
   },
   "outputs": [],
   "source": [
    "t=eval(repr_today)"
   ]
  },
  {
   "cell_type": "code",
   "execution_count": null,
   "metadata": {},
   "outputs": [],
   "source": [
    "type(t)"
   ]
  },
  {
   "cell_type": "code",
   "execution_count": null,
   "metadata": {},
   "outputs": [],
   "source": [
    "type(today)"
   ]
  },
  {
   "cell_type": "markdown",
   "metadata": {},
   "source": [
    "## Destructor\n",
    "__del__"
   ]
  },
  {
   "cell_type": "code",
   "execution_count": null,
   "metadata": {
    "collapsed": true
   },
   "outputs": [],
   "source": [
    "class Robot():\n",
    "    def __init__(self,name=None):\n",
    "        print(name+\" has been created!\")\n",
    "        \n",
    "    def __del__(self):\n",
    "        print(\"Robot has been destroyed!\")"
   ]
  },
  {
   "cell_type": "code",
   "execution_count": null,
   "metadata": {},
   "outputs": [],
   "source": [
    "if __name__ == \"__main__\":\n",
    "    x=Robot(\"C3P0\")\n",
    "    y=Robot(\"R2D2\")"
   ]
  },
  {
   "cell_type": "code",
   "execution_count": null,
   "metadata": {},
   "outputs": [],
   "source": [
    "del x"
   ]
  },
  {
   "cell_type": "code",
   "execution_count": null,
   "metadata": {
    "collapsed": true
   },
   "outputs": [],
   "source": []
  }
 ],
 "metadata": {
  "kernelspec": {
   "display_name": "Python 3",
   "language": "python",
   "name": "python3"
  },
  "language_info": {
   "codemirror_mode": {
    "name": "ipython",
    "version": 3
   },
   "file_extension": ".py",
   "mimetype": "text/x-python",
   "name": "python",
   "nbconvert_exporter": "python",
   "pygments_lexer": "ipython3",
   "version": "3.6.1"
  }
 },
 "nbformat": 4,
 "nbformat_minor": 2
}
