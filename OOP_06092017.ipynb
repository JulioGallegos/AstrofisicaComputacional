{
 "cells": [
  {
   "cell_type": "markdown",
   "metadata": {},
   "source": [
    "# Atributos de Clase\n",
    "Los atributos de la instancia son propiedad de la instancia específica de la clase. Esto significa que para dos instancias diferentes los atributos pueden ser distintos.\n",
    "<br>\n",
    "También se pueden definir atributos a nivel de clase. Los atributos de clase son atributos que pertenecen a la clase y son compartidos por todas las instancias de la clase. Así tienen el mismo valor para cada instancia. Se definen fuera de todo método, usualmente en la primera parte."
   ]
  },
  {
   "cell_type": "code",
   "execution_count": 1,
   "metadata": {
    "collapsed": true
   },
   "outputs": [],
   "source": [
    "class A:\n",
    "    a=\"Atributo de clase\""
   ]
  },
  {
   "cell_type": "code",
   "execution_count": 2,
   "metadata": {
    "collapsed": true
   },
   "outputs": [],
   "source": [
    "x=A()\n",
    "y=A()\n",
    "z=A()"
   ]
  },
  {
   "cell_type": "code",
   "execution_count": 3,
   "metadata": {},
   "outputs": [
    {
     "data": {
      "text/plain": [
       "'Atributo de clase'"
      ]
     },
     "execution_count": 3,
     "metadata": {},
     "output_type": "execute_result"
    }
   ],
   "source": [
    "x.a"
   ]
  },
  {
   "cell_type": "code",
   "execution_count": 4,
   "metadata": {},
   "outputs": [
    {
     "data": {
      "text/plain": [
       "('Atributo de clase', 'Atributo de clase')"
      ]
     },
     "execution_count": 4,
     "metadata": {},
     "output_type": "execute_result"
    }
   ],
   "source": [
    "(y.a,z.a)"
   ]
  },
  {
   "cell_type": "markdown",
   "metadata": {},
   "source": [
    "Para cambiar un atributo de clase se debe hacer con la notación:<br>\n",
    "ClassName.Attributename; de otra forma se creará una variable de instancia nueva."
   ]
  },
  {
   "cell_type": "code",
   "execution_count": 5,
   "metadata": {},
   "outputs": [
    {
     "data": {
      "text/plain": [
       "('Cambiamos solamente x', 'Atributo de clase', 'Atributo de clase')"
      ]
     },
     "execution_count": 5,
     "metadata": {},
     "output_type": "execute_result"
    }
   ],
   "source": [
    "x.a=\"Cambiamos solamente x\"\n",
    "x.a,y.a,z.a"
   ]
  },
  {
   "cell_type": "code",
   "execution_count": 6,
   "metadata": {
    "collapsed": true
   },
   "outputs": [],
   "source": [
    "A.a=\"Cambiamos el valor para toda la clase!\""
   ]
  },
  {
   "cell_type": "code",
   "execution_count": 7,
   "metadata": {},
   "outputs": [
    {
     "data": {
      "text/plain": [
       "('Cambiamos solamente x',\n",
       " 'Cambiamos el valor para toda la clase!',\n",
       " 'Cambiamos el valor para toda la clase!')"
      ]
     },
     "execution_count": 7,
     "metadata": {},
     "output_type": "execute_result"
    }
   ],
   "source": [
    "x.a,y.a,z.a"
   ]
  },
  {
   "cell_type": "markdown",
   "metadata": {},
   "source": [
    "Como vemos, x.a, no cambió; debido a que hicimos el cambio en x.a y se creó una variable de instancia nueva."
   ]
  },
  {
   "cell_type": "code",
   "execution_count": 8,
   "metadata": {},
   "outputs": [
    {
     "data": {
      "text/plain": [
       "{'a': 'Cambiamos solamente x'}"
      ]
     },
     "execution_count": 8,
     "metadata": {},
     "output_type": "execute_result"
    }
   ],
   "source": [
    "x.__dict__"
   ]
  },
  {
   "cell_type": "code",
   "execution_count": 9,
   "metadata": {},
   "outputs": [
    {
     "data": {
      "text/plain": [
       "({}, {})"
      ]
     },
     "execution_count": 9,
     "metadata": {},
     "output_type": "execute_result"
    }
   ],
   "source": [
    "y.__dict__,z.__dict__"
   ]
  },
  {
   "cell_type": "code",
   "execution_count": 10,
   "metadata": {},
   "outputs": [
    {
     "data": {
      "text/plain": [
       "mappingproxy({'__dict__': <attribute '__dict__' of 'A' objects>,\n",
       "              '__doc__': None,\n",
       "              '__module__': '__main__',\n",
       "              '__weakref__': <attribute '__weakref__' of 'A' objects>,\n",
       "              'a': 'Cambiamos el valor para toda la clase!'})"
      ]
     },
     "execution_count": 10,
     "metadata": {},
     "output_type": "execute_result"
    }
   ],
   "source": [
    "A.__dict__"
   ]
  },
  {
   "cell_type": "markdown",
   "metadata": {},
   "source": [
    "Volvamos al ejemplo de la clase Robot:"
   ]
  },
  {
   "cell_type": "code",
   "execution_count": 11,
   "metadata": {},
   "outputs": [],
   "source": [
    "class Robot:\n",
    "    Three_Laws=(\n",
    "    \"\"\"First Law: A robot may not injure a human being or, \n",
    "    through inaction, allow a human being to come to harm.\"\"\",\n",
    "    \"\"\"Second Law: A robot must obey the orders given to it by \n",
    "    human beings, except where such orders would conflict with \n",
    "    the First law.\"\"\",\n",
    "    \"\"\"Third Law: A robot must protect its own existence as long as\n",
    "    such protection does not confilct with the First or Second Law.\"\"\")\n",
    "    \n",
    "    def __init__(self, name, build_year):\n",
    "        self.name=name\n",
    "        self.build_year=build_year\n",
    "    \n",
    "    def say_hi(self):\n",
    "        if self.__name:\n",
    "            print(\"Hi, I am \" + self.__name)\n",
    "        else:\n",
    "            print(\"Hi, I am a robot without a name\")\n",
    "            \n",
    "    def set_name(self, name):\n",
    "        self.__name = name\n",
    "        \n",
    "    def get_name(self):\n",
    "        return self.__name    \n",
    "\n",
    "    def set_build_year(self, by):\n",
    "        self.__build_year = by\n",
    "        \n",
    "    def get_build_year(self):\n",
    "        return self.__build_year\n",
    "    "
   ]
  },
  {
   "cell_type": "code",
   "execution_count": 12,
   "metadata": {},
   "outputs": [
    {
     "name": "stdout",
     "output_type": "stream",
     "text": [
      "1:\n",
      "First Law: A robot may not injure a human being or, \n",
      "    through inaction, allow a human being to come to harm.\n",
      "2:\n",
      "Second Law: A robot must obey the orders given to it by \n",
      "    human beings, except where such orders would conflict with \n",
      "    the First law.\n",
      "3:\n",
      "Third Law: A robot must protect its own existence as long as\n",
      "    such protection does not confilct with the First or Second Law.\n"
     ]
    }
   ],
   "source": [
    "for number, text in enumerate(Robot.Three_Laws):\n",
    "    print(str(number+1) + \":\\n\"+text)"
   ]
  },
  {
   "cell_type": "markdown",
   "metadata": {},
   "source": [
    "Veamos un ejemplo:"
   ]
  },
  {
   "cell_type": "code",
   "execution_count": 13,
   "metadata": {
    "collapsed": true
   },
   "outputs": [],
   "source": [
    "class C:\n",
    "    counter = 0\n",
    "    \n",
    "    def __init__(self):\n",
    "        type(self).counter +=1\n",
    "        \n",
    "    def __del__(self):\n",
    "        type(self).counter -=1\n",
    "        \n"
   ]
  },
  {
   "cell_type": "code",
   "execution_count": 14,
   "metadata": {},
   "outputs": [
    {
     "name": "stdout",
     "output_type": "stream",
     "text": [
      "Number of instances: 1\n"
     ]
    }
   ],
   "source": [
    "x=C()\n",
    "print(\"Number of instances: \"+str(C.counter))"
   ]
  },
  {
   "cell_type": "code",
   "execution_count": 15,
   "metadata": {
    "collapsed": true
   },
   "outputs": [],
   "source": [
    "y=C()\n",
    "z=C()"
   ]
  },
  {
   "cell_type": "code",
   "execution_count": 16,
   "metadata": {},
   "outputs": [
    {
     "name": "stdout",
     "output_type": "stream",
     "text": [
      "Number of instances: 3\n"
     ]
    }
   ],
   "source": [
    "print(\"Number of instances: \"+str(C.counter))"
   ]
  },
  {
   "cell_type": "code",
   "execution_count": 17,
   "metadata": {},
   "outputs": [
    {
     "name": "stdout",
     "output_type": "stream",
     "text": [
      "Number of instances: 2\n"
     ]
    }
   ],
   "source": [
    "del x\n",
    "print(\"Number of instances: \"+str(C.counter))"
   ]
  },
  {
   "cell_type": "markdown",
   "metadata": {},
   "source": [
    "## Métodos Estáticos\n",
    "Antes, hemos creado atributos públicos; los podemos hacer privados. Utilizaremos los \"__\" nuevamente, pero necesitaremos métodos para acceder estos atributos de clase:"
   ]
  },
  {
   "cell_type": "code",
   "execution_count": 18,
   "metadata": {},
   "outputs": [],
   "source": [
    "class Robot:\n",
    "    __counter=0\n",
    "    \n",
    "    def __init__(self):\n",
    "        type(self).__counter+=1\n",
    "    def RobotInstances(self):\n",
    "        return Robot.__counter\n"
   ]
  },
  {
   "cell_type": "code",
   "execution_count": 19,
   "metadata": {},
   "outputs": [
    {
     "name": "stdout",
     "output_type": "stream",
     "text": [
      "1\n"
     ]
    }
   ],
   "source": [
    "x=Robot()\n",
    "print(x.RobotInstances())"
   ]
  },
  {
   "cell_type": "code",
   "execution_count": 20,
   "metadata": {},
   "outputs": [
    {
     "data": {
      "text/plain": [
       "2"
      ]
     },
     "execution_count": 20,
     "metadata": {},
     "output_type": "execute_result"
    }
   ],
   "source": [
    "y=Robot()\n",
    "y.RobotInstances()"
   ]
  },
  {
   "cell_type": "code",
   "execution_count": 21,
   "metadata": {},
   "outputs": [],
   "source": [
    "#Robot.RobotInstances() #genera un error"
   ]
  },
  {
   "cell_type": "markdown",
   "metadata": {},
   "source": [
    "Necesitamos un método para acceder a un atributo via el nombre de la\n",
    "clase o de una instancia, sin necesidad de pasarle una referencia a un instancia. Usaremos un método estático:"
   ]
  },
  {
   "cell_type": "code",
   "execution_count": 22,
   "metadata": {
    "collapsed": true
   },
   "outputs": [],
   "source": [
    "class Robot:\n",
    "    __counter = 0\n",
    "    \n",
    "    def __init__(self):\n",
    "        type(self).__counter += 1\n",
    "        \n",
    "    @staticmethod\n",
    "    def RobotInstances():\n",
    "        return Robot.__counter"
   ]
  },
  {
   "cell_type": "code",
   "execution_count": 23,
   "metadata": {},
   "outputs": [
    {
     "data": {
      "text/plain": [
       "0"
      ]
     },
     "execution_count": 23,
     "metadata": {},
     "output_type": "execute_result"
    }
   ],
   "source": [
    "Robot.RobotInstances()"
   ]
  },
  {
   "cell_type": "code",
   "execution_count": 24,
   "metadata": {},
   "outputs": [
    {
     "data": {
      "text/plain": [
       "3"
      ]
     },
     "execution_count": 24,
     "metadata": {},
     "output_type": "execute_result"
    }
   ],
   "source": [
    "x=Robot()\n",
    "y=Robot()\n",
    "z=Robot()\n",
    "Robot.RobotInstances()"
   ]
  },
  {
   "cell_type": "code",
   "execution_count": 25,
   "metadata": {},
   "outputs": [
    {
     "data": {
      "text/plain": [
       "3"
      ]
     },
     "execution_count": 25,
     "metadata": {},
     "output_type": "execute_result"
    }
   ],
   "source": [
    "x.RobotInstances()"
   ]
  },
  {
   "cell_type": "code",
   "execution_count": 26,
   "metadata": {},
   "outputs": [
    {
     "name": "stdout",
     "output_type": "stream",
     "text": [
      "3\n",
      "4\n",
      "5\n",
      "5\n"
     ]
    }
   ],
   "source": [
    "print(Robot.RobotInstances())\n",
    "a = Robot()\n",
    "print(x.RobotInstances())\n",
    "b = Robot()\n",
    "print(x.RobotInstances())\n",
    "print(Robot.RobotInstances())"
   ]
  },
  {
   "cell_type": "markdown",
   "metadata": {},
   "source": [
    "## Métodos de Clase\n",
    "Los métodos estáticos no deben confundirse con métodos de clase. Los métodos estáticos y de clase son están confinados a una instancia, pero a diferencia de los estáticos, los métodos de la clase estan confinados a ella. El primer parámetro de un método de clase es una referncia a clase (objeto clase). Pueden ser llamados via una instancia o nombre de clase."
   ]
  },
  {
   "cell_type": "code",
   "execution_count": 27,
   "metadata": {
    "collapsed": true
   },
   "outputs": [],
   "source": [
    "class Robot:\n",
    "    __counter = 0\n",
    "    \n",
    "    def __init__(self):\n",
    "        type(self).__counter += 1\n",
    "        \n",
    "    @classmethod\n",
    "    def RobotInstances(cls):\n",
    "        return cls, Robot.__counter"
   ]
  },
  {
   "cell_type": "code",
   "execution_count": 28,
   "metadata": {},
   "outputs": [
    {
     "name": "stdout",
     "output_type": "stream",
     "text": [
      "(<class '__main__.Robot'>, 0)\n",
      "(<class '__main__.Robot'>, 1)\n",
      "(<class '__main__.Robot'>, 2)\n",
      "(<class '__main__.Robot'>, 2)\n"
     ]
    }
   ],
   "source": [
    "print(Robot.RobotInstances())\n",
    "x = Robot()\n",
    "print(x.RobotInstances())\n",
    "y = Robot()\n",
    "print(x.RobotInstances())\n",
    "print(Robot.RobotInstances())"
   ]
  },
  {
   "cell_type": "markdown",
   "metadata": {},
   "source": [
    "Veamos un ejemplo:"
   ]
  },
  {
   "cell_type": "code",
   "execution_count": 29,
   "metadata": {
    "collapsed": true
   },
   "outputs": [],
   "source": [
    "class fraction(object):\n",
    "\n",
    "    def __init__(self, n, d):\n",
    "        self.numerator, self.denominator = fraction.reduce(n, d)\n",
    "        \n",
    "\n",
    "    @staticmethod\n",
    "    def mcd(a,b):\n",
    "        while b != 0:\n",
    "            a, b = b, a%b\n",
    "        return a\n",
    "\n",
    "    @classmethod\n",
    "    def reduce(cls, n1, n2):\n",
    "        g = cls.mcd(n1, n2)\n",
    "        return (n1 // g, n2 // g)\n",
    "\n",
    "    def __str__(self):\n",
    "        return str(self.numerator)+'/'+str(self.denominator)"
   ]
  },
  {
   "cell_type": "code",
   "execution_count": 30,
   "metadata": {},
   "outputs": [
    {
     "name": "stdout",
     "output_type": "stream",
     "text": [
      "24 9\n",
      "9 6\n",
      "6 3\n",
      "3 0\n"
     ]
    }
   ],
   "source": [
    "#how mcd works\n",
    "a=9\n",
    "b=24\n",
    "while b!=0:\n",
    "    a,b=b,a%b\n",
    "    print(str(a),str(b),sep=\" \")\n"
   ]
  },
  {
   "cell_type": "code",
   "execution_count": 31,
   "metadata": {},
   "outputs": [],
   "source": [
    "x=fraction(17,25)"
   ]
  },
  {
   "cell_type": "code",
   "execution_count": 32,
   "metadata": {},
   "outputs": [
    {
     "name": "stdout",
     "output_type": "stream",
     "text": [
      "17/25\n"
     ]
    }
   ],
   "source": [
    "print(x)"
   ]
  },
  {
   "cell_type": "markdown",
   "metadata": {},
   "source": [
    "Un ejemplo sencillo para ver las ventajas de los métodos de clase \n",
    "cuando tratamos con herencia (inheritance)."
   ]
  },
  {
   "cell_type": "code",
   "execution_count": 33,
   "metadata": {},
   "outputs": [],
   "source": [
    "class Pets:\n",
    "    name=\"pet animals\"\n",
    "    \n",
    "    @staticmethod\n",
    "    def about():\n",
    "        print(\"This class is about {}!\".format(Pets.name))"
   ]
  },
  {
   "cell_type": "code",
   "execution_count": 34,
   "metadata": {
    "collapsed": true
   },
   "outputs": [],
   "source": [
    "class Dogs(Pets):\n",
    "    name =\"'man's best friend' (Frederick II)\"\n",
    "class Cats(Pets):\n",
    "    name = \"cats\""
   ]
  },
  {
   "cell_type": "code",
   "execution_count": 35,
   "metadata": {},
   "outputs": [
    {
     "name": "stdout",
     "output_type": "stream",
     "text": [
      "This class is about pet animals!\n"
     ]
    }
   ],
   "source": [
    "p = Pets()\n",
    "p.about()"
   ]
  },
  {
   "cell_type": "code",
   "execution_count": 36,
   "metadata": {},
   "outputs": [
    {
     "name": "stdout",
     "output_type": "stream",
     "text": [
      "This class is about pet animals!\n"
     ]
    }
   ],
   "source": [
    "pluto=Dogs()\n",
    "pluto.about()"
   ]
  },
  {
   "cell_type": "code",
   "execution_count": 37,
   "metadata": {},
   "outputs": [
    {
     "name": "stdout",
     "output_type": "stream",
     "text": [
      "This class is about pet animals!\n"
     ]
    }
   ],
   "source": [
    "figaro=Cats()\n",
    "figaro.about()"
   ]
  },
  {
   "cell_type": "markdown",
   "metadata": {},
   "source": [
    "No es lo que esperabamos, lo que pasa es que el método estático no sabe quien lo llama."
   ]
  },
  {
   "cell_type": "code",
   "execution_count": 38,
   "metadata": {
    "collapsed": true
   },
   "outputs": [],
   "source": [
    "class Pets:\n",
    "    name = \"pet animals\"\n",
    "\n",
    "    @classmethod\n",
    "    def about(cls):\n",
    "        print(\"This class is about {}!\".format(cls.name))"
   ]
  },
  {
   "cell_type": "code",
   "execution_count": 39,
   "metadata": {
    "collapsed": true
   },
   "outputs": [],
   "source": [
    "class Dogs(Pets):\n",
    "    name =\"'man's best friend' (Frederick II)\"\n",
    "class Cats(Pets):\n",
    "    name = \"cats\""
   ]
  },
  {
   "cell_type": "code",
   "execution_count": 40,
   "metadata": {},
   "outputs": [
    {
     "name": "stdout",
     "output_type": "stream",
     "text": [
      "This class is about pet animals!\n"
     ]
    }
   ],
   "source": [
    "p = Pets()\n",
    "p.about()"
   ]
  },
  {
   "cell_type": "code",
   "execution_count": 41,
   "metadata": {},
   "outputs": [
    {
     "name": "stdout",
     "output_type": "stream",
     "text": [
      "This class is about 'man's best friend' (Frederick II)!\n"
     ]
    }
   ],
   "source": [
    "pluto=Dogs()\n",
    "pluto.about()"
   ]
  },
  {
   "cell_type": "code",
   "execution_count": 42,
   "metadata": {},
   "outputs": [
    {
     "name": "stdout",
     "output_type": "stream",
     "text": [
      "This class is about cats!\n"
     ]
    }
   ],
   "source": [
    "figaro=Cats()\n",
    "figaro.about()"
   ]
  },
  {
   "cell_type": "markdown",
   "metadata": {},
   "source": [
    "# Properties vs. Getter y Setter\n",
    "La forma de asignar atributos en python es hacerlos públicos; contrario a lo que estamos acostrumbrados en otros lenguajes.<br>\n",
    "Al hacerlos privados, necesitamos métodos mutadores (getter y setter); que a veces se crean de forma automática en entornos de desarrollo. Veamos un ejemplo de la forma tipo java con getters y\n",
    "setters:"
   ]
  },
  {
   "cell_type": "code",
   "execution_count": 43,
   "metadata": {},
   "outputs": [],
   "source": [
    "class P:\n",
    "    def __init__(self,x):\n",
    "        self.__x=x\n",
    "    def get_x(self):\n",
    "        return self.__x\n",
    "    def set_x(self,x):\n",
    "        self.__x=x"
   ]
  },
  {
   "cell_type": "code",
   "execution_count": 44,
   "metadata": {
    "collapsed": true
   },
   "outputs": [],
   "source": [
    "p1=P(42)\n",
    "p2=P(4711)"
   ]
  },
  {
   "cell_type": "code",
   "execution_count": 45,
   "metadata": {},
   "outputs": [
    {
     "data": {
      "text/plain": [
       "42"
      ]
     },
     "execution_count": 45,
     "metadata": {},
     "output_type": "execute_result"
    }
   ],
   "source": [
    "p1.get_x()"
   ]
  },
  {
   "cell_type": "code",
   "execution_count": 46,
   "metadata": {
    "collapsed": true
   },
   "outputs": [],
   "source": [
    "p1.set_x(47)"
   ]
  },
  {
   "cell_type": "code",
   "execution_count": 47,
   "metadata": {},
   "outputs": [
    {
     "data": {
      "text/plain": [
       "47"
      ]
     },
     "execution_count": 47,
     "metadata": {},
     "output_type": "execute_result"
    }
   ],
   "source": [
    "p1.get_x()"
   ]
  },
  {
   "cell_type": "code",
   "execution_count": 48,
   "metadata": {
    "collapsed": true
   },
   "outputs": [],
   "source": [
    "p1.set_x(p1.get_x()+p2.get_x())"
   ]
  },
  {
   "cell_type": "code",
   "execution_count": 49,
   "metadata": {},
   "outputs": [
    {
     "data": {
      "text/plain": [
       "4758"
      ]
     },
     "execution_count": 49,
     "metadata": {},
     "output_type": "execute_result"
    }
   ],
   "source": [
    "p1.get_x()"
   ]
  },
  {
   "cell_type": "markdown",
   "metadata": {},
   "source": [
    "Veamos ahora la forma Python:"
   ]
  },
  {
   "cell_type": "code",
   "execution_count": 50,
   "metadata": {
    "collapsed": true
   },
   "outputs": [],
   "source": [
    "#public\n",
    "class P:\n",
    "    def __init__(self,x):\n",
    "        self.x=x"
   ]
  },
  {
   "cell_type": "code",
   "execution_count": 51,
   "metadata": {},
   "outputs": [
    {
     "data": {
      "text/plain": [
       "4758"
      ]
     },
     "execution_count": 51,
     "metadata": {},
     "output_type": "execute_result"
    }
   ],
   "source": [
    "p1=P(42)\n",
    "p2=P(4711)\n",
    "p1.x=47\n",
    "p1.x=p1.x+p2.x\n",
    "p1.x"
   ]
  },
  {
   "cell_type": "markdown",
   "metadata": {},
   "source": [
    "Pero no hay encapsulación, y los datos se pueden cambiar, pudiendo afectar la interface.  Veamos un ejemplo: en este caso el setter define el valor como cero para los valores menores de cero y 1000 para todo número mayor de 1000."
   ]
  },
  {
   "cell_type": "code",
   "execution_count": 52,
   "metadata": {
    "collapsed": true
   },
   "outputs": [],
   "source": [
    "class P:\n",
    "\n",
    "    def __init__(self,x):\n",
    "        self.set_x(x)\n",
    "\n",
    "    def get_x(self):\n",
    "        return self.__x\n",
    "\n",
    "    def set_x(self, x):\n",
    "        if x < 0:\n",
    "            self.__x = 0\n",
    "        elif x > 1000:\n",
    "            self.__x = 1000\n",
    "        else:\n",
    "            self.__x = x\n",
    "            "
   ]
  },
  {
   "cell_type": "code",
   "execution_count": 53,
   "metadata": {},
   "outputs": [
    {
     "data": {
      "text/plain": [
       "1000"
      ]
     },
     "execution_count": 53,
     "metadata": {},
     "output_type": "execute_result"
    }
   ],
   "source": [
    "p1=P(1203)\n",
    "p1.get_x()"
   ]
  },
  {
   "cell_type": "code",
   "execution_count": 54,
   "metadata": {},
   "outputs": [
    {
     "data": {
      "text/plain": [
       "0"
      ]
     },
     "execution_count": 54,
     "metadata": {},
     "output_type": "execute_result"
    }
   ],
   "source": [
    "p2=P(-123)\n",
    "p2.get_x()"
   ]
  },
  {
   "cell_type": "markdown",
   "metadata": {},
   "source": [
    "En este caso, el setter define el valor, si lo hacemos con atributos públicos, entonces se puede romper la interfaz, si alguien usa:<br>\n",
    "p1.x=2017"
   ]
  },
  {
   "cell_type": "markdown",
   "metadata": {},
   "source": [
    "Veamos como lo soluciona Python:"
   ]
  },
  {
   "cell_type": "code",
   "execution_count": 55,
   "metadata": {
    "collapsed": true
   },
   "outputs": [],
   "source": [
    "class P:\n",
    "\n",
    "    def __init__(self,x):\n",
    "        self.x = x\n",
    "\n",
    "    @property\n",
    "    def x(self):\n",
    "        return self.__x\n",
    "\n",
    "    @x.setter\n",
    "    def x(self, x):\n",
    "        if x < 0:\n",
    "            self.__x = 0\n",
    "        elif x > 1000:\n",
    "            self.__x = 1000\n",
    "        else:\n",
    "            self.__x = x"
   ]
  },
  {
   "cell_type": "code",
   "execution_count": 56,
   "metadata": {},
   "outputs": [
    {
     "data": {
      "text/plain": [
       "1000"
      ]
     },
     "execution_count": 56,
     "metadata": {},
     "output_type": "execute_result"
    }
   ],
   "source": [
    "p1=P(2017)\n",
    "p1.x"
   ]
  },
  {
   "cell_type": "code",
   "execution_count": 57,
   "metadata": {},
   "outputs": [
    {
     "data": {
      "text/plain": [
       "1000"
      ]
     },
     "execution_count": 57,
     "metadata": {},
     "output_type": "execute_result"
    }
   ],
   "source": [
    "p1.x=2017\n",
    "p1.x"
   ]
  },
  {
   "cell_type": "markdown",
   "metadata": {},
   "source": [
    "Notan algo raro en el código o indevido?  "
   ]
  },
  {
   "cell_type": "markdown",
   "metadata": {},
   "source": [
    "### Ejemplo\n",
    "Un ejemplo final, con atributos internos no accesibles al usuario:"
   ]
  },
  {
   "cell_type": "code",
   "execution_count": 58,
   "metadata": {
    "collapsed": true
   },
   "outputs": [],
   "source": [
    "class Robot:\n",
    "\n",
    "    def __init__(self, name, build_year, lk = 0.5, lp = 0.5 ):\n",
    "        self.name = name\n",
    "        self.build_year = build_year\n",
    "        self.__potential_physical = lk\n",
    "        self.__potential_psychic = lp\n",
    "\n",
    "    @property\n",
    "    def condition(self):\n",
    "        s = self.__potential_physical + self.__potential_psychic\n",
    "        if s <= -1:\n",
    "           return \"I feel miserable!\"\n",
    "        elif s <= 0:\n",
    "           return \"I feel bad!\"\n",
    "        elif s <= 0.5:\n",
    "           return \"Could be worse!\"\n",
    "        elif s <= 1:\n",
    "           return \"Seems to be okay!\"\n",
    "        else:\n",
    "           return \"Great!\" "
   ]
  },
  {
   "cell_type": "code",
   "execution_count": 59,
   "metadata": {
    "collapsed": true
   },
   "outputs": [],
   "source": [
    "x=Robot(\"C3P0\", 1977, -0.4,-0.7)\n",
    "y=Robot(\"R2D2\", 1977, 0.5,0.6)"
   ]
  },
  {
   "cell_type": "code",
   "execution_count": 60,
   "metadata": {},
   "outputs": [
    {
     "name": "stdout",
     "output_type": "stream",
     "text": [
      "I feel miserable!\n"
     ]
    }
   ],
   "source": [
    "print(x.condition)"
   ]
  },
  {
   "cell_type": "code",
   "execution_count": 61,
   "metadata": {},
   "outputs": [
    {
     "name": "stdout",
     "output_type": "stream",
     "text": [
      "Great!\n"
     ]
    }
   ],
   "source": [
    "print(y.condition)"
   ]
  },
  {
   "cell_type": "markdown",
   "metadata": {},
   "source": [
    "lk y lp son atributos internos no accesibles por el usurio, que no necesita saberlos."
   ]
  },
  {
   "cell_type": "markdown",
   "metadata": {},
   "source": [
    "# Herencia"
   ]
  },
  {
   "cell_type": "markdown",
   "metadata": {},
   "source": [
    "![Inheritance](./vehicles_classification.png)"
   ]
  },
  {
   "cell_type": "markdown",
   "metadata": {},
   "source": [
    "Sintaxis:<br>\n",
    "class DerivedClassName(BaseClassName):<br>\n",
    "    pass"
   ]
  },
  {
   "cell_type": "code",
   "execution_count": 62,
   "metadata": {
    "collapsed": true
   },
   "outputs": [],
   "source": [
    "class Person:\n",
    "    def __init__(self, first, last):\n",
    "        self.firstname = first\n",
    "        self.lastname = last\n",
    "    def Name(self):\n",
    "        return self.firstname + \" \" + self.lastname"
   ]
  },
  {
   "cell_type": "code",
   "execution_count": 63,
   "metadata": {
    "collapsed": true
   },
   "outputs": [],
   "source": [
    "class Employee(Person):\n",
    "    def __init__(self, first, last, staffnum):\n",
    "        Person.__init__(self,first,last)\n",
    "        self.staffnumber = staffnum\n",
    "        \n",
    "    def Get_Employee(self):\n",
    "        return self.Name() +\", \"+self.staffnumber\n",
    "    "
   ]
  },
  {
   "cell_type": "code",
   "execution_count": 64,
   "metadata": {
    "collapsed": true
   },
   "outputs": [],
   "source": [
    "x=Person(\"Marge\",\"Simpson\")\n",
    "y=Employee(\"Homer\",\"Simpson\",\"NPP666\")\n",
    "z=Person(\"Ned\",\"Flanders\")\n"
   ]
  },
  {
   "cell_type": "code",
   "execution_count": 65,
   "metadata": {},
   "outputs": [
    {
     "name": "stdout",
     "output_type": "stream",
     "text": [
      "Homer Simpson, NPP666\n"
     ]
    }
   ],
   "source": [
    "print(y.Get_Employee())"
   ]
  },
  {
   "cell_type": "code",
   "execution_count": 66,
   "metadata": {},
   "outputs": [
    {
     "name": "stdout",
     "output_type": "stream",
     "text": [
      "Marge Simpson\n"
     ]
    }
   ],
   "source": [
    "print(x.Name())"
   ]
  },
  {
   "cell_type": "markdown",
   "metadata": {},
   "source": [
    "Quizá mejor con el método \\__str__"
   ]
  },
  {
   "cell_type": "code",
   "execution_count": 67,
   "metadata": {
    "collapsed": true
   },
   "outputs": [],
   "source": [
    "class Person:\n",
    "\n",
    "    def __init__(self, first, last):\n",
    "        self.firstname = first\n",
    "        self.lastname = last\n",
    "\n",
    "    def __str__(self):\n",
    "        return self.firstname + \" \" + self.lastname\n",
    "\n",
    "class Employee(Person):\n",
    "\n",
    "    def __init__(self, first, last, staffnum):\n",
    "        super().__init__(first, last)\n",
    "        self.staffnumber = staffnum\n",
    "    def __str__(self):\n",
    "        return super().__str__() + \", \" +  self.staffnumber"
   ]
  },
  {
   "cell_type": "code",
   "execution_count": 68,
   "metadata": {},
   "outputs": [
    {
     "name": "stdout",
     "output_type": "stream",
     "text": [
      "Homer Simpson, NPP666\n"
     ]
    }
   ],
   "source": [
    "x=Person(\"Marge\",\"Simpson\")\n",
    "y=Employee(\"Homer\",\"Simpson\",\"NPP666\")\n",
    "z=Person(\"Ned\",\"Flanders\")\n",
    "print(y)"
   ]
  },
  {
   "cell_type": "code",
   "execution_count": 69,
   "metadata": {},
   "outputs": [
    {
     "name": "stdout",
     "output_type": "stream",
     "text": [
      "Marge Simpson\n"
     ]
    }
   ],
   "source": [
    "print(x)"
   ]
  },
  {
   "cell_type": "code",
   "execution_count": 70,
   "metadata": {},
   "outputs": [],
   "source": [
    " class Person:\n",
    "    def __init__(self, first, last, age):\n",
    "        self.firstname = first\n",
    "        self.lastname = last\n",
    "        self.age = age\n",
    "\n",
    "    def __str__(self):\n",
    "        return self.firstname + \" \" + self.lastname + \", \" + str(self.age)\n"
   ]
  },
  {
   "cell_type": "code",
   "execution_count": 71,
   "metadata": {},
   "outputs": [],
   "source": [
    "class Employee(Person):\n",
    "    def __init__(self,first,last,age,staffnum):\n",
    "        super().__init__(first,last,age)\n",
    "        self.staffnumber = staffnum\n",
    "    def __str__(self):\n",
    "        return super().__str__()+\", \"+self.staffnumber"
   ]
  },
  {
   "cell_type": "code",
   "execution_count": 72,
   "metadata": {},
   "outputs": [
    {
     "name": "stdout",
     "output_type": "stream",
     "text": [
      "Marge Simpson, 36\n"
     ]
    }
   ],
   "source": [
    "x = Person(\"Marge\", \"Simpson\", 36)\n",
    "y = Employee(\"Homer\", \"Simpson\", 38, \"1007\")\n",
    "print(x)"
   ]
  },
  {
   "cell_type": "code",
   "execution_count": 73,
   "metadata": {},
   "outputs": [
    {
     "name": "stdout",
     "output_type": "stream",
     "text": [
      "Homer Simpson, 38, 1007\n"
     ]
    }
   ],
   "source": [
    "print(y)"
   ]
  },
  {
   "cell_type": "code",
   "execution_count": 74,
   "metadata": {
    "collapsed": true
   },
   "outputs": [],
   "source": [
    "def successor(number):\n",
    "    return number+1\n"
   ]
  },
  {
   "cell_type": "code",
   "execution_count": 75,
   "metadata": {},
   "outputs": [
    {
     "data": {
      "text/plain": [
       "47"
      ]
     },
     "execution_count": 75,
     "metadata": {},
     "output_type": "execute_result"
    }
   ],
   "source": [
    "successor(46)"
   ]
  },
  {
   "cell_type": "code",
   "execution_count": 76,
   "metadata": {},
   "outputs": [
    {
     "ename": "TypeError",
     "evalue": "can only concatenate list (not \"int\") to list",
     "output_type": "error",
     "traceback": [
      "\u001b[0;31m---------------------------------------------------------------------------\u001b[0m",
      "\u001b[0;31mTypeError\u001b[0m                                 Traceback (most recent call last)",
      "\u001b[0;32m<ipython-input-76-9c46e648d954>\u001b[0m in \u001b[0;36m<module>\u001b[0;34m()\u001b[0m\n\u001b[0;32m----> 1\u001b[0;31m \u001b[0msuccessor\u001b[0m\u001b[0;34m(\u001b[0m\u001b[0;34m[\u001b[0m\u001b[0;36m46\u001b[0m\u001b[0;34m,\u001b[0m\u001b[0;36m38\u001b[0m\u001b[0;34m]\u001b[0m\u001b[0;34m)\u001b[0m\u001b[0;34m\u001b[0m\u001b[0m\n\u001b[0m",
      "\u001b[0;32m<ipython-input-74-075dbb603014>\u001b[0m in \u001b[0;36msuccessor\u001b[0;34m(number)\u001b[0m\n\u001b[1;32m      1\u001b[0m \u001b[0;32mdef\u001b[0m \u001b[0msuccessor\u001b[0m\u001b[0;34m(\u001b[0m\u001b[0mnumber\u001b[0m\u001b[0;34m)\u001b[0m\u001b[0;34m:\u001b[0m\u001b[0;34m\u001b[0m\u001b[0m\n\u001b[0;32m----> 2\u001b[0;31m     \u001b[0;32mreturn\u001b[0m \u001b[0mnumber\u001b[0m\u001b[0;34m+\u001b[0m\u001b[0;36m1\u001b[0m\u001b[0;34m\u001b[0m\u001b[0m\n\u001b[0m",
      "\u001b[0;31mTypeError\u001b[0m: can only concatenate list (not \"int\") to list"
     ]
    }
   ],
   "source": [
    "successor([46,38])"
   ]
  },
  {
   "cell_type": "markdown",
   "metadata": {},
   "source": [
    "Lo veremos en la próxima clase..."
   ]
  }
 ],
 "metadata": {
  "kernelspec": {
   "display_name": "Python 3",
   "language": "python",
   "name": "python3"
  },
  "language_info": {
   "codemirror_mode": {
    "name": "ipython",
    "version": 3
   },
   "file_extension": ".py",
   "mimetype": "text/x-python",
   "name": "python",
   "nbconvert_exporter": "python",
   "pygments_lexer": "ipython3",
   "version": "3.6.1"
  }
 },
 "nbformat": 4,
 "nbformat_minor": 2
}
