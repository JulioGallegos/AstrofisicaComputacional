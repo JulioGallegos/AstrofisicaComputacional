{
 "cells": [
  {
   "cell_type": "markdown",
   "metadata": {},
   "source": [
    "# Métodos Mágicos\n",
    "\n",
    "No tienen nada que ver con magia, ya los conocemos son los métodos tipo \\_\\_input\\_\\_; que se conocen como métodos _dunder_.\n",
    "Del inglés \"double underscore __init__ double underscore\"\n",
    "Estos métodos no son invocados directamente Python lo hace \"behind the scenes\".\n",
    "Veremos ahora como están relacionados estos métodos dunder con la sobrecarga de operadores."
   ]
  },
  {
   "cell_type": "code",
   "execution_count": 1,
   "metadata": {},
   "outputs": [
    {
     "data": {
      "text/plain": [
       "9"
      ]
     },
     "execution_count": 1,
     "metadata": {},
     "output_type": "execute_result"
    }
   ],
   "source": [
    "4+5"
   ]
  },
  {
   "cell_type": "code",
   "execution_count": 2,
   "metadata": {},
   "outputs": [
    {
     "data": {
      "text/plain": [
       "8.6"
      ]
     },
     "execution_count": 2,
     "metadata": {},
     "output_type": "execute_result"
    }
   ],
   "source": [
    "3.8+4.8"
   ]
  },
  {
   "cell_type": "code",
   "execution_count": 3,
   "metadata": {},
   "outputs": [
    {
     "data": {
      "text/plain": [
       "'Pedro y el Lobo'"
      ]
     },
     "execution_count": 3,
     "metadata": {},
     "output_type": "execute_result"
    }
   ],
   "source": [
    "\"Pedro\" + \" \" + \"y el Lobo\""
   ]
  },
  {
   "cell_type": "code",
   "execution_count": 4,
   "metadata": {},
   "outputs": [
    {
     "data": {
      "text/plain": [
       "[3, 6, 9, 7, 11, 13]"
      ]
     },
     "execution_count": 4,
     "metadata": {},
     "output_type": "execute_result"
    }
   ],
   "source": [
    "[3,6,9]+[7,11,13]"
   ]
  },
  {
   "cell_type": "markdown",
   "metadata": {},
   "source": [
    "### Operadores Binarios\n",
    "| Operador   |      Método      |\n",
    "|:------------|:------------------|\n",
    "| + | object.\\_\\_add\\_\\_(self,other) |\n",
    "| - | object.\\_\\_sub\\_\\_(self,other) |\n",
    "| \\* | object.\\_\\_mul\\_\\_(self,other) |\n",
    "| / | object.\\_\\_div\\_\\_(self,other) |\n",
    "| // | object.\\_\\_floordiv\\_\\_(self,other) |\n",
    "| \\*\\* | object.\\_\\_pow\\_\\_(self,other[,modulo]) |\n",
    "| % | object.\\_\\_mod\\_\\_(self,other) |\n",
    "| << | object.\\_\\_lshift\\_\\_(self,other) |\n",
    "| >> | object.\\_\\_rshift\\_\\_(self,other) |\n",
    "| & | object.\\_\\_and\\_\\_(self,other) |\n",
    "| ^ | object.\\_\\_xor\\_\\_(self,other) |\n",
    "| &#124; | object.\\_\\_or\\_\\_(self,other) |"
   ]
  },
  {
   "cell_type": "markdown",
   "metadata": {},
   "source": [
    "### Operadores Extendidos\n",
    "| Operador   |      Método      |\n",
    "|:------------|:------------------|\n",
    "| += | object.\\_\\_iadd\\_\\_(self,other) |\n",
    "| -= | object.\\_\\_isub\\_\\_(self,other) |\n",
    "| \\*= | object.\\_\\_imul\\_\\_(self,other) |\n",
    "| /= | object.\\_\\_idiv\\_\\_(self,other) |\n",
    "| //= | object.\\_\\_ifloordiv\\_\\_(self,other) |\n",
    "| \\*\\*= | object.\\_\\_ipow\\_\\_(self,other[,modulo]) |\n",
    "| %= | object.\\_\\_imod\\_\\_(self,other) |\n",
    "| <<= | object.\\_\\_ilshift\\_\\_(self,other) |\n",
    "| >>= | object.\\_\\_irshift\\_\\_(self,other) |\n",
    "| &= | object.\\_\\_iand\\_\\_(self,other) |\n",
    "| ^= | object.\\_\\_ixor\\_\\_(self,other) |\n",
    "| &#124;= | object.\\_\\_ior\\_\\_(self,other) |\n"
   ]
  },
  {
   "cell_type": "markdown",
   "metadata": {},
   "source": [
    "### Operadores unitarios\n",
    "| Operador   |      Método      |\n",
    "|:------------|:------------------|\n",
    "| -| object.\\_\\_neg\\_\\_(self) |\n",
    "| +| object.\\_\\_pos\\_\\_(self) |\n",
    "| abs()| object.\\_\\_abs\\_\\_(self) |\n",
    "| ~| object.\\_\\_invert\\_\\_(self) |\n",
    "| complex()| object.\\_\\_complex\\_\\_(self) |\n",
    "| int()| object.\\_\\_int\\_\\_(self) |\n",
    "| long()| object.\\_\\_long\\_\\_(self) |\n",
    "| float()| object.\\_\\_float\\_\\_(self) |\n",
    "| oct()| object.\\_\\_oct\\_\\_(self) |\n",
    "| hex()| object.\\_\\_hex\\_\\_(self) |"
   ]
  },
  {
   "cell_type": "markdown",
   "metadata": {},
   "source": [
    "### Operadores Comparativos\n",
    "| Operador   |      Método      |\n",
    "|:------------|:------------------|\n",
    "|<| object.\\_\\_lt\\_\\_(self,other) |\n",
    "|>| object.\\_\\_gt\\_\\_(self,other) |\n",
    "|==| object.\\_\\_eq\\_\\_(self,other) |\n",
    "|!=| object.\\_\\_ne\\_\\_(self,other) |\n",
    "|>=| object.\\_\\_ge\\_\\_(self,other) |\n",
    "|<=| object.\\_\\_le\\_\\_(self,other) |"
   ]
  },
  {
   "cell_type": "markdown",
   "metadata": {},
   "source": [
    "### Finalmente un ejemplo\n",
    "En clase Length vamos a demostrar como sobrecargar un operador (+) para nuestra propia clase, vamos a sobrecargar el dunder \\_\\_add\\_\\_."
   ]
  },
  {
   "cell_type": "markdown",
   "metadata": {},
   "source": [
    "El objetivo es utilizar la clase de la siguiente forma:\n",
    "\n",
    "\n",
    "L=Length\n",
    "print(L(2.56,\"m\")+L(3,\"yd\")+L(7.8,\"in\")+L(7.03,\"cm\"))\n",
    "\n",
    "y que nos de un resultado en metros"
   ]
  },
  {
   "cell_type": "code",
   "execution_count": 26,
   "metadata": {
    "collapsed": true
   },
   "outputs": [],
   "source": [
    "class Length:\n",
    "\n",
    "    __metric = {\"mm\" : 0.001, \"cm\" : 0.01, \"m\" : 1, \"km\" : 1000,\n",
    "                \"in\" : 0.0254, \"ft\" : 0.3048, \"yd\" : 0.9144,\n",
    "                \"mi\" : 1609.344 }\n",
    "    \n",
    "    def __init__(self, value, unit = \"m\" ):\n",
    "        self.value = value\n",
    "        self.unit = unit\n",
    "    \n",
    "    def Converse2Metres(self):\n",
    "        return self.value * Length.__metric[self.unit]\n",
    "    \n",
    "    def __add__(self, other):\n",
    "        l = self.Converse2Metres() + other.Converse2Metres()\n",
    "        return Length(l / Length.__metric[self.unit], self.unit )\n",
    "    \n",
    "    def __iadd__(self, other):\n",
    "        l = self.Converse2Metres() + other.Converse2Metres()\n",
    "        self.value = l / Length.__metric[self.unit]\n",
    "        return self\n",
    "    \n",
    "    def __str__(self):\n",
    "        return str(self.Converse2Metres())\n",
    "    \n",
    "    def __repr__(self):\n",
    "        return \"Length(\" + str(self.value) + \", '\" + self.unit + \"')\"\n",
    "    \n",
    "    "
   ]
  },
  {
   "cell_type": "code",
   "execution_count": 19,
   "metadata": {},
   "outputs": [
    {
     "name": "stdout",
     "output_type": "stream",
     "text": [
      "4\n",
      "4\n"
     ]
    }
   ],
   "source": [
    "x = Length(4)\n",
    "print(x)\n",
    "y=eval(repr(x))\n",
    "print(y)"
   ]
  },
  {
   "cell_type": "code",
   "execution_count": 22,
   "metadata": {},
   "outputs": [
    {
     "name": "stdout",
     "output_type": "stream",
     "text": [
      "Length(49.37007874015748, 'in')\n",
      "1.254\n"
     ]
    }
   ],
   "source": [
    "z=Length(10,'in')+Length(1)\n",
    "print(repr(z))\n",
    "print(z)"
   ]
  },
  {
   "cell_type": "code",
   "execution_count": 30,
   "metadata": {},
   "outputs": [
    {
     "name": "stdout",
     "output_type": "stream",
     "text": [
      "2.508\n"
     ]
    }
   ],
   "source": [
    "x+=Length(1)\n",
    "x += Length(10,\"in\")\n",
    "print(x)"
   ]
  },
  {
   "cell_type": "markdown",
   "metadata": {},
   "source": [
    "Pero deberíamos ser capaces de escribir x+=1 o Length(4,\"in\")+1 en lugar de tener que agregar el Length(1).  Tenemos que modificar los dunder add y iadd."
   ]
  },
  {
   "cell_type": "code",
   "execution_count": 34,
   "metadata": {
    "collapsed": true
   },
   "outputs": [],
   "source": [
    "class Length:\n",
    "\n",
    "    __metric = {\"mm\" : 0.001, \"cm\" : 0.01, \"m\" : 1, \"km\" : 1000,\n",
    "                \"in\" : 0.0254, \"ft\" : 0.3048, \"yd\" : 0.9144,\n",
    "                \"mi\" : 1609.344 }\n",
    "    \n",
    "    def __init__(self, value, unit = \"m\" ):\n",
    "        self.value = value\n",
    "        self.unit = unit\n",
    "    \n",
    "    def Converse2Metres(self):\n",
    "        return self.value * Length.__metric[self.unit]\n",
    "    \n",
    "    def __add__(self, other):\n",
    "        if type(other) == int or type(other) == float:\n",
    "            l = self.Converse2Metres() + other\n",
    "        else:\n",
    "            l = self.Converse2Metres() + other.Converse2Metres()\n",
    "        return Length(l / Length.__metric[self.unit], self.unit )\n",
    "    \n",
    "    def __iadd__(self, other):\n",
    "        if type(other) == int or type(other) == float:\n",
    "            l = self.Converse2Metres() + other\n",
    "        else:\n",
    "            l = self.Converse2Metres() + other.Converse2Metres()\n",
    "        self.value = l / Length.__metric[self.unit]\n",
    "        return self\n",
    "    \n",
    "    def __str__(self):\n",
    "        return str(self.Converse2Metres())\n",
    "    \n",
    "    def __repr__(self):\n",
    "        return \"Length(\" + str(self.value) + \", '\" + self.unit + \"')\"\n",
    "    "
   ]
  },
  {
   "cell_type": "code",
   "execution_count": 36,
   "metadata": {},
   "outputs": [
    {
     "name": "stdout",
     "output_type": "stream",
     "text": [
      "102.7432\n"
     ]
    }
   ],
   "source": [
    "x=Length(3,\"yd\")+100\n",
    "print(x)"
   ]
  },
  {
   "cell_type": "code",
   "execution_count": 37,
   "metadata": {},
   "outputs": [
    {
     "ename": "TypeError",
     "evalue": "unsupported operand type(s) for +: 'int' and 'Length'",
     "output_type": "error",
     "traceback": [
      "\u001b[0;31m---------------------------------------------------------------------------\u001b[0m",
      "\u001b[0;31mTypeError\u001b[0m                                 Traceback (most recent call last)",
      "\u001b[0;32m<ipython-input-37-2300f20c63b9>\u001b[0m in \u001b[0;36m<module>\u001b[0;34m()\u001b[0m\n\u001b[1;32m      2\u001b[0m \u001b[0;31m### y es que nuestro primer número debe ser Length, porque sino\u001b[0m\u001b[0;34m\u001b[0m\u001b[0;34m\u001b[0m\u001b[0m\n\u001b[1;32m      3\u001b[0m \u001b[0;31m### Python ejecuta el __add__ de int\u001b[0m\u001b[0;34m\u001b[0m\u001b[0;34m\u001b[0m\u001b[0m\n\u001b[0;32m----> 4\u001b[0;31m \u001b[0mx\u001b[0m\u001b[0;34m=\u001b[0m\u001b[0;36m100\u001b[0m\u001b[0;34m+\u001b[0m\u001b[0mLength\u001b[0m\u001b[0;34m(\u001b[0m\u001b[0;36m3\u001b[0m\u001b[0;34m,\u001b[0m\u001b[0;34m\"yd\"\u001b[0m\u001b[0;34m)\u001b[0m\u001b[0;34m\u001b[0m\u001b[0m\n\u001b[0m",
      "\u001b[0;31mTypeError\u001b[0m: unsupported operand type(s) for +: 'int' and 'Length'"
     ]
    }
   ],
   "source": [
    "### existe una limitación\n",
    "### y es que nuestro primer número debe ser Length, porque sino\n",
    "### Python ejecuta el __add__ de int\n",
    "x=100+Length(3,\"yd\")"
   ]
  },
  {
   "cell_type": "markdown",
   "metadata": {},
   "source": [
    "Tenemos que implementar un nuevo método \\_\\_radd\\_\\_, que ejecutará primero el \\_\\_add\\_\\_ de int y si ve que esto causa problema, ejecutará el \\_\\_add\\_\\_ de Length."
   ]
  },
  {
   "cell_type": "code",
   "execution_count": 38,
   "metadata": {
    "collapsed": true
   },
   "outputs": [],
   "source": [
    "class Length:\n",
    "\n",
    "    __metric = {\"mm\" : 0.001, \"cm\" : 0.01, \"m\" : 1, \"km\" : 1000,\n",
    "                \"in\" : 0.0254, \"ft\" : 0.3048, \"yd\" : 0.9144,\n",
    "                \"mi\" : 1609.344 }\n",
    "    \n",
    "    def __init__(self, value, unit = \"m\" ):\n",
    "        self.value = value\n",
    "        self.unit = unit\n",
    "    \n",
    "    def Converse2Metres(self):\n",
    "        return self.value * Length.__metric[self.unit]\n",
    "    \n",
    "    def __add__(self, other):\n",
    "        if type(other) == int or type(other) == float:\n",
    "            l = self.Converse2Metres() + other\n",
    "        else:\n",
    "            l = self.Converse2Metres() + other.Converse2Metres()\n",
    "        return Length(l / Length.__metric[self.unit], self.unit )\n",
    "    \n",
    "    def __iadd__(self, other):\n",
    "        if type(other) == int or type(other) == float:\n",
    "            l = self.Converse2Metres() + other\n",
    "        else:\n",
    "            l = self.Converse2Metres() + other.Converse2Metres()\n",
    "        self.value = l / Length.__metric[self.unit]\n",
    "        return self\n",
    "    \n",
    "    def __radd__(self, other):\n",
    "        return Length.__add__(self,other)\n",
    "    ### la forma larga:\n",
    "    #def __radd__(self, other):\n",
    "    #    if type(other) == int or type(other) == float:\n",
    "    #        l = self.Converse2Metres() + otherLength.__radd__(Length(3, \"yd\"), 5)\n",
    "    #    else:\n",
    "    #        l = self.Converse2Metres() + other.Converse2Metres()\n",
    "    #    return Length(l / Length.__metric[self.unit], self.unit )\n",
    "    \n",
    "    def __str__(self):\n",
    "        return str(self.Converse2Metres())\n",
    "    \n",
    "    def __repr__(self):\n",
    "        return \"Length(\" + str(self.value) + \", '\" + self.unit + \"')\""
   ]
  },
  {
   "cell_type": "code",
   "execution_count": 40,
   "metadata": {},
   "outputs": [
    {
     "name": "stdout",
     "output_type": "stream",
     "text": [
      "102.7432\n"
     ]
    }
   ],
   "source": [
    "x=100+Length(3,\"yd\")\n",
    "# no causa error\n",
    "print(x)"
   ]
  },
  {
   "cell_type": "markdown",
   "metadata": {
    "collapsed": true
   },
   "source": [
    "## Clases Estandares como Clases Base\n",
    "\n",
    "Es posible utilizar clases estandares como int, float, dict o list como clases base. \n",
    "Extendemos la clase list agregando un método push."
   ]
  },
  {
   "cell_type": "code",
   "execution_count": 41,
   "metadata": {
    "collapsed": true
   },
   "outputs": [],
   "source": [
    "class Plist(list):\n",
    "    def __init__(self,l):\n",
    "        list.__init__(self,l)\n",
    "    \n",
    "    def push(self, item):\n",
    "        self.append(item)\n",
    "        "
   ]
  },
  {
   "cell_type": "code",
   "execution_count": 43,
   "metadata": {},
   "outputs": [
    {
     "name": "stdout",
     "output_type": "stream",
     "text": [
      "[3, 4, 47]\n"
     ]
    }
   ],
   "source": [
    "x=Plist([3,4])\n",
    "x.push(47)\n",
    "print(x)"
   ]
  },
  {
   "cell_type": "code",
   "execution_count": null,
   "metadata": {
    "collapsed": true
   },
   "outputs": [],
   "source": []
  }
 ],
 "metadata": {
  "kernelspec": {
   "display_name": "Python 3",
   "language": "python",
   "name": "python3"
  },
  "language_info": {
   "codemirror_mode": {
    "name": "ipython",
    "version": 3
   },
   "file_extension": ".py",
   "mimetype": "text/x-python",
   "name": "python",
   "nbconvert_exporter": "python",
   "pygments_lexer": "ipython3",
   "version": "3.6.1"
  }
 },
 "nbformat": 4,
 "nbformat_minor": 2
}
