{
 "cells": [
  {
   "cell_type": "markdown",
   "metadata": {},
   "source": [
    "# Menu, Submenus, Checkmenus, Status Bar"
   ]
  },
  {
   "cell_type": "code",
   "execution_count": null,
   "metadata": {
    "collapsed": true
   },
   "outputs": [],
   "source": [
    "import sys\n",
    "from PyQt5.QtWidgets import QMainWindow, QApplication\n",
    "\n",
    "\n",
    "class Example(QMainWindow):\n",
    "    \n",
    "    def __init__(self):\n",
    "        super().__init__()\n",
    "        \n",
    "        self.initUI()\n",
    "        \n",
    "        \n",
    "    def initUI(self):               \n",
    "        \n",
    "        self.statusBar().showMessage('Ready')\n",
    "        \n",
    "        self.setGeometry(300, 300, 250, 150)\n",
    "        self.setWindowTitle('Statusbar')    \n",
    "        self.show()"
   ]
  },
  {
   "cell_type": "code",
   "execution_count": null,
   "metadata": {},
   "outputs": [],
   "source": [
    "app = QApplication(sys.argv)\n",
    "ex = Example()\n",
    "sys.exit(app.exec_())"
   ]
  },
  {
   "cell_type": "code",
   "execution_count": null,
   "metadata": {
    "collapsed": true
   },
   "outputs": [],
   "source": [
    "import sys\n",
    "from PyQt5.QtWidgets import QMainWindow, QAction, QMenu, QApplication\n",
    "\n",
    "class Example(QMainWindow):\n",
    "    \n",
    "    def __init__(self):\n",
    "        super().__init__()\n",
    "        \n",
    "        self.initUI()\n",
    "        \n",
    "        \n",
    "    def initUI(self):         \n",
    "        \n",
    "        menubar = self.menuBar()\n",
    "        fileMenu = menubar.addMenu('File')\n",
    "        \n",
    "        impMenu = QMenu('Import', self)\n",
    "        impAct = QAction('Import mail', self) \n",
    "        impMenu.addAction(impAct)\n",
    "        \n",
    "        newAct = QAction('New', self)        \n",
    "        \n",
    "        fileMenu.addAction(newAct)\n",
    "        fileMenu.addMenu(impMenu)\n",
    "        \n",
    "        self.setGeometry(300, 300, 300, 200)\n",
    "        self.setWindowTitle('Submenu')    \n",
    "        self.show()"
   ]
  },
  {
   "cell_type": "code",
   "execution_count": null,
   "metadata": {},
   "outputs": [],
   "source": [
    "app = QApplication(sys.argv)\n",
    "ex = Example()\n",
    "sys.exit(app.exec_())"
   ]
  },
  {
   "cell_type": "code",
   "execution_count": null,
   "metadata": {
    "collapsed": true
   },
   "outputs": [],
   "source": [
    "import sys\n",
    "from PyQt5.QtWidgets import QMainWindow, QAction, QApplication\n",
    "\n",
    "class Example(QMainWindow):\n",
    "    \n",
    "    def __init__(self):\n",
    "        super().__init__()\n",
    "        \n",
    "        self.initUI()\n",
    "        \n",
    "        \n",
    "    def initUI(self):         \n",
    "        \n",
    "        self.statusbar = self.statusBar()\n",
    "        self.statusbar.showMessage('Ready')\n",
    "        \n",
    "        menubar = self.menuBar()\n",
    "        viewMenu = menubar.addMenu('View')\n",
    "        \n",
    "        viewStatAct = QAction('View statusbar', self, checkable=True)\n",
    "        viewStatAct.setStatusTip('View statusbar')\n",
    "        viewStatAct.setChecked(True)\n",
    "        viewStatAct.triggered.connect(self.toggleMenu)\n",
    "        \n",
    "        viewMenu.addAction(viewStatAct)\n",
    "        \n",
    "        self.setGeometry(300, 300, 300, 200)\n",
    "        self.setWindowTitle('Check menu')    \n",
    "        self.show()\n",
    "        \n",
    "    def toggleMenu(self, state):\n",
    "        \n",
    "        if state:\n",
    "            self.statusbar.show()\n",
    "        else:\n",
    "            self.statusbar.hide()"
   ]
  },
  {
   "cell_type": "code",
   "execution_count": null,
   "metadata": {},
   "outputs": [],
   "source": [
    "app = QApplication(sys.argv)\n",
    "ex = Example()\n",
    "sys.exit(app.exec_())"
   ]
  },
  {
   "cell_type": "code",
   "execution_count": null,
   "metadata": {
    "collapsed": true
   },
   "outputs": [],
   "source": [
    "import sys\n",
    "from PyQt5.QtWidgets import QMainWindow, QTextEdit, QAction, QApplication\n",
    "from PyQt5.QtGui import QIcon\n",
    "\n",
    "\n",
    "class Example(QMainWindow):\n",
    "    \n",
    "    def __init__(self):\n",
    "        super().__init__()\n",
    "        \n",
    "        self.initUI()\n",
    "        \n",
    "        \n",
    "    def initUI(self):               \n",
    "        \n",
    "        textEdit = QTextEdit()\n",
    "        self.setCentralWidget(textEdit)\n",
    "\n",
    "        \n",
    "        \n",
    "        \n",
    "        exitAct = QAction(QIcon('lpf.ico'), 'Exit', self)\n",
    "        exitAct.setShortcut('Ctrl+Q')\n",
    "        exitAct.setStatusTip('Exit application')\n",
    "        exitAct.triggered.connect(self.close)\n",
    "\n",
    "        self.statusBar()\n",
    "        \n",
    "        menubar = self.menuBar()\n",
    "        fileMenu = menubar.addMenu('&File')\n",
    "        fileMenu.addAction(exitAct)\n",
    "        \n",
    "        toolbar = self.addToolBar('Exit')\n",
    "        toolbar.addAction(exitAct)\n",
    "        \n",
    "        self.setGeometry(300, 300, 350, 250)\n",
    "        self.setWindowTitle('Main window')    \n",
    "        self.show()"
   ]
  },
  {
   "cell_type": "code",
   "execution_count": null,
   "metadata": {},
   "outputs": [],
   "source": [
    "app = QApplication(sys.argv)\n",
    "ex = Example()\n",
    "sys.exit(app.exec_())"
   ]
  },
  {
   "cell_type": "markdown",
   "metadata": {},
   "source": [
    "# Layout"
   ]
  },
  {
   "cell_type": "code",
   "execution_count": null,
   "metadata": {
    "collapsed": true
   },
   "outputs": [],
   "source": [
    "import sys\n",
    "from PyQt5.QtWidgets import QWidget, QLabel, QApplication\n",
    "\n",
    "class Example_Layout1(QWidget):\n",
    "    \n",
    "    def __init__(self):\n",
    "        super().__init__()\n",
    "        \n",
    "        self.initUI()\n",
    "        \n",
    "        \n",
    "    def initUI(self):\n",
    "        \n",
    "        lbl1 = QLabel('UVG', self)\n",
    "        lbl1.move(15, 10)\n",
    "\n",
    "        lbl2 = QLabel('Astrofísica', self)\n",
    "        lbl2.move(35, 40)\n",
    "        \n",
    "        lbl3 = QLabel('Computacional', self)\n",
    "        lbl3.move(55, 70)        \n",
    "        \n",
    "        self.setGeometry(300, 300, 250, 150)\n",
    "        self.setWindowTitle('Absolute')    \n",
    "        self.show()\n"
   ]
  },
  {
   "cell_type": "code",
   "execution_count": null,
   "metadata": {},
   "outputs": [],
   "source": [
    "app = QApplication(sys.argv)\n",
    "ex = Example_Layout1()\n",
    "sys.exit(app.exec_())"
   ]
  },
  {
   "cell_type": "code",
   "execution_count": null,
   "metadata": {
    "collapsed": true
   },
   "outputs": [],
   "source": [
    "import sys\n",
    "from PyQt5.QtWidgets import (QWidget, QGridLayout, \n",
    "    QPushButton, QApplication)\n",
    "\n",
    "\n",
    "class Calc(QWidget):\n",
    "    \n",
    "    def __init__(self):\n",
    "        super().__init__()\n",
    "        \n",
    "        self.initUI()\n",
    "        \n",
    "        \n",
    "    def initUI(self):\n",
    "        \n",
    "        grid = QGridLayout()\n",
    "        self.setLayout(grid)\n",
    " \n",
    "        names = ['Cls', 'Bck', '', 'Close',\n",
    "                 '7', '8', '9', '/',\n",
    "                '4', '5', '6', '*',\n",
    "                 '1', '2', '3', '-',\n",
    "                '0', '.', '=', '+']\n",
    "        \n",
    "        positions = [(i,j) for i in range(5) for j in range(4)]\n",
    "        \n",
    "        for position, name in zip(positions, names):\n",
    "            \n",
    "            if name == '':\n",
    "                continue\n",
    "            button = QPushButton(name)\n",
    "            grid.addWidget(button, *position)\n",
    "            \n",
    "        self.move(300, 150)\n",
    "        self.setWindowTitle('Calculator')\n",
    "        self.show()"
   ]
  },
  {
   "cell_type": "code",
   "execution_count": null,
   "metadata": {},
   "outputs": [],
   "source": [
    "app=QApplication(sys.argv)\n",
    "ex=Calc()\n",
    "sys.exit(app.exec_())"
   ]
  },
  {
   "cell_type": "code",
   "execution_count": null,
   "metadata": {
    "collapsed": true
   },
   "outputs": [],
   "source": [
    "import sys\n",
    "from PyQt5.QtWidgets import (QWidget, QLabel, QLineEdit, \n",
    "    QTextEdit, QGridLayout, QApplication)\n",
    "\n",
    "class Editor(QWidget):\n",
    "    \n",
    "    def __init__(self):\n",
    "        super().__init__()\n",
    "        \n",
    "        self.initUI()\n",
    "        \n",
    "        \n",
    "    def initUI(self):\n",
    "        \n",
    "        title = QLabel('Title')\n",
    "        author = QLabel('Author')\n",
    "        review = QLabel('Review')\n",
    "\n",
    "        titleEdit = QLineEdit()\n",
    "        authorEdit = QLineEdit()\n",
    "        reviewEdit = QTextEdit()\n",
    "\n",
    "        grid = QGridLayout()\n",
    "        grid.setSpacing(10)\n",
    "\n",
    "        grid.addWidget(title, 1, 0)\n",
    "        grid.addWidget(titleEdit, 1, 1)\n",
    "\n",
    "        grid.addWidget(author, 2, 0)\n",
    "        grid.addWidget(authorEdit, 2, 1)\n",
    "\n",
    "        grid.addWidget(review, 3, 0)\n",
    "        grid.addWidget(reviewEdit, 3, 1, 5, 1)\n",
    "        \n",
    "        self.setLayout(grid) \n",
    "        \n",
    "        self.setGeometry(300, 300, 350, 300)\n",
    "        self.setWindowTitle('Review')    \n",
    "        self.show()\n",
    "        "
   ]
  },
  {
   "cell_type": "code",
   "execution_count": null,
   "metadata": {},
   "outputs": [],
   "source": [
    "app = QApplication(sys.argv)\n",
    "ex = Editor()\n",
    "sys.exit(app.exec_())"
   ]
  },
  {
   "cell_type": "markdown",
   "metadata": {},
   "source": [
    "# Eventos"
   ]
  },
  {
   "cell_type": "code",
   "execution_count": null,
   "metadata": {
    "collapsed": true
   },
   "outputs": [],
   "source": [
    "import sys\n",
    "from PyQt5.QtCore import Qt\n",
    "from PyQt5.QtWidgets import (QWidget, QLCDNumber, QSlider, \n",
    "    QVBoxLayout, QApplication)\n",
    "\n",
    "class LCDSlider(QWidget):\n",
    "    \n",
    "    def __init__(self):\n",
    "        super().__init__()\n",
    "        \n",
    "        self.initUI()\n",
    "        \n",
    "        \n",
    "    def initUI(self):\n",
    "        \n",
    "        lcd = QLCDNumber(self)\n",
    "        sld = QSlider(Qt.Horizontal, self)\n",
    "\n",
    "        vbox = QVBoxLayout()\n",
    "        vbox.addWidget(lcd)\n",
    "        vbox.addWidget(sld)\n",
    "\n",
    "        self.setLayout(vbox)\n",
    "        sld.valueChanged.connect(lcd.display)\n",
    "        \n",
    "        self.setGeometry(300, 300, 250, 150)\n",
    "        self.setWindowTitle('Signal and slot')\n",
    "        self.show()"
   ]
  },
  {
   "cell_type": "code",
   "execution_count": null,
   "metadata": {},
   "outputs": [],
   "source": [
    "app = QApplication(sys.argv)\n",
    "ex = LCDSlider()\n",
    "sys.exit(app.exec_())"
   ]
  },
  {
   "cell_type": "code",
   "execution_count": null,
   "metadata": {
    "collapsed": true
   },
   "outputs": [],
   "source": [
    "import sys\n",
    "from PyQt5.QtCore import Qt\n",
    "from PyQt5.QtWidgets import QWidget, QApplication\n",
    "\n",
    "class Example(QWidget):\n",
    "    \n",
    "    def __init__(self):\n",
    "        super().__init__()\n",
    "        \n",
    "        self.initUI()\n",
    "        \n",
    "        \n",
    "    def initUI(self):      \n",
    "        \n",
    "        self.setGeometry(300, 300, 250, 150)\n",
    "        self.setWindowTitle('Event handler')\n",
    "        self.show()\n",
    "        \n",
    "        \n",
    "    def keyPressEvent(self, e):\n",
    "        \n",
    "        if e.key() == Qt.Key_Escape:\n",
    "            self.close()"
   ]
  },
  {
   "cell_type": "code",
   "execution_count": null,
   "metadata": {},
   "outputs": [],
   "source": [
    "app = QApplication(sys.argv)\n",
    "ex = Example()\n",
    "sys.exit(app.exec_())"
   ]
  },
  {
   "cell_type": "markdown",
   "metadata": {},
   "source": [
    "### Event Object"
   ]
  },
  {
   "cell_type": "code",
   "execution_count": null,
   "metadata": {},
   "outputs": [],
   "source": [
    "import sys\n",
    "from PyQt5.QtCore import Qt\n",
    "from PyQt5.QtWidgets import QWidget, QApplication, QGridLayout, QLabel\n",
    "\n",
    "class Example(QWidget):\n",
    "    \n",
    "    def __init__(self):\n",
    "        super().__init__()\n",
    "        \n",
    "        self.initUI()\n",
    "\n",
    "    def initUI(self):      \n",
    "        \n",
    "        grid = QGridLayout()\n",
    "        grid.setSpacing(10)\n",
    "        \n",
    "        x = 0\n",
    "        y = 0\n",
    "        \n",
    "        self.text = \"x: {0},  y: {1}\".format(x, y)\n",
    "        \n",
    "        self.label = QLabel(self.text, self)\n",
    "        grid.addWidget(self.label, 0, 0, Qt.AlignTop)\n",
    "        \n",
    "        self.setMouseTracking(True)\n",
    "        \n",
    "        self.setLayout(grid)\n",
    "        \n",
    "        self.setGeometry(300, 300, 350, 200)\n",
    "        self.setWindowTitle('Event object')\n",
    "        self.show()\n",
    "        \n",
    "        \n",
    "    def mouseMoveEvent(self, e):\n",
    "        \n",
    "        x = e.x()\n",
    "        y = e.y()\n",
    "        \n",
    "        text = \"x: {0},  y: {1}\".format(x, y)\n",
    "        self.label.setText(text)"
   ]
  },
  {
   "cell_type": "code",
   "execution_count": null,
   "metadata": {},
   "outputs": [],
   "source": [
    "\n",
    "app = QApplication(sys.argv)\n",
    "ex = Example()\n",
    "sys.exit(app.exec_())"
   ]
  },
  {
   "cell_type": "markdown",
   "metadata": {},
   "source": [
    "### Event Sender"
   ]
  },
  {
   "cell_type": "code",
   "execution_count": null,
   "metadata": {
    "collapsed": true
   },
   "outputs": [],
   "source": [
    "import sys\n",
    "from PyQt5.QtWidgets import QMainWindow, QPushButton, QApplication\n",
    "\n",
    "\n",
    "class Example(QMainWindow):\n",
    "    \n",
    "    def __init__(self):\n",
    "        super().__init__()\n",
    "        \n",
    "        self.initUI()\n",
    "        \n",
    "        \n",
    "    def initUI(self):      \n",
    "\n",
    "        btn1 = QPushButton(\"Button 1\", self)\n",
    "        btn1.move(30, 50)\n",
    "\n",
    "        btn2 = QPushButton(\"Button 2\", self)\n",
    "        btn2.move(150, 50)\n",
    "      \n",
    "        btn1.clicked.connect(self.buttonClicked)            \n",
    "        btn2.clicked.connect(self.buttonClicked)\n",
    "        \n",
    "        self.statusBar()\n",
    "        \n",
    "        self.setGeometry(300, 300, 290, 150)\n",
    "        self.setWindowTitle('Event sender')\n",
    "        self.show()\n",
    "        \n",
    "        \n",
    "    def buttonClicked(self):\n",
    "      \n",
    "        sender = self.sender()\n",
    "        self.statusBar().showMessage(sender.text() + ' was pressed')\n",
    "        "
   ]
  },
  {
   "cell_type": "code",
   "execution_count": null,
   "metadata": {},
   "outputs": [],
   "source": [
    "app = QApplication(sys.argv)\n",
    "ex = Example()\n",
    "sys.exit(app.exec_())"
   ]
  },
  {
   "cell_type": "markdown",
   "metadata": {},
   "source": [
    "### Emisor de señales"
   ]
  },
  {
   "cell_type": "code",
   "execution_count": null,
   "metadata": {
    "collapsed": true
   },
   "outputs": [],
   "source": [
    "import sys\n",
    "from PyQt5.QtCore import pyqtSignal, QObject\n",
    "from PyQt5.QtWidgets import QMainWindow, QApplication\n",
    "\n",
    "class Communicate(QObject):\n",
    "    \n",
    "    closeApp = pyqtSignal()\n",
    "\n",
    "class Example(QMainWindow):\n",
    "    \n",
    "    def __init__(self):\n",
    "        super().__init__()\n",
    "        \n",
    "        self.initUI()\n",
    "        \n",
    "        \n",
    "    def initUI(self):      \n",
    "\n",
    "        self.c = Communicate()\n",
    "        self.c.closeApp.connect(self.close)       \n",
    "        \n",
    "        self.setGeometry(300, 300, 290, 150)\n",
    "        self.setWindowTitle('Emit signal')\n",
    "        self.show()\n",
    "        \n",
    "        \n",
    "    def mousePressEvent(self, event):\n",
    "        \n",
    "        self.c.closeApp.emit()"
   ]
  },
  {
   "cell_type": "code",
   "execution_count": null,
   "metadata": {},
   "outputs": [],
   "source": [
    "app = QApplication(sys.argv)\n",
    "ex = Example()\n",
    "sys.exit(app.exec_())"
   ]
  },
  {
   "cell_type": "code",
   "execution_count": null,
   "metadata": {
    "collapsed": true
   },
   "outputs": [],
   "source": []
  }
 ],
 "metadata": {
  "kernelspec": {
   "display_name": "Python 3",
   "language": "python",
   "name": "python3"
  },
  "language_info": {
   "codemirror_mode": {
    "name": "ipython",
    "version": 3
   },
   "file_extension": ".py",
   "mimetype": "text/x-python",
   "name": "python",
   "nbconvert_exporter": "python",
   "pygments_lexer": "ipython3",
   "version": "3.6.1"
  }
 },
 "nbformat": 4,
 "nbformat_minor": 2
}
