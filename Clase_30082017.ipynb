{
 "cells": [
  {
   "cell_type": "markdown",
   "metadata": {},
   "source": [
    "# Memoization con Decoradores\n",
    "Es una técnica de programación para reducir tiempo guardando resultados de una función y reproduciendolos en lugar de recalcular.\n",
    "Python permite hacerlo de forma nativa.\n",
    "Veamos:"
   ]
  },
  {
   "cell_type": "code",
   "execution_count": null,
   "metadata": {},
   "outputs": [],
   "source": [
    "#definamos un decorador para memoization\n",
    "def memoize(f):\n",
    "    memo = {}\n",
    "    def helper(x):\n",
    "        if x not in memo:            \n",
    "            memo[x] = f(x)\n",
    "        return memo[x]\n",
    "    return helper"
   ]
  },
  {
   "cell_type": "code",
   "execution_count": null,
   "metadata": {},
   "outputs": [],
   "source": [
    "@memoize\n",
    "def fib(n):\n",
    "    if n == 0:\n",
    "        return 0\n",
    "    elif n == 1:\n",
    "        return 1\n",
    "    else:\n",
    "        return fib(n-1) + fib(n-2)"
   ]
  },
  {
   "cell_type": "code",
   "execution_count": null,
   "metadata": {},
   "outputs": [],
   "source": [
    "print(fib(50))"
   ]
  },
  {
   "cell_type": "code",
   "execution_count": null,
   "metadata": {
    "collapsed": true
   },
   "outputs": [],
   "source": [
    "# Ahora usando una clase como decorador\n",
    "\n",
    "class Memoize:\n",
    "    def __init__(self, fn):\n",
    "        self.fn = fn\n",
    "        self.memo = {}\n",
    "    def __call__(self, *args):\n",
    "        if args not in self.memo:\n",
    "            self.memo[args] = self.fn(*args)\n",
    "        return self.memo[args]"
   ]
  },
  {
   "cell_type": "code",
   "execution_count": null,
   "metadata": {
    "collapsed": true
   },
   "outputs": [],
   "source": [
    "@Memoize\n",
    "def fibb(n):\n",
    "    if n == 0:\n",
    "        return 0\n",
    "    elif n == 1:\n",
    "        return 1\n",
    "    else:\n",
    "        return fibb(n-1) + fibb(n-2)"
   ]
  },
  {
   "cell_type": "code",
   "execution_count": null,
   "metadata": {},
   "outputs": [],
   "source": [
    "print(fibb(50))"
   ]
  },
  {
   "cell_type": "markdown",
   "metadata": {},
   "source": [
    "Verifiquemos la solución a un acertijo de 1612; con una balanza de dos platos, cuantos pesos se necesitan para pesar todos los valores de 1 a 40 kg?\n",
    "La respuesta a verificar es que los pesos necesarios son:\n",
    "1, 3, 9 y 27 kilos"
   ]
  },
  {
   "cell_type": "code",
   "execution_count": null,
   "metadata": {
    "collapsed": true
   },
   "outputs": [],
   "source": [
    "def factors_set():\n",
    "    factors_set=( (i,j,k,l) for i in [-1, 0, 1]\n",
    "                        for j in [-1,0,1]\n",
    "                        for k in [-1,0,1]\n",
    "                        for l in [-1,0,1])\n",
    "    for factor in factors_set:\n",
    "        yield factor\n",
    "                "
   ]
  },
  {
   "cell_type": "code",
   "execution_count": null,
   "metadata": {
    "collapsed": true
   },
   "outputs": [],
   "source": [
    "def memoize(f):\n",
    "    results = {}\n",
    "    def helper(n):\n",
    "        if n not in results:\n",
    "            results[n] = f(n)\n",
    "        return results[n]\n",
    "    return helper\n"
   ]
  },
  {
   "cell_type": "code",
   "execution_count": null,
   "metadata": {
    "collapsed": true
   },
   "outputs": [],
   "source": [
    "@memoize\n",
    "def linear_combination(n):\n",
    "    \"\"\"returns the tuple (i,j,k,l) satisfying\n",
    "        n = i*1 + j*3 +k*9 + l*27\"\"\"\n",
    "    weighs=(1,3,9,27)\n",
    "    for factors in factors_set():\n",
    "        sum=0\n",
    "        for i in range(len(factors)):\n",
    "            sum+= factors[i]*weighs[i]\n",
    "        if sum == n:\n",
    "            return factors"
   ]
  },
  {
   "cell_type": "code",
   "execution_count": null,
   "metadata": {
    "collapsed": true
   },
   "outputs": [],
   "source": [
    "def weigh(kilos):\n",
    "    weights = (1,3,9,27)\n",
    "    scalars = linear_combination(kilos)\n",
    "    left = \"\"\n",
    "    right = \"\"\n",
    "    for i in range(len(scalars)):\n",
    "        if scalars[i] == -1:\n",
    "            left += str(weights[i]) + \" \"\n",
    "        elif scalars [i] ==1:\n",
    "            right += str(weights[i])+\" \"\n",
    "    return (left,right)\n"
   ]
  },
  {
   "cell_type": "code",
   "execution_count": null,
   "metadata": {},
   "outputs": [],
   "source": [
    "for i in range(1,41):\n",
    "    pans = weigh(i)\n",
    "    print(\"Left pan: \" + str (i) + \" plus \" + pans[0])\n",
    "    print(\"Right pan: \" + pans[1] + \"\\n\")\n",
    "    "
   ]
  },
  {
   "cell_type": "code",
   "execution_count": null,
   "metadata": {},
   "outputs": [],
   "source": [
    "for i in range(1,41):\n",
    "    print(i)"
   ]
  },
  {
   "cell_type": "markdown",
   "metadata": {},
   "source": [
    "# Lambda operator vs. list comprehension\n",
    "lambda argument_list:expression\n",
    "Veremos como funciona y como utilizarla en conjunto con map(), filter(), reduce()\n",
    "Y luego compararemos su uso con otra forma de hacerlo: list comprehension.\n",
    "El que existan dos formas de hacer una misma cosa, va encontra de los principios de Python, pero hubo mucha oposición de la comunidad al momento de quitar lambda, map(), filter() de Python.\n",
    "Un ejemplo simple:"
   ]
  },
  {
   "cell_type": "code",
   "execution_count": null,
   "metadata": {},
   "outputs": [],
   "source": [
    "sum=lambda x,y : x+y\n",
    "sum(3,4)"
   ]
  },
  {
   "cell_type": "markdown",
   "metadata": {},
   "source": [
    "La verdadera ventaja de las funciones lambda es cuando se utiliza con map()"
   ]
  },
  {
   "cell_type": "code",
   "execution_count": null,
   "metadata": {
    "collapsed": true
   },
   "outputs": [],
   "source": [
    "def fahrenheit(T):\n",
    "    return ((float(9)/5)*T+32)\n",
    "def celsius(T):\n",
    "    return ((float(5)/9)*(T-32))\n"
   ]
  },
  {
   "cell_type": "code",
   "execution_count": null,
   "metadata": {
    "collapsed": true
   },
   "outputs": [],
   "source": [
    "temperatures = (36.5, 37, 37.5, 38, 39)\n",
    "F=map(fahrenheit,temperatures)\n",
    "C=map(celsius,F)\n"
   ]
  },
  {
   "cell_type": "code",
   "execution_count": null,
   "metadata": {},
   "outputs": [],
   "source": [
    "temperatures_in_Fahrenheit = list(map(fahrenheit,temperatures))\n",
    "print(temperatures_in_Fahrenheit)"
   ]
  },
  {
   "cell_type": "code",
   "execution_count": null,
   "metadata": {},
   "outputs": [],
   "source": [
    "temperatures_in_Celsius = list(map(celsius, temperatures_in_Fahrenheit))\n",
    "print(temperatures_in_Celsius)\n"
   ]
  },
  {
   "cell_type": "code",
   "execution_count": null,
   "metadata": {},
   "outputs": [],
   "source": [
    "C = [39.2, 36.5, 37.3, 38, 37.8] \n",
    "F = list(map(lambda x: (float(9)/5)*x + 32, C))\n",
    "print(F)\n"
   ]
  },
  {
   "cell_type": "code",
   "execution_count": null,
   "metadata": {},
   "outputs": [],
   "source": [
    "C = list(map(lambda x: (float(5)/9)*(x-32), F))\n",
    "print(C)"
   ]
  },
  {
   "cell_type": "code",
   "execution_count": null,
   "metadata": {
    "collapsed": true
   },
   "outputs": [],
   "source": [
    "a = [1,2,3,4]\n",
    "b = [17,12,11,10]\n",
    "c = [-1,-4,5,9]\n"
   ]
  },
  {
   "cell_type": "code",
   "execution_count": null,
   "metadata": {},
   "outputs": [],
   "source": [
    "list(map(lambda x,y:x+y, a,b))"
   ]
  },
  {
   "cell_type": "code",
   "execution_count": null,
   "metadata": {},
   "outputs": [],
   "source": [
    "list(map(lambda x,y,z:x+y+z, a,b,c))"
   ]
  },
  {
   "cell_type": "code",
   "execution_count": null,
   "metadata": {},
   "outputs": [],
   "source": [
    "list(map(lambda x,y,z : 2.5*x + 2*y - z, a,b,c))"
   ]
  },
  {
   "cell_type": "markdown",
   "metadata": {},
   "source": [
    "Veamos otro ejemplo, ahora mapeando funciones"
   ]
  },
  {
   "cell_type": "code",
   "execution_count": null,
   "metadata": {},
   "outputs": [],
   "source": [
    "from math import sin, cos, tan, pi\n",
    "\n",
    "def map_functions (x,functions):\n",
    "    \"\"\"Map an iterable of functions on the object x\"\"\"\n",
    "    res = []\n",
    "    for func in functions:\n",
    "        res.append(func(x))\n",
    "    return res\n",
    "# veremos más adelante como simplificar esto utilizando \n",
    "# list comprehension"
   ]
  },
  {
   "cell_type": "code",
   "execution_count": null,
   "metadata": {},
   "outputs": [],
   "source": [
    "family_of_functions = (sin, cos, tan)\n",
    "print(map_functions(pi,family_of_functions))"
   ]
  },
  {
   "cell_type": "markdown",
   "metadata": {},
   "source": [
    "## Filtering\n",
    "filter(function, sequence)\n",
    "el parámetro function debe regresar un valor boolean y solamente para los elementos que tengan True se producirá el iterador. \n",
    "Veamos un ejemplo:"
   ]
  },
  {
   "cell_type": "code",
   "execution_count": null,
   "metadata": {},
   "outputs": [],
   "source": [
    "fibonacci=[0,1,1,2,3,5,8,13,21,34,55]\n",
    "odd_numbers=list(filter(lambda x:x %2, fibonacci))\n",
    "print(odd_numbers)\n"
   ]
  },
  {
   "cell_type": "code",
   "execution_count": null,
   "metadata": {},
   "outputs": [],
   "source": [
    "even_numbers = list(filter(lambda x: x % 2 == 0, fibonacci))\n",
    "print(even_numbers)"
   ]
  },
  {
   "cell_type": "markdown",
   "metadata": {},
   "source": [
    "## Reducing a list\n",
    "reduce(func,seq)\n",
    "Ejecuta secuencialmente la función sobre los elementos de la secuencia, y retorna un solo número.\n",
    "Veamos un ejemplo (esta función si se ha eliminado de Python3 y hay que importarla explicitamente)"
   ]
  },
  {
   "cell_type": "code",
   "execution_count": null,
   "metadata": {
    "collapsed": true
   },
   "outputs": [],
   "source": [
    "from functools import reduce"
   ]
  },
  {
   "cell_type": "code",
   "execution_count": null,
   "metadata": {},
   "outputs": [],
   "source": [
    "gauss=range(1,101)\n",
    "reduce(lambda x,y: x+y, gauss)"
   ]
  },
  {
   "cell_type": "code",
   "execution_count": null,
   "metadata": {},
   "outputs": [],
   "source": [
    "# otro ejemplo, encontrar el máximo en una lista\n",
    "lista = [46,890,45,90,12,252]\n",
    "reduce (lambda a,b: a if a>b else b,lista)"
   ]
  },
  {
   "cell_type": "code",
   "execution_count": null,
   "metadata": {},
   "outputs": [],
   "source": [
    "# calcular el factorial de 48\n",
    "reduce(lambda x,y: x*y, range(1,49))"
   ]
  },
  {
   "cell_type": "markdown",
   "metadata": {},
   "source": [
    "# List Comprehension\n",
    "En lugar de lambda, map, filter\n",
    "Veamos ejemplos: \n",
    "Así quedan las funciones Celsius y Fahrenheit utilizando List Comprehension"
   ]
  },
  {
   "cell_type": "code",
   "execution_count": null,
   "metadata": {},
   "outputs": [],
   "source": [
    "Celsius=[37, 39.2, 37.3, 37.8,36.5]\n",
    "Fahrenheit = [(9*x/5)+32 for x in Celsius]\n",
    "print (Fahrenheit)"
   ]
  },
  {
   "cell_type": "code",
   "execution_count": null,
   "metadata": {},
   "outputs": [],
   "source": [
    "# Comparemos\n",
    "C = [37, 39.2, 37.3, 37.8,36.5]\n",
    "F = list(map(lambda x: (9*x/5) + 32, C))\n",
    "print(F)"
   ]
  },
  {
   "cell_type": "code",
   "execution_count": null,
   "metadata": {},
   "outputs": [],
   "source": [
    "# Triples pitagóricos a^2 + b^2 = c^2\n",
    "[(x,y,z) for x in range(1,30) for y in range(x,30) for z in range(y,30) if x**2 + y**2 == z**2]"
   ]
  },
  {
   "cell_type": "code",
   "execution_count": null,
   "metadata": {},
   "outputs": [],
   "source": [
    "#Generator comprehension, igual pero usando paréntesis \n",
    "#pero en lugar de una lista se produce un generador\n",
    "x = (x**2 for x in range(20))\n",
    "print(x)"
   ]
  },
  {
   "cell_type": "code",
   "execution_count": null,
   "metadata": {},
   "outputs": [],
   "source": [
    "x=list(x)\n",
    "print(x)"
   ]
  },
  {
   "cell_type": "code",
   "execution_count": null,
   "metadata": {},
   "outputs": [],
   "source": [
    "noprimes = [j for i in range(2, 8) for j in range(i*2, 100, i)]\n",
    "primes = [x for x in range(2, 100) if x not in noprimes]\n",
    "print(primes)"
   ]
  },
  {
   "cell_type": "code",
   "execution_count": null,
   "metadata": {},
   "outputs": [],
   "source": [
    "from math import sqrt\n",
    "n = 100\n",
    "sqrt_n = int(sqrt(n))\n",
    "no_primes = [j for i in range(2,sqrt_n) for j in range(i*2, n, i)]\n",
    "print(no_primes)\n",
    "# muchos números repetidos"
   ]
  },
  {
   "cell_type": "code",
   "execution_count": null,
   "metadata": {},
   "outputs": [],
   "source": [
    "# En lugar de listas, utilizaremos set comprehension, \n",
    "# cambiando unos corchetes [] por llaves {}\n",
    "from math import sqrt\n",
    "n = 100\n",
    "sqrt_n = int(sqrt(n))\n",
    "no_primes = {j for i in range(2,sqrt_n) for j in range(i*2, n, i)}\n",
    "print(no_primes)"
   ]
  },
  {
   "cell_type": "code",
   "execution_count": null,
   "metadata": {},
   "outputs": [],
   "source": [
    "primes = {i for i in range(n) if i not in no_primes}\n",
    "print(primes)"
   ]
  },
  {
   "cell_type": "code",
   "execution_count": null,
   "metadata": {
    "collapsed": true
   },
   "outputs": [],
   "source": []
  }
 ],
 "metadata": {
  "kernelspec": {
   "display_name": "Python 3",
   "language": "python",
   "name": "python3"
  },
  "language_info": {
   "codemirror_mode": {
    "name": "ipython",
    "version": 3
   },
   "file_extension": ".py",
   "mimetype": "text/x-python",
   "name": "python",
   "nbconvert_exporter": "python",
   "pygments_lexer": "ipython3",
   "version": "3.6.1"
  }
 },
 "nbformat": 4,
 "nbformat_minor": 2
}
