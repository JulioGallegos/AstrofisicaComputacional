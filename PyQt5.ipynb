{
 "cells": [
  {
   "cell_type": "markdown",
   "metadata": {},
   "source": [
    "# PyQt5\n",
    "PyQt5 es un conjunto de enlaces en Python a Qt5, un marco de aplicaciones con una de las librerias más poderosas para crear GUI."
   ]
  },
  {
   "cell_type": "markdown",
   "metadata": {},
   "source": [
    "PyQt5 es un conjunto de módulos en Python (en esta ocasión Python 3) con 620 clases y más de 6000 funciones y métodos. Es multiplataforma y corre en los principales sistemas operativos."
   ]
  },
  {
   "cell_type": "markdown",
   "metadata": {},
   "source": [
    "Este es el enlace a Qt5\n",
    "http://doc.qt.io/qt-5/qt5-intro.html"
   ]
  },
  {
   "cell_type": "markdown",
   "metadata": {},
   "source": [
    "Y este es el enlace a PyQt5, https://www.riverbankcomputing.com/news"
   ]
  },
  {
   "cell_type": "markdown",
   "metadata": {},
   "source": [
    "Para instalar:\n",
    "\n",
    "sudo pip3 install pyqt5"
   ]
  },
  {
   "cell_type": "markdown",
   "metadata": {},
   "source": [
    "PyQt5 Módulos:\n",
    "\n",
    "* QtCore: contiene las funcionalidades básicos no-GUI\n",
    "* QtGui\n",
    "* QtWidgets\n",
    "* QtMultimedia\n",
    "* QtBluetooth\n",
    "* QtNetwork\n",
    "* QtPositioning\n",
    "* Enginio\n",
    "* QtWebSockets\n",
    "* QtWebKit\n",
    "* QtWebKitWidgets\n",
    "* QtXml\n",
    "* QtSvg\n",
    "* QtSql\n",
    "* QtTest\n"
   ]
  },
  {
   "cell_type": "markdown",
   "metadata": {},
   "source": [
    "## PyQt date and time"
   ]
  },
  {
   "cell_type": "code",
   "execution_count": null,
   "metadata": {
    "collapsed": true
   },
   "outputs": [],
   "source": [
    "from PyQt5.QtCore import QDate, QTime, QDateTime, Qt\n",
    "now = QDate.currentDate()\n",
    "\n",
    "print(now.toString(Qt.ISODate))\n"
   ]
  },
  {
   "cell_type": "code",
   "execution_count": null,
   "metadata": {
    "collapsed": true
   },
   "outputs": [],
   "source": [
    "print(now.toString(Qt.DefaultLocaleLongDate))"
   ]
  },
  {
   "cell_type": "code",
   "execution_count": null,
   "metadata": {
    "collapsed": true
   },
   "outputs": [],
   "source": [
    "datetime = QDateTime.currentDateTime()\n",
    "print(datetime.toString())"
   ]
  },
  {
   "cell_type": "code",
   "execution_count": null,
   "metadata": {
    "collapsed": true
   },
   "outputs": [],
   "source": [
    "time=QTime.currentTime()\n",
    "print(time.toString(Qt.DefaultLocaleLongDate))"
   ]
  },
  {
   "cell_type": "code",
   "execution_count": null,
   "metadata": {
    "collapsed": true
   },
   "outputs": [],
   "source": [
    "#UTC time\n",
    "now=QDateTime.currentDateTime()\n",
    "print(\"Local datetime: \", now.toString(Qt.ISODate))"
   ]
  },
  {
   "cell_type": "code",
   "execution_count": null,
   "metadata": {
    "collapsed": true
   },
   "outputs": [],
   "source": [
    "print(\"Universal datetime: \", now.toUTC().toString(Qt.ISODate))"
   ]
  },
  {
   "cell_type": "code",
   "execution_count": null,
   "metadata": {
    "collapsed": true
   },
   "outputs": [],
   "source": [
    "print(\"The offset from UTC is {0} seconds\".format(now.offsetFromUtc()))"
   ]
  },
  {
   "cell_type": "code",
   "execution_count": null,
   "metadata": {
    "collapsed": true
   },
   "outputs": [],
   "source": [
    "# Number of days\n",
    "now=QDate.currentDate()\n",
    "d=QDate(2000,9,25)"
   ]
  },
  {
   "cell_type": "code",
   "execution_count": null,
   "metadata": {
    "collapsed": true
   },
   "outputs": [],
   "source": [
    "print(\"Days in month: {0}\".format(d.daysInMonth()))"
   ]
  },
  {
   "cell_type": "code",
   "execution_count": null,
   "metadata": {
    "collapsed": true
   },
   "outputs": [],
   "source": [
    "print(\"Days in year: {0}\".format(d.daysInYear()))"
   ]
  },
  {
   "cell_type": "code",
   "execution_count": null,
   "metadata": {
    "collapsed": true
   },
   "outputs": [],
   "source": [
    "#Difference in days\n",
    "born=QDate(1971,5,9)\n",
    "retirement=QDate(2038,5,9)"
   ]
  },
  {
   "cell_type": "code",
   "execution_count": null,
   "metadata": {
    "collapsed": true
   },
   "outputs": [],
   "source": [
    "dayspassed=born.daysTo(retirement)\n",
    "print(\"{0} días entre el nacimiento y la jubilación!\".format(dayspassed))"
   ]
  },
  {
   "cell_type": "code",
   "execution_count": null,
   "metadata": {
    "collapsed": true
   },
   "outputs": [],
   "source": [
    "#datetime arithmetic\n",
    "now = QDateTime.currentDateTime()\n",
    "print(\"Today:\", now.toString(Qt.ISODate))"
   ]
  },
  {
   "cell_type": "code",
   "execution_count": null,
   "metadata": {
    "collapsed": true
   },
   "outputs": [],
   "source": [
    "print(\"Adding 12 days: {0}\".format(now.addDays(12).toString(Qt.ISODate)))"
   ]
  },
  {
   "cell_type": "code",
   "execution_count": null,
   "metadata": {
    "collapsed": true
   },
   "outputs": [],
   "source": [
    "print(\"Subtracting 22 days: {0}\".format(now.addDays(-22).toString(Qt.ISODate)))"
   ]
  },
  {
   "cell_type": "code",
   "execution_count": null,
   "metadata": {
    "collapsed": true
   },
   "outputs": [],
   "source": [
    "# Daylight saving time\n",
    "now = QDateTime.currentDateTime()\n",
    "\n",
    "\n",
    "print(\"Time zone: {0}\".format(now.timeZoneAbbreviation()))\n",
    "\n",
    "if now.isDaylightTime():\n",
    "    print(\"The current date falls into DST time\")\n",
    "else:\n",
    "    print(\"The current date does not fall into DST time\")"
   ]
  },
  {
   "cell_type": "code",
   "execution_count": null,
   "metadata": {
    "collapsed": true
   },
   "outputs": [],
   "source": [
    "# Unix Epoch\n",
    "now = QDateTime.currentDateTime()\n",
    "\n",
    "unix_time = now.toMSecsSinceEpoch()\n",
    "print(unix_time)"
   ]
  },
  {
   "cell_type": "code",
   "execution_count": null,
   "metadata": {
    "collapsed": true
   },
   "outputs": [],
   "source": [
    "d=QDateTime.fromMSecsSinceEpoch(unix_time)\n",
    "print(d.toString(Qt.ISODate))"
   ]
  },
  {
   "cell_type": "markdown",
   "metadata": {},
   "source": [
    "Día Juliano\n",
    "\n",
    "1 de Enero de 4713 AC\n",
    "\n",
    "A mediodía"
   ]
  },
  {
   "cell_type": "code",
   "execution_count": null,
   "metadata": {
    "collapsed": true
   },
   "outputs": [],
   "source": [
    "now = QDateTime.currentDateTime()\n",
    "print(\"Día del calendario Gregoriano para hoy: \", now.toString(Qt.ISODate))"
   ]
  },
  {
   "cell_type": "code",
   "execution_count": null,
   "metadata": {
    "collapsed": true
   },
   "outputs": [],
   "source": [
    "from PyQt5.QtCore import QDate, Qt\n",
    "now = QDate.currentDate()\n",
    "print(\"Julian day for today: \", now.toJulianDay()) "
   ]
  },
  {
   "cell_type": "markdown",
   "metadata": {},
   "source": [
    "## Primer programa en PyQt5"
   ]
  },
  {
   "cell_type": "code",
   "execution_count": null,
   "metadata": {},
   "outputs": [],
   "source": [
    "import sys\n",
    "from PyQt5.QtWidgets import QApplication, QWidget\n",
    "\n",
    "if __name__=='__main__':\n",
    "    app=QApplication(sys.argv)\n",
    "    w=QWidget()\n",
    "    w.resize(250,150)\n",
    "    w.move(300,300)\n",
    "    w.setWindowTitle(\"Primer ejemplo\")\n",
    "    w.show()\n",
    "    \n",
    "    sys.exit(app.exec_())"
   ]
  },
  {
   "cell_type": "code",
   "execution_count": null,
   "metadata": {
    "collapsed": true
   },
   "outputs": [],
   "source": [
    "#An application icon\n",
    "import sys\n",
    "from PyQt5.QtWidgets import QApplication, QWidget\n",
    "from PyQt5.QtGui import QIcon\n",
    "\n",
    "class Example(QWidget):\n",
    "    def __init__(self):\n",
    "        super().__init__()\n",
    "        self.initUI()\n",
    "        \n",
    "    def initUI(self):\n",
    "        \n",
    "        self.setGeometry(300,300,300,220)\n",
    "        self.setWindowTitle(\"Icon\")\n",
    "        self.setWindowIcon(QIcon(\"web.png\"))\n",
    "        \n",
    "        self.show()\n",
    "\n",
    "        "
   ]
  },
  {
   "cell_type": "code",
   "execution_count": null,
   "metadata": {},
   "outputs": [],
   "source": [
    "if __name__==\"__main__\":\n",
    "    app=QApplication(sys.argv)\n",
    "    ex=Example()\n",
    "    sys.exit(app.exec_())"
   ]
  },
  {
   "cell_type": "code",
   "execution_count": null,
   "metadata": {
    "collapsed": true
   },
   "outputs": [],
   "source": [
    "# ToolTip\n",
    "import sys\n",
    "from PyQt5.QtWidgets import (QWidget, QToolTip, \n",
    "    QPushButton, QApplication)\n",
    "from PyQt5.QtGui import QFont  \n",
    "\n",
    "class Example(QWidget):\n",
    "    def __init__(self):\n",
    "        super().__init__()\n",
    "        self.initUI()\n",
    "        \n",
    "    def initUI(self):\n",
    "        \n",
    "        QToolTip.setFont(QFont(\"SansSerif\",10))\n",
    "        self.setToolTip(\"Esto es el primer <b>Ejemplo</b> de widget\")\n",
    "        btn=QPushButton('Button',self)\n",
    "        btn.setToolTip('Este es un <b>QPushButton</b>')\n",
    "        btn.resize(btn.sizeHint())\n",
    "        btn.move(50,50)\n",
    "        \n",
    "        self.setGeometry (300, 300, 300, 200)\n",
    "        self.setWindowTitle(\"ToolTip\")\n",
    "        self.show()\n",
    "\n",
    "        "
   ]
  },
  {
   "cell_type": "code",
   "execution_count": null,
   "metadata": {
    "collapsed": true
   },
   "outputs": [],
   "source": [
    "app=QApplication(sys.argv)\n",
    "ex=Example()\n",
    "sys.exit(app.exec_())"
   ]
  },
  {
   "cell_type": "markdown",
   "metadata": {},
   "source": [
    "### Closing Window"
   ]
  },
  {
   "cell_type": "code",
   "execution_count": null,
   "metadata": {
    "collapsed": true
   },
   "outputs": [],
   "source": [
    "### Revisar fallo al pulsar el botón\n",
    "\n",
    "\n",
    "import sys\n",
    "from PyQt5.QtWidgets import QWidget, QPushButton, QApplication\n",
    "from PyQt5.QtCore import QCoreApplication\n",
    "\n",
    "\n",
    "class Example(QWidget):\n",
    "    \n",
    "    def __init__(self):\n",
    "        super().__init__()\n",
    "        \n",
    "        self.initUI()\n",
    "        \n",
    "        \n",
    "    def initUI(self):               \n",
    "        \n",
    "        qbtn = QPushButton('Quit', self)\n",
    "        qbtn.clicked.connect(QCoreApplication.instance().quit)\n",
    "        qbtn.resize(qbtn.sizeHint())\n",
    "        qbtn.move(50, 50)       \n",
    "        \n",
    "        self.setGeometry(300, 300, 250, 150)\n",
    "        self.setWindowTitle('Quit button')    \n",
    "        self.show()\n",
    "        \n",
    "    \n",
    "        "
   ]
  },
  {
   "cell_type": "code",
   "execution_count": null,
   "metadata": {
    "collapsed": true
   },
   "outputs": [],
   "source": [
    "if __name__==\"__main__\":\n",
    "    app = QApplication(sys.argv)\n",
    "    ex = Example()\n",
    "    sys.exit(app.exec_())"
   ]
  },
  {
   "cell_type": "markdown",
   "metadata": {},
   "source": [
    "### Message Box"
   ]
  },
  {
   "cell_type": "code",
   "execution_count": null,
   "metadata": {
    "collapsed": true
   },
   "outputs": [],
   "source": [
    "import sys\n",
    "from PyQt5.QtWidgets import QWidget, QMessageBox, QApplication\n",
    "\n",
    "class Ejemplo(QWidget):\n",
    "    \n",
    "    def __init__(self):\n",
    "        super().__init__()\n",
    "        \n",
    "        self.initUI()\n",
    "        \n",
    "        \n",
    "    def initUI(self):               \n",
    "        \n",
    "        self.setGeometry(300, 300, 250, 150)        \n",
    "        self.setWindowTitle('Message box')    \n",
    "        self.show()\n",
    "        \n",
    "        \n",
    "    def closeEvent(self, event):\n",
    "        \n",
    "        reply = QMessageBox.question(self, 'Message',\n",
    "            \"Are you sure to quit?\", QMessageBox.Yes | \n",
    "            QMessageBox.No, QMessageBox.No)\n",
    "\n",
    "        if reply == QMessageBox.Yes:\n",
    "            event.accept()\n",
    "        else:\n",
    "            event.ignore()  "
   ]
  },
  {
   "cell_type": "code",
   "execution_count": null,
   "metadata": {
    "collapsed": true
   },
   "outputs": [],
   "source": [
    "if __name__ == '__main__':\n",
    "    \n",
    "    app = QApplication(sys.argv)\n",
    "    ex = Ejemplo()\n",
    "    sys.exit(app.exec_())"
   ]
  },
  {
   "cell_type": "markdown",
   "metadata": {},
   "source": [
    "### Dimensión y posición relativa a la pantalla"
   ]
  },
  {
   "cell_type": "code",
   "execution_count": null,
   "metadata": {
    "collapsed": true
   },
   "outputs": [],
   "source": [
    "import sys\n",
    "from PyQt5.QtWidgets import QWidget, QDesktopWidget, QApplication\n",
    "\n",
    "\n",
    "class Example(QWidget):\n",
    "    \n",
    "    def __init__(self):\n",
    "        super().__init__()\n",
    "        \n",
    "        self.initUI()\n",
    "        \n",
    "        \n",
    "    def initUI(self):               \n",
    "        \n",
    "        self.resize(250, 150)\n",
    "        self.center()\n",
    "        \n",
    "        self.setWindowTitle('Center')    \n",
    "        self.show()\n",
    "        \n",
    "        \n",
    "    def center(self):\n",
    "        \n",
    "        qr = self.frameGeometry()\n",
    "        cp = QDesktopWidget().availableGeometry().center()\n",
    "        qr.moveCenter(cp)\n",
    "        self.move(qr.topLeft())"
   ]
  },
  {
   "cell_type": "code",
   "execution_count": null,
   "metadata": {
    "collapsed": true
   },
   "outputs": [],
   "source": [
    "if __name__ == '__main__':\n",
    "    \n",
    "    app = QApplication(sys.argv)\n",
    "    ex = Example()\n",
    "    sys.exit(app.exec_())"
   ]
  },
  {
   "cell_type": "markdown",
   "metadata": {},
   "source": [
    "### Status Bar"
   ]
  },
  {
   "cell_type": "code",
   "execution_count": null,
   "metadata": {
    "collapsed": true
   },
   "outputs": [],
   "source": [
    "import sys\n",
    "from PyQt5.QtWidgets import QMainWindow, QApplication\n",
    "\n",
    "\n",
    "class ExampleSB(QMainWindow):\n",
    "    \n",
    "    def __init__(self):\n",
    "        super().__init__()\n",
    "        \n",
    "        self.initUI()\n",
    "        \n",
    "        \n",
    "    def initUI(self):    \n",
    "        self.statusBar().showMessage('Ready')\n",
    "        self.setGeometry(300, 300, 250, 150)\n",
    "        self.setWindowTitle('Statusbar')    \n",
    "        self.show()\n",
    "        \n",
    "        "
   ]
  },
  {
   "cell_type": "code",
   "execution_count": null,
   "metadata": {
    "collapsed": true
   },
   "outputs": [],
   "source": [
    "if __name__ == '__main__':\n",
    "    \n",
    "    app = QApplication(sys.argv)\n",
    "    ex = ExampleSB()\n",
    "    sys.exit(app.exec_())"
   ]
  },
  {
   "cell_type": "markdown",
   "metadata": {},
   "source": [
    "### Menu Simple"
   ]
  },
  {
   "cell_type": "code",
   "execution_count": null,
   "metadata": {
    "collapsed": true
   },
   "outputs": [],
   "source": [
    "import sys\n",
    "from PyQt5.QtWidgets import QMainWindow, QAction, qApp, QApplication\n",
    "from PyQt5.QtGui import QIcon\n",
    "\n",
    "class ExampleMenu(QMainWindow):\n",
    "    \n",
    "    def __init__(self):\n",
    "        super().__init__()\n",
    "        \n",
    "        self.initUI()\n",
    "        \n",
    "        \n",
    "    def initUI(self):               \n",
    "        \n",
    "        exitAct = QAction(QIcon('exit.png'), '&Exit', self)        \n",
    "        exitAct.setShortcut('Ctrl+Q')\n",
    "        exitAct.setStatusTip('Exit application')\n",
    "        exitAct.triggered.connect(qApp.quit)\n",
    "\n",
    "        self.statusBar()\n",
    "\n",
    "        menubar = self.menuBar()\n",
    "        fileMenu = menubar.addMenu('&File')\n",
    "        fileMenu.addAction(exitAct)\n",
    "        \n",
    "        self.setGeometry(300, 300, 300, 200)\n",
    "        self.setWindowTitle('Simple menu')    \n",
    "        self.show()\n",
    "        \n",
    "        "
   ]
  },
  {
   "cell_type": "code",
   "execution_count": null,
   "metadata": {},
   "outputs": [],
   "source": [
    "if __name__ == '__main__':\n",
    "    \n",
    "    app = QApplication(sys.argv)\n",
    "    ex = ExampleMenu()\n",
    "    sys.exit(app.exec_())"
   ]
  },
  {
   "cell_type": "markdown",
   "metadata": {},
   "source": [
    "### Submenu"
   ]
  },
  {
   "cell_type": "code",
   "execution_count": null,
   "metadata": {
    "collapsed": true
   },
   "outputs": [],
   "source": [
    "import sys\n",
    "from PyQt5.QtWidgets import QMainWindow, QAction, QMenu, QApplication\n",
    "\n",
    "class ExampleSubMenu(QMainWindow):\n",
    "    \n",
    "    def __init__(self):\n",
    "        super().__init__()\n",
    "        \n",
    "        self.initUI()\n",
    "        \n",
    "        \n",
    "    def initUI(self):         \n",
    "        \n",
    "        menubar = self.menuBar()\n",
    "        fileMenu = menubar.addMenu('File')\n",
    "        \n",
    "        impMenu = QMenu('Import', self)\n",
    "        impAct = QAction('Import mail', self) \n",
    "        impMenu.addAction(impAct)\n",
    "        \n",
    "        newAct = QAction('New', self)        \n",
    "        \n",
    "        fileMenu.addAction(newAct)\n",
    "        fileMenu.addMenu(impMenu)\n",
    "        \n",
    "        self.setGeometry(300, 300, 300, 200)\n",
    "        self.setWindowTitle('Submenu')    \n",
    "        self.show()\n",
    "        "
   ]
  },
  {
   "cell_type": "code",
   "execution_count": null,
   "metadata": {},
   "outputs": [],
   "source": [
    "if __name__ == '__main__':\n",
    "    \n",
    "    app = QApplication(sys.argv)\n",
    "    ex = ExampleSubMenu()\n",
    "    sys.exit(app.exec_())"
   ]
  },
  {
   "cell_type": "markdown",
   "metadata": {
    "collapsed": true
   },
   "source": [
    "### Autocentrado"
   ]
  },
  {
   "cell_type": "code",
   "execution_count": null,
   "metadata": {
    "collapsed": true
   },
   "outputs": [],
   "source": [
    "import sys\n",
    "from PyQt5.QtWidgets import QWidget, QDesktopWidget, QApplication\n",
    "\n",
    "\n",
    "class Example(QWidget):\n",
    "    \n",
    "    def __init__(self):\n",
    "        super().__init__()\n",
    "        \n",
    "        self.initUI()\n",
    "        \n",
    "        \n",
    "    def initUI(self):               \n",
    "        \n",
    "        self.resize(250, 150)\n",
    "        self.center()\n",
    "        \n",
    "        self.setWindowTitle('Center')    \n",
    "        self.show()\n",
    "        \n",
    "        \n",
    "    def center(self):\n",
    "        \n",
    "        qr = self.frameGeometry()\n",
    "        cp = QDesktopWidget().availableGeometry().center()\n",
    "        qr.moveCenter(cp)\n",
    "        self.move(qr.topLeft())\n",
    "        \n",
    "        \n"
   ]
  },
  {
   "cell_type": "code",
   "execution_count": null,
   "metadata": {},
   "outputs": [],
   "source": [
    "if __name__ == '__main__':\n",
    "    \n",
    "    app = QApplication(sys.argv)\n",
    "    ex = Example()\n",
    "    sys.exit(app.exec_())"
   ]
  },
  {
   "cell_type": "code",
   "execution_count": null,
   "metadata": {
    "collapsed": true
   },
   "outputs": [],
   "source": []
  }
 ],
 "metadata": {
  "kernelspec": {
   "display_name": "Python 3",
   "language": "python",
   "name": "python3"
  },
  "language_info": {
   "codemirror_mode": {
    "name": "ipython",
    "version": 3
   },
   "file_extension": ".py",
   "mimetype": "text/x-python",
   "name": "python",
   "nbconvert_exporter": "python",
   "pygments_lexer": "ipython3",
   "version": "3.6.1"
  }
 },
 "nbformat": 4,
 "nbformat_minor": 2
}
