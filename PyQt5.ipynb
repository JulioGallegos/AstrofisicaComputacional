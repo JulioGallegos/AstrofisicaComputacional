{
 "cells": [
  {
   "cell_type": "markdown",
   "metadata": {},
   "source": [
    "# PyQt5\n",
    "PyQt5 es un conjunto de enlaces en Python a Qt5, un marco de aplicaciones con una de las librerias más poderosas para crear GUI."
   ]
  },
  {
   "cell_type": "markdown",
   "metadata": {},
   "source": [
    "PyQt5 es un conjunto de módulos en Python (en esta ocasión Python 3) con 620 clases y más de 6000 funciones y métodos. Es multiplataforma y corre en los principales sistemas operativos."
   ]
  },
  {
   "cell_type": "markdown",
   "metadata": {},
   "source": [
    "Este es el enlace a Qt5\n",
    "http://doc.qt.io/qt-5/qt5-intro.html"
   ]
  },
  {
   "cell_type": "markdown",
   "metadata": {},
   "source": [
    "Y este es el enlace a PyQt5, https://www.riverbankcomputing.com/news"
   ]
  },
  {
   "cell_type": "markdown",
   "metadata": {},
   "source": [
    "Para instalar:\n",
    "\n",
    "sudo pip3 install pyqt5"
   ]
  },
  {
   "cell_type": "markdown",
   "metadata": {},
   "source": [
    "PyQt5 Módulos:\n",
    "\n",
    "* QtCore: contiene las funcionalidades básicos no-GUI\n",
    "* QtGui\n",
    "* QtWidgets\n",
    "* QtMultimedia\n",
    "* QtBluetooth\n",
    "* QtNetwork\n",
    "* QtPositioning\n",
    "* Enginio\n",
    "* QtWebSockets\n",
    "* QtWebKit\n",
    "* QtWebKitWidgets\n",
    "* QtXml\n",
    "* QtSvg\n",
    "* QtSql\n",
    "* QtTest\n"
   ]
  },
  {
   "cell_type": "markdown",
   "metadata": {},
   "source": [
    "## PyQt date and time"
   ]
  },
  {
   "cell_type": "code",
   "execution_count": null,
   "metadata": {},
   "outputs": [],
   "source": [
    "from PyQt5.QtCore import QDate, QTime, QDateTime, Qt\n",
    "now = QDate.currentDate()\n",
    "\n",
    "print(now.toString(Qt.ISODate))\n"
   ]
  },
  {
   "cell_type": "code",
   "execution_count": null,
   "metadata": {},
   "outputs": [],
   "source": [
    "print(now.toString(Qt.DefaultLocaleLongDate))"
   ]
  },
  {
   "cell_type": "code",
   "execution_count": null,
   "metadata": {},
   "outputs": [],
   "source": [
    "datetime = QDateTime.currentDateTime()\n",
    "print(datetime.toString())"
   ]
  },
  {
   "cell_type": "code",
   "execution_count": null,
   "metadata": {},
   "outputs": [],
   "source": [
    "time=QTime.currentTime()\n",
    "print(time.toString(Qt.DefaultLocaleLongDate))"
   ]
  },
  {
   "cell_type": "code",
   "execution_count": null,
   "metadata": {},
   "outputs": [],
   "source": [
    "#UTC time\n",
    "now=QDateTime.currentDateTime()\n",
    "print(\"Local datetime: \", now.toString(Qt.ISODate))"
   ]
  },
  {
   "cell_type": "code",
   "execution_count": null,
   "metadata": {},
   "outputs": [],
   "source": [
    "print(\"Universal datetime: \", now.toUTC().toString(Qt.ISODate))"
   ]
  },
  {
   "cell_type": "code",
   "execution_count": null,
   "metadata": {},
   "outputs": [],
   "source": [
    "print(\"The offset from UTC is {0} seconds\".format(now.offsetFromUtc()))"
   ]
  },
  {
   "cell_type": "code",
   "execution_count": null,
   "metadata": {},
   "outputs": [],
   "source": [
    "# Number of days\n",
    "now=QDate.currentDate()\n",
    "d=QDate(2000,9,25)"
   ]
  },
  {
   "cell_type": "code",
   "execution_count": null,
   "metadata": {},
   "outputs": [],
   "source": [
    "print(\"Days in month: {0}\".format(d.daysInMonth()))"
   ]
  },
  {
   "cell_type": "code",
   "execution_count": null,
   "metadata": {},
   "outputs": [],
   "source": [
    "print(\"Days in year: {0}\".format(d.daysInYear()))"
   ]
  },
  {
   "cell_type": "code",
   "execution_count": null,
   "metadata": {
    "collapsed": true
   },
   "outputs": [],
   "source": [
    "#Difference in days\n",
    "born=QDate(1971,5,9)\n",
    "retirement=QDate(2038,5,9)"
   ]
  },
  {
   "cell_type": "code",
   "execution_count": null,
   "metadata": {},
   "outputs": [],
   "source": [
    "dayspassed=born.daysTo(retirement)\n",
    "print(\"{0} días entre el nacimiento y la jubilación!\".format(dayspassed))"
   ]
  },
  {
   "cell_type": "code",
   "execution_count": null,
   "metadata": {},
   "outputs": [],
   "source": [
    "#datetime arithmetic\n",
    "now = QDateTime.currentDateTime()\n",
    "print(\"Today:\", now.toString(Qt.ISODate))"
   ]
  },
  {
   "cell_type": "code",
   "execution_count": null,
   "metadata": {},
   "outputs": [],
   "source": [
    "print(\"Adding 12 days: {0}\".format(now.addDays(12).toString(Qt.ISODate)))"
   ]
  },
  {
   "cell_type": "code",
   "execution_count": null,
   "metadata": {},
   "outputs": [],
   "source": [
    "print(\"Subtracting 22 days: {0}\".format(now.addDays(-22).toString(Qt.ISODate)))"
   ]
  },
  {
   "cell_type": "code",
   "execution_count": null,
   "metadata": {},
   "outputs": [],
   "source": [
    "# Daylight saving time\n",
    "now = QDateTime.currentDateTime()\n",
    "\n",
    "print(\"Time zone: {0}\".format(now.timeZoneAbbreviation()))\n",
    "\n",
    "if now.isDaylightTime():\n",
    "    print(\"The current date falls into DST time\")\n",
    "else:\n",
    "    print(\"The current date does not fall into DST time\")"
   ]
  },
  {
   "cell_type": "code",
   "execution_count": null,
   "metadata": {},
   "outputs": [],
   "source": [
    "# Unix Epoch\n",
    "now = QDateTime.currentDateTime()\n",
    "\n",
    "unix_time = now.toMSecsSinceEpoch()\n",
    "print(unix_time)"
   ]
  },
  {
   "cell_type": "code",
   "execution_count": null,
   "metadata": {},
   "outputs": [],
   "source": [
    "d=QDateTime.fromMSecsSinceEpoch(unix_time)\n",
    "print(d.toString(Qt.ISODate))"
   ]
  },
  {
   "cell_type": "code",
   "execution_count": null,
   "metadata": {
    "collapsed": true
   },
   "outputs": [],
   "source": []
  }
 ],
 "metadata": {
  "kernelspec": {
   "display_name": "Python 3",
   "language": "python",
   "name": "python3"
  },
  "language_info": {
   "codemirror_mode": {
    "name": "ipython",
    "version": 3
   },
   "file_extension": ".py",
   "mimetype": "text/x-python",
   "name": "python",
   "nbconvert_exporter": "python",
   "pygments_lexer": "ipython3",
   "version": "3.6.1"
  }
 },
 "nbformat": 4,
 "nbformat_minor": 2
}
