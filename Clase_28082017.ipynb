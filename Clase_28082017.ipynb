{
 "cells": [
  {
   "cell_type": "markdown",
   "metadata": {},
   "source": [
    "# More on Functions"
   ]
  },
  {
   "cell_type": "code",
   "execution_count": 11,
   "metadata": {},
   "outputs": [],
   "source": [
    "import math\n",
    "    \n",
    "def foo(func):\n",
    "    print(\"The function \" + func.__name__ + \" was passed to foo.\")\n",
    "    res = 0\n",
    "    for x in [1, 2, 2.5]:\n",
    "        res += func(x)\n",
    "    return res"
   ]
  },
  {
   "cell_type": "code",
   "execution_count": 4,
   "metadata": {},
   "outputs": [
    {
     "name": "stdout",
     "output_type": "stream",
     "text": [
      "The function sin was passed to foo.\n"
     ]
    },
    {
     "data": {
      "text/plain": [
       "2.3492405557375347"
      ]
     },
     "execution_count": 4,
     "metadata": {},
     "output_type": "execute_result"
    }
   ],
   "source": [
    "foo(math.sin)"
   ]
  },
  {
   "cell_type": "code",
   "execution_count": 12,
   "metadata": {},
   "outputs": [
    {
     "name": "stdout",
     "output_type": "stream",
     "text": [
      "The function cos was passed to foo.\n"
     ]
    },
    {
     "data": {
      "text/plain": [
       "-0.6769881462259364"
      ]
     },
     "execution_count": 12,
     "metadata": {},
     "output_type": "execute_result"
    }
   ],
   "source": [
    "foo(math.cos)"
   ]
  },
  {
   "cell_type": "code",
   "execution_count": 13,
   "metadata": {
    "collapsed": true
   },
   "outputs": [],
   "source": [
    "def f(x):\n",
    "    def g(y):\n",
    "        return x**2+y\n",
    "    return g"
   ]
  },
  {
   "cell_type": "code",
   "execution_count": 17,
   "metadata": {},
   "outputs": [],
   "source": [
    "nf1=f(5)\n",
    "nf2=f(10)"
   ]
  },
  {
   "cell_type": "code",
   "execution_count": 19,
   "metadata": {},
   "outputs": [
    {
     "data": {
      "text/plain": [
       "(125, 137)"
      ]
     },
     "execution_count": 19,
     "metadata": {},
     "output_type": "execute_result"
    }
   ],
   "source": [
    "nf1(100),nf2(37)"
   ]
  },
  {
   "cell_type": "code",
   "execution_count": 20,
   "metadata": {
    "collapsed": true
   },
   "outputs": [],
   "source": [
    "def polynomial_creator(a, b, c):\n",
    "    def polynomial(x):\n",
    "        return a * x**2 + b*x + c\n",
    "    return polynomial\n"
   ]
  },
  {
   "cell_type": "code",
   "execution_count": 21,
   "metadata": {
    "collapsed": true
   },
   "outputs": [],
   "source": [
    "p1=polynomial_creator(4,6,12)"
   ]
  },
  {
   "cell_type": "code",
   "execution_count": 25,
   "metadata": {},
   "outputs": [
    {
     "name": "stdout",
     "output_type": "stream",
     "text": [
      "16\n",
      "22\n",
      "40\n"
     ]
    }
   ],
   "source": [
    "for x in [-2,1,2]:\n",
    "    print(p1(x))\n",
    "    "
   ]
  },
  {
   "cell_type": "code",
   "execution_count": 26,
   "metadata": {},
   "outputs": [],
   "source": [
    "def polynomial_creator(*coefficients):\n",
    "    \"\"\"coefficientes are in the form a_0, a_1, ..., a_n\n",
    "    \"\"\"\n",
    "    def polynomial(x):\n",
    "        res = 0\n",
    "        for index, coeff in enumerate(coefficients):\n",
    "            res += coeff*x**index\n",
    "        return res\n",
    "    return polynomial"
   ]
  },
  {
   "cell_type": "code",
   "execution_count": 27,
   "metadata": {},
   "outputs": [],
   "source": [
    "p1 = polynomial_creator(4)\n",
    "p2 = polynomial_creator(2, 4)\n",
    "p3 = polynomial_creator(2, 3, -1, 8, 1)\n",
    "p4 = polynomial_creator(-1, 2, 1)\n"
   ]
  },
  {
   "cell_type": "code",
   "execution_count": 28,
   "metadata": {},
   "outputs": [
    {
     "name": "stdout",
     "output_type": "stream",
     "text": [
      "-2 4 -6 -56 -1\n",
      "-1 4 -2 -9 -2\n",
      "0 4 2 2 -1\n",
      "1 4 6 13 2\n"
     ]
    }
   ],
   "source": [
    "for x in range(-2,2,1):\n",
    "    print(x, p1(x),p2(x),p3(x),p4(x))\n",
    "    "
   ]
  },
  {
   "cell_type": "markdown",
   "metadata": {},
   "source": [
    "# Decorator\n",
    "Hay dos tipos en Python: Function decorators y Class decorators.\n",
    "Un Decorator en Python es un objeto llamable que se utiliza para modificar una función o una clase. Una referencia a una funcion o a un clase se pasan al deocrador, este regresa una función o clase modificada.  Estas funciones o clases modificadas usualmente continenen llamadas a las funciones o clases originales."
   ]
  },
  {
   "cell_type": "code",
   "execution_count": 29,
   "metadata": {},
   "outputs": [],
   "source": [
    "def our_decorator(func):\n",
    "    def function_wrapper(x):\n",
    "        print(\"Before calling \" + func.__name__)\n",
    "        func(x)\n",
    "        print(\"After calling \" +func.__name__)\n",
    "    return function_wrapper\n",
    "\n"
   ]
  },
  {
   "cell_type": "code",
   "execution_count": 36,
   "metadata": {
    "collapsed": true
   },
   "outputs": [],
   "source": [
    "def foo(x):\n",
    "    print(\"Hi, foo has been called with \" + str(x))"
   ]
  },
  {
   "cell_type": "code",
   "execution_count": 37,
   "metadata": {},
   "outputs": [
    {
     "name": "stdout",
     "output_type": "stream",
     "text": [
      "Hi, foo has been called with Hola\n"
     ]
    }
   ],
   "source": [
    "foo(\"Hola\")"
   ]
  },
  {
   "cell_type": "code",
   "execution_count": 41,
   "metadata": {
    "collapsed": true
   },
   "outputs": [],
   "source": [
    "fool=our_decorator(foo)"
   ]
  },
  {
   "cell_type": "code",
   "execution_count": 39,
   "metadata": {},
   "outputs": [
    {
     "name": "stdout",
     "output_type": "stream",
     "text": [
      "Hi, foo has been called with 34\n"
     ]
    }
   ],
   "source": [
    "foo(34)"
   ]
  },
  {
   "cell_type": "code",
   "execution_count": 42,
   "metadata": {},
   "outputs": [
    {
     "name": "stdout",
     "output_type": "stream",
     "text": [
      "Before calling foo\n",
      "Hi, foo has been called with 34\n",
      "After calling foo\n"
     ]
    }
   ],
   "source": [
    "fool(34)"
   ]
  },
  {
   "cell_type": "markdown",
   "metadata": {},
   "source": [
    "No es la forma del todo correcta de realizar una decoración en Python:\n",
    "foo=our_decorator(foo)\n",
    "ya que foo existía en dos versiones: antes y después decoración.\n",
    "Hagámoslo bien:\n",
    "@our_decorator en lugar de foo=our_decorator(foo)"
   ]
  },
  {
   "cell_type": "code",
   "execution_count": 44,
   "metadata": {
    "collapsed": true
   },
   "outputs": [],
   "source": [
    "@our_decorator\n",
    "def foo(x):\n",
    "    print(\"Hi, foo has been called with \" + str(x))\n"
   ]
  },
  {
   "cell_type": "code",
   "execution_count": 45,
   "metadata": {},
   "outputs": [
    {
     "name": "stdout",
     "output_type": "stream",
     "text": [
      "Before calling foo\n",
      "Hi, foo has been called with Hola\n",
      "After calling foo\n"
     ]
    }
   ],
   "source": [
    "foo(\"Hola\")"
   ]
  },
  {
   "cell_type": "code",
   "execution_count": 47,
   "metadata": {
    "collapsed": true
   },
   "outputs": [],
   "source": [
    "def our_decorator(func):\n",
    "    def function_wrapper(x):\n",
    "        print(\"Before calling \" + func.__name__)\n",
    "        res = func(x)\n",
    "        print(res)\n",
    "        print(\"After calling \" + func.__name__)\n",
    "    return function_wrapper"
   ]
  },
  {
   "cell_type": "code",
   "execution_count": 48,
   "metadata": {
    "collapsed": true
   },
   "outputs": [],
   "source": [
    "@our_decorator\n",
    "def succ(n):\n",
    "    return n+1"
   ]
  },
  {
   "cell_type": "code",
   "execution_count": 49,
   "metadata": {},
   "outputs": [
    {
     "name": "stdout",
     "output_type": "stream",
     "text": [
      "Before calling succ\n",
      "11\n",
      "After calling succ\n"
     ]
    }
   ],
   "source": [
    "succ(10)"
   ]
  },
  {
   "cell_type": "markdown",
   "metadata": {},
   "source": [
    "Podemos decorar funciones de terceros, pero no podremos utilizar la notación @, y tendremos que utilizar la versión del ejemplo original"
   ]
  },
  {
   "cell_type": "code",
   "execution_count": 51,
   "metadata": {},
   "outputs": [
    {
     "data": {
      "text/plain": [
       "5.3589793170057245e-08"
      ]
     },
     "execution_count": 51,
     "metadata": {},
     "output_type": "execute_result"
    }
   ],
   "source": [
    "from math import sin,cos\n",
    "sin_wrap=our_decorator(sin)\n",
    "cos_wrap=our_decorator(cos)\n",
    "sin(3.1415926)"
   ]
  },
  {
   "cell_type": "code",
   "execution_count": 53,
   "metadata": {},
   "outputs": [
    {
     "name": "stdout",
     "output_type": "stream",
     "text": [
      "Before calling sin\n",
      "5.3589793170057245e-08\n",
      "After calling sin\n",
      "Before calling cos\n",
      "-0.9999999999999986\n",
      "After calling cos\n"
     ]
    }
   ],
   "source": [
    "for f in [sin_wrap,cos_wrap]:\n",
    "    f(3.1415926)\n"
   ]
  },
  {
   "cell_type": "code",
   "execution_count": 55,
   "metadata": {},
   "outputs": [
    {
     "name": "stdout",
     "output_type": "stream",
     "text": [
      "5.3589793170057245e-08\n",
      "-0.9999999999999986\n"
     ]
    }
   ],
   "source": [
    "for f in [sin,cos]:\n",
    "    print(f(3.1415926))"
   ]
  },
  {
   "cell_type": "code",
   "execution_count": 57,
   "metadata": {},
   "outputs": [],
   "source": [
    "def deg_not_rad(func):\n",
    "    def deg2rad_wrapper(x):\n",
    "        x=x*3.141592654/180.\n",
    "        res = func(x)\n",
    "        print(res)\n",
    "        print(\"After calling \" + func.__name__)\n",
    "    return deg2rad_wrapper\n"
   ]
  },
  {
   "cell_type": "code",
   "execution_count": 58,
   "metadata": {},
   "outputs": [],
   "source": [
    "from math import sin,cos\n",
    "sind=deg_not_rad(sin)\n",
    "cosd=deg_not_rad(cos)"
   ]
  },
  {
   "cell_type": "code",
   "execution_count": 62,
   "metadata": {},
   "outputs": [
    {
     "data": {
      "text/plain": [
       "0.49999999226497965"
      ]
     },
     "execution_count": 62,
     "metadata": {},
     "output_type": "execute_result"
    }
   ],
   "source": [
    "sin(3.1415926/6.)"
   ]
  },
  {
   "cell_type": "code",
   "execution_count": 60,
   "metadata": {},
   "outputs": [
    {
     "name": "stdout",
     "output_type": "stream",
     "text": [
      "0.5000000000592083\n",
      "After calling sin\n"
     ]
    }
   ],
   "source": [
    "sind(30)"
   ]
  },
  {
   "cell_type": "code",
   "execution_count": 61,
   "metadata": {},
   "outputs": [
    {
     "name": "stdout",
     "output_type": "stream",
     "text": [
      "0.8660254037502547\n",
      "After calling cos\n"
     ]
    }
   ],
   "source": [
    "cosd(30)"
   ]
  },
  {
   "cell_type": "markdown",
   "metadata": {},
   "source": [
    "## Casos de Uso para Decoradores"
   ]
  },
  {
   "cell_type": "markdown",
   "metadata": {},
   "source": [
    "### Verificando argumentos con Decorators"
   ]
  },
  {
   "cell_type": "code",
   "execution_count": 67,
   "metadata": {
    "collapsed": true
   },
   "outputs": [],
   "source": [
    "def argument_test_int(f):\n",
    "    def helper(x):\n",
    "        if type(x) == int and x>0:\n",
    "            return f(x)\n",
    "        else:\n",
    "            raise Exception(\"Argument must be a positive integer!\")\n",
    "    return helper"
   ]
  },
  {
   "cell_type": "code",
   "execution_count": 75,
   "metadata": {
    "collapsed": true
   },
   "outputs": [],
   "source": [
    "@argument_test_int\n",
    "def factorial(n):\n",
    "    if n==1:\n",
    "        return 1\n",
    "    else:\n",
    "        return n*factorial(n-1)\n",
    "    "
   ]
  },
  {
   "cell_type": "code",
   "execution_count": 72,
   "metadata": {},
   "outputs": [
    {
     "name": "stdout",
     "output_type": "stream",
     "text": [
      "1 1\n",
      "2 2\n",
      "3 6\n",
      "4 24\n",
      "5 120\n",
      "6 720\n",
      "7 5040\n",
      "8 40320\n",
      "9 362880\n"
     ]
    }
   ],
   "source": [
    "for i in range(1,10):\n",
    "    print(i,factorial(i))"
   ]
  },
  {
   "cell_type": "code",
   "execution_count": 76,
   "metadata": {},
   "outputs": [
    {
     "ename": "Exception",
     "evalue": "Argument must be a positive integer!",
     "output_type": "error",
     "traceback": [
      "\u001b[0;31m---------------------------------------------------------------------------\u001b[0m",
      "\u001b[0;31mException\u001b[0m                                 Traceback (most recent call last)",
      "\u001b[0;32m<ipython-input-76-2318b03bd79a>\u001b[0m in \u001b[0;36m<module>\u001b[0;34m()\u001b[0m\n\u001b[0;32m----> 1\u001b[0;31m \u001b[0mprint\u001b[0m\u001b[0;34m(\u001b[0m\u001b[0mfactorial\u001b[0m\u001b[0;34m(\u001b[0m\u001b[0;34m-\u001b[0m\u001b[0;36m100\u001b[0m\u001b[0;34m)\u001b[0m\u001b[0;34m)\u001b[0m\u001b[0;34m\u001b[0m\u001b[0m\n\u001b[0m",
      "\u001b[0;32m<ipython-input-67-a25f176dea1b>\u001b[0m in \u001b[0;36mhelper\u001b[0;34m(x)\u001b[0m\n\u001b[1;32m      4\u001b[0m             \u001b[0;32mreturn\u001b[0m \u001b[0mf\u001b[0m\u001b[0;34m(\u001b[0m\u001b[0mx\u001b[0m\u001b[0;34m)\u001b[0m\u001b[0;34m\u001b[0m\u001b[0m\n\u001b[1;32m      5\u001b[0m         \u001b[0;32melse\u001b[0m\u001b[0;34m:\u001b[0m\u001b[0;34m\u001b[0m\u001b[0m\n\u001b[0;32m----> 6\u001b[0;31m             \u001b[0;32mraise\u001b[0m \u001b[0mException\u001b[0m\u001b[0;34m(\u001b[0m\u001b[0;34m\"Argument must be a positive integer!\"\u001b[0m\u001b[0;34m)\u001b[0m\u001b[0;34m\u001b[0m\u001b[0m\n\u001b[0m\u001b[1;32m      7\u001b[0m     \u001b[0;32mreturn\u001b[0m \u001b[0mhelper\u001b[0m\u001b[0;34m\u001b[0m\u001b[0m\n",
      "\u001b[0;31mException\u001b[0m: Argument must be a positive integer!"
     ]
    }
   ],
   "source": [
    "print(factorial(-100))"
   ]
  },
  {
   "cell_type": "markdown",
   "metadata": {},
   "source": [
    "### Contando llamadas a funciones con Decoradores"
   ]
  },
  {
   "cell_type": "code",
   "execution_count": 77,
   "metadata": {
    "collapsed": true
   },
   "outputs": [],
   "source": [
    "def call_counter(func):\n",
    "    def helper(x):\n",
    "        helper.calls +=1\n",
    "        return func(x)\n",
    "    helper.calls=0\n",
    "    return helper"
   ]
  },
  {
   "cell_type": "code",
   "execution_count": 79,
   "metadata": {},
   "outputs": [],
   "source": [
    "@call_counter\n",
    "def succ(x):\n",
    "    return x+1"
   ]
  },
  {
   "cell_type": "code",
   "execution_count": 80,
   "metadata": {},
   "outputs": [
    {
     "name": "stdout",
     "output_type": "stream",
     "text": [
      "0\n"
     ]
    }
   ],
   "source": [
    "print(succ.calls)\n"
   ]
  },
  {
   "cell_type": "code",
   "execution_count": 81,
   "metadata": {
    "collapsed": true
   },
   "outputs": [],
   "source": [
    "for i in range(10):\n",
    "    succ(i)"
   ]
  },
  {
   "cell_type": "code",
   "execution_count": 82,
   "metadata": {},
   "outputs": [
    {
     "name": "stdout",
     "output_type": "stream",
     "text": [
      "10\n"
     ]
    }
   ],
   "source": [
    "print(succ.calls)"
   ]
  },
  {
   "cell_type": "code",
   "execution_count": 83,
   "metadata": {
    "collapsed": true
   },
   "outputs": [],
   "source": [
    "def call_counter(func):\n",
    "    def helper(*args, **kwargs):\n",
    "        helper.calls +=1\n",
    "        return func(*args,**kwargs)\n",
    "    helper.calls =0\n",
    "    return helper\n"
   ]
  },
  {
   "cell_type": "code",
   "execution_count": 84,
   "metadata": {
    "collapsed": true
   },
   "outputs": [],
   "source": [
    "@call_counter\n",
    "def succ(x):\n",
    "    return x+1"
   ]
  },
  {
   "cell_type": "code",
   "execution_count": 85,
   "metadata": {},
   "outputs": [
    {
     "name": "stdout",
     "output_type": "stream",
     "text": [
      "10\n"
     ]
    }
   ],
   "source": [
    "for i in range(10):\n",
    "    succ(i)\n",
    "print(succ.calls)"
   ]
  },
  {
   "cell_type": "code",
   "execution_count": 86,
   "metadata": {
    "collapsed": true
   },
   "outputs": [],
   "source": [
    "@call_counter\n",
    "def mull(x,y=1):\n",
    "    return(x*y+1)\n"
   ]
  },
  {
   "cell_type": "code",
   "execution_count": 87,
   "metadata": {
    "collapsed": true
   },
   "outputs": [],
   "source": [
    "for i in range(25):\n",
    "    mull(i,5)"
   ]
  },
  {
   "cell_type": "code",
   "execution_count": 88,
   "metadata": {},
   "outputs": [
    {
     "name": "stdout",
     "output_type": "stream",
     "text": [
      "25\n"
     ]
    }
   ],
   "source": [
    "print(mull.calls)"
   ]
  },
  {
   "cell_type": "markdown",
   "metadata": {},
   "source": [
    "## Decoradores con parámetros"
   ]
  },
  {
   "cell_type": "code",
   "execution_count": 89,
   "metadata": {
    "collapsed": true
   },
   "outputs": [],
   "source": [
    "def evening_greeting(func):\n",
    "    def function_wrapper(x):\n",
    "        print(\"Buenas tardes, \"+func.__name__+\" returns:\")\n",
    "        func(x)\n",
    "    return function_wrapper"
   ]
  },
  {
   "cell_type": "code",
   "execution_count": 90,
   "metadata": {
    "collapsed": true
   },
   "outputs": [],
   "source": [
    "def morning_greeting(func):\n",
    "    def function_wrapper(x):\n",
    "        print(\"Buenos días, \"+func.__name__+\" returns:\")\n",
    "        func(x)\n",
    "    return function_wrapper"
   ]
  },
  {
   "cell_type": "code",
   "execution_count": 91,
   "metadata": {
    "collapsed": true
   },
   "outputs": [],
   "source": [
    "@evening_greeting\n",
    "def foo(x):\n",
    "    print(2017)\n"
   ]
  },
  {
   "cell_type": "code",
   "execution_count": 92,
   "metadata": {},
   "outputs": [
    {
     "name": "stdout",
     "output_type": "stream",
     "text": [
      "Buenas tardes, foo returns:\n",
      "2017\n"
     ]
    }
   ],
   "source": [
    "foo(28)"
   ]
  },
  {
   "cell_type": "code",
   "execution_count": 98,
   "metadata": {},
   "outputs": [],
   "source": [
    "def greeting(expr):\n",
    "    def greeting_decorator(func):\n",
    "        def function_wrapper(x):\n",
    "            print(expr +', '+func.__name__+\" returns:\")\n",
    "            func(x)\n",
    "        return function_wrapper\n",
    "    return greeting_decorator\n"
   ]
  },
  {
   "cell_type": "code",
   "execution_count": 133,
   "metadata": {
    "collapsed": true
   },
   "outputs": [],
   "source": [
    "@greeting(\"Buenos días\")\n",
    "def foo(x):\n",
    "    print(2017)"
   ]
  },
  {
   "cell_type": "code",
   "execution_count": 121,
   "metadata": {},
   "outputs": [
    {
     "name": "stdout",
     "output_type": "stream",
     "text": [
      "2017\n"
     ]
    }
   ],
   "source": [
    "foo(28)"
   ]
  },
  {
   "cell_type": "code",
   "execution_count": 122,
   "metadata": {
    "collapsed": true
   },
   "outputs": [],
   "source": [
    "greeting2=greeting(\"Buenas madrugadas\")"
   ]
  },
  {
   "cell_type": "code",
   "execution_count": 130,
   "metadata": {
    "collapsed": true
   },
   "outputs": [],
   "source": [
    "fool3=greeting2(foo)"
   ]
  },
  {
   "cell_type": "code",
   "execution_count": 131,
   "metadata": {},
   "outputs": [
    {
     "name": "stdout",
     "output_type": "stream",
     "text": [
      "Good morning, foo returns:\n",
      "2017\n"
     ]
    }
   ],
   "source": [
    "fool3(28)"
   ]
  },
  {
   "cell_type": "code",
   "execution_count": 134,
   "metadata": {},
   "outputs": [
    {
     "name": "stdout",
     "output_type": "stream",
     "text": [
      "Good morning, function_wrapper returns:\n",
      "Buenos días, foo returns:\n",
      "2017\n"
     ]
    }
   ],
   "source": [
    "fool4 = greeting(\"Good morning\")(foo)\n",
    "fool4(28)"
   ]
  },
  {
   "cell_type": "markdown",
   "metadata": {},
   "source": [
    "## La decoración pierde atributos\n",
    "\"\\__name\\__\"\n",
    "\"\\__doc\\__\"\n",
    "\"\\__module\\__\"\n",
    "de la función original se pierden después de la decoración."
   ]
  },
  {
   "cell_type": "code",
   "execution_count": 144,
   "metadata": {},
   "outputs": [],
   "source": [
    "def saludos(func):\n",
    "    def function_wrapper(x):\n",
    "        \"\"\"function_wrapper para saludos\"\"\"\n",
    "        print(\"Hi \" + func.__name__+ \" returns:\")\n",
    "        return func(x)\n",
    "    return function_wrapper\n"
   ]
  },
  {
   "cell_type": "code",
   "execution_count": 150,
   "metadata": {
    "collapsed": true
   },
   "outputs": [],
   "source": [
    "@saludos\n",
    "def f(x):\n",
    "    \"\"\"cualquier funcion\"\"\"\n",
    "    return x*4\n"
   ]
  },
  {
   "cell_type": "code",
   "execution_count": 151,
   "metadata": {},
   "outputs": [
    {
     "name": "stdout",
     "output_type": "stream",
     "text": [
      "Hi f returns:\n"
     ]
    },
    {
     "data": {
      "text/plain": [
       "40"
      ]
     },
     "execution_count": 151,
     "metadata": {},
     "output_type": "execute_result"
    }
   ],
   "source": [
    "f(10)"
   ]
  },
  {
   "cell_type": "code",
   "execution_count": 152,
   "metadata": {},
   "outputs": [
    {
     "name": "stdout",
     "output_type": "stream",
     "text": [
      "function name: function_wrapper para saludos\n"
     ]
    }
   ],
   "source": [
    "print(\"function name: \"+f.__doc__)"
   ]
  },
  {
   "cell_type": "code",
   "execution_count": 153,
   "metadata": {
    "collapsed": true
   },
   "outputs": [],
   "source": [
    "# para preservar los atributos de la función original\n",
    "def saludos(func):\n",
    "    def function_wrapper(x):\n",
    "        \"\"\"function_wrapper para saludos\"\"\"\n",
    "        print(\"Hi \" + func.__name__+ \" returns:\")\n",
    "        return func(x)\n",
    "    function_wrapper.__name__=func.__name__\n",
    "    function_wrapper.__doc__=func.__doc__\n",
    "    function_wrapper.__module__=func.__module__\n",
    "    return function_wrapper"
   ]
  },
  {
   "cell_type": "code",
   "execution_count": 154,
   "metadata": {
    "collapsed": true
   },
   "outputs": [],
   "source": [
    "@saludos\n",
    "def f(x):\n",
    "    \"\"\"cualquier funcion\"\"\"\n",
    "    return x*4"
   ]
  },
  {
   "cell_type": "code",
   "execution_count": 155,
   "metadata": {},
   "outputs": [
    {
     "name": "stdout",
     "output_type": "stream",
     "text": [
      "Hi f returns:\n"
     ]
    },
    {
     "data": {
      "text/plain": [
       "80"
      ]
     },
     "execution_count": 155,
     "metadata": {},
     "output_type": "execute_result"
    }
   ],
   "source": [
    "f(20)"
   ]
  },
  {
   "cell_type": "code",
   "execution_count": 156,
   "metadata": {},
   "outputs": [
    {
     "name": "stdout",
     "output_type": "stream",
     "text": [
      "function name: cualquier funcion\n"
     ]
    }
   ],
   "source": [
    "print(\"function name: \"+f.__doc__)"
   ]
  },
  {
   "cell_type": "code",
   "execution_count": 163,
   "metadata": {
    "collapsed": true
   },
   "outputs": [],
   "source": [
    "from functools import wraps\n",
    "def sayhello(func):\n",
    "    @wraps(func)\n",
    "    def function_wrapper(x):\n",
    "        \"\"\" function wrapper for sayhello\"\"\"\n",
    "        print(\"Hi, \",func.__name__+\" returns:\")\n",
    "        return func(x)\n",
    "    return function_wrapper\n",
    "    \n",
    "    "
   ]
  },
  {
   "cell_type": "code",
   "execution_count": 164,
   "metadata": {},
   "outputs": [],
   "source": [
    "@sayhello\n",
    "def ff(x):\n",
    "    \"\"\"cualquier funcion básica\"\"\"\n",
    "    return x**2"
   ]
  },
  {
   "cell_type": "code",
   "execution_count": 165,
   "metadata": {},
   "outputs": [
    {
     "name": "stdout",
     "output_type": "stream",
     "text": [
      "Hi,  ff returns:\n"
     ]
    },
    {
     "data": {
      "text/plain": [
       "100"
      ]
     },
     "execution_count": 165,
     "metadata": {},
     "output_type": "execute_result"
    }
   ],
   "source": [
    "ff(10)"
   ]
  },
  {
   "cell_type": "code",
   "execution_count": 166,
   "metadata": {},
   "outputs": [
    {
     "name": "stdout",
     "output_type": "stream",
     "text": [
      "cualquier funcion básica\n"
     ]
    }
   ],
   "source": [
    "print(ff.__doc__)"
   ]
  },
  {
   "cell_type": "markdown",
   "metadata": {},
   "source": [
    "## Class Decorators"
   ]
  },
  {
   "cell_type": "code",
   "execution_count": 168,
   "metadata": {},
   "outputs": [],
   "source": [
    "class A:\n",
    "    def __init__(self):\n",
    "        print(\"An instance of A was intialized\")\n",
    "    def __call__(self,*args,**kwargs):\n",
    "        print(\"Arguments are:\", args,kwargs)"
   ]
  },
  {
   "cell_type": "code",
   "execution_count": 169,
   "metadata": {},
   "outputs": [
    {
     "name": "stdout",
     "output_type": "stream",
     "text": [
      "An instance of A was intialized\n"
     ]
    }
   ],
   "source": [
    "x=A()"
   ]
  },
  {
   "cell_type": "code",
   "execution_count": 170,
   "metadata": {},
   "outputs": [
    {
     "name": "stdout",
     "output_type": "stream",
     "text": [
      "Arguments are: (3, 4) {'x': 11, 'y': 10}\n"
     ]
    }
   ],
   "source": [
    "x(3,4,x=11,y=10)"
   ]
  },
  {
   "cell_type": "code",
   "execution_count": 172,
   "metadata": {},
   "outputs": [],
   "source": [
    "class Fibonacci:\n",
    "    def __init__(self):\n",
    "        self.cache = {}\n",
    "    def __call__(self,n):\n",
    "        if n not in self.cache:\n",
    "            if n == 0:\n",
    "                self.cache[0]=0\n",
    "            elif n==1:\n",
    "                self.cache[1]=1\n",
    "            else:\n",
    "                self.cache[n]=self.__call__(n-1) + self.__call__(n-2)\n",
    "        return self.cache[n]"
   ]
  },
  {
   "cell_type": "code",
   "execution_count": 173,
   "metadata": {
    "collapsed": true
   },
   "outputs": [],
   "source": [
    "fib=Fibonacci()\n"
   ]
  },
  {
   "cell_type": "code",
   "execution_count": 174,
   "metadata": {},
   "outputs": [
    {
     "name": "stdout",
     "output_type": "stream",
     "text": [
      "0, 1, 1, 2, 3, 5, 8, 13, 21, 34, 55, 89, 144, 233, 377, "
     ]
    }
   ],
   "source": [
    "for i in range(15):\n",
    "    print(fib(i),end=', ')"
   ]
  },
  {
   "cell_type": "markdown",
   "metadata": {},
   "source": [
    "### Usando una clase como decorador"
   ]
  },
  {
   "cell_type": "code",
   "execution_count": 175,
   "metadata": {
    "collapsed": true
   },
   "outputs": [],
   "source": [
    "def decorator1(f):\n",
    "    def helper():\n",
    "        print(\"Decorating\", f.__name__)\n",
    "        f()\n",
    "    return helper"
   ]
  },
  {
   "cell_type": "code",
   "execution_count": 176,
   "metadata": {
    "collapsed": true
   },
   "outputs": [],
   "source": [
    "@decorator1\n",
    "def goo():\n",
    "    print(\"inside goo()\")"
   ]
  },
  {
   "cell_type": "code",
   "execution_count": 177,
   "metadata": {},
   "outputs": [
    {
     "name": "stdout",
     "output_type": "stream",
     "text": [
      "Decorating goo\n",
      "inside goo()\n"
     ]
    }
   ],
   "source": [
    "goo()"
   ]
  },
  {
   "cell_type": "code",
   "execution_count": 179,
   "metadata": {
    "collapsed": true
   },
   "outputs": [],
   "source": [
    "class decorator2:\n",
    "    def __init__(self, f):\n",
    "        self.f = f\n",
    "    def __call__(self):\n",
    "        print(\"Decorating\", self.f.__name__)\n",
    "        self.f()\n",
    "        "
   ]
  },
  {
   "cell_type": "code",
   "execution_count": 180,
   "metadata": {
    "collapsed": true
   },
   "outputs": [],
   "source": [
    "@decorator2\n",
    "def joo():\n",
    "    print(\"Inside joo()\")\n",
    "    "
   ]
  },
  {
   "cell_type": "code",
   "execution_count": 181,
   "metadata": {},
   "outputs": [
    {
     "name": "stdout",
     "output_type": "stream",
     "text": [
      "Decorating joo\n",
      "Inside joo()\n"
     ]
    }
   ],
   "source": [
    "joo()"
   ]
  },
  {
   "cell_type": "code",
   "execution_count": null,
   "metadata": {
    "collapsed": true
   },
   "outputs": [],
   "source": []
  }
 ],
 "metadata": {
  "kernelspec": {
   "display_name": "Python 3",
   "language": "python",
   "name": "python3"
  },
  "language_info": {
   "codemirror_mode": {
    "name": "ipython",
    "version": 3
   },
   "file_extension": ".py",
   "mimetype": "text/x-python",
   "name": "python",
   "nbconvert_exporter": "python",
   "pygments_lexer": "ipython3",
   "version": "3.6.1"
  }
 },
 "nbformat": 4,
 "nbformat_minor": 2
}
