{
 "cells": [
  {
   "cell_type": "markdown",
   "metadata": {},
   "source": [
    "# Generadores\n",
    "Una serie de problemas para ser resueltos con generadores. Seguramente necesitaras repasar un poco generadores, pero es parte del aprendizaje.  Son cinco pasos en total.  Cada paso es independiente del siguiente, pero puede resultar útil lo que has hecho en el paso anterior.\n",
    "En cada bloque, debes definir la función para que el resto del código ya escrito funcione y genere el output esperado.\n",
    "Copia el notebook en local, modifícalo (pruebalo muchas veces) y cuando lo tengas listo, súbelo al campus virtual o a tu propio github y comparte el enlace en la tarea."
   ]
  },
  {
   "cell_type": "markdown",
   "metadata": {},
   "source": [
    "Parte 1: Crea un generador que calcule la media corriente (running average)"
   ]
  },
  {
   "cell_type": "code",
   "execution_count": null,
   "metadata": {
    "collapsed": true
   },
   "outputs": [],
   "source": [
    "def running_average():\n",
    "    \"\"\" Escribe el código necesario para calcular \n",
    "    la media corriente (running average)\"\"\"\n",
    "     #escribe aquí tu código\n",
    "        \n",
    "     ###   \n",
    "    \n",
    "ra = running_average() #initialize the corutina\n",
    "next(ra)               #iniciar la corutina    \n",
    "for value in [7, 13, 17, 231, 12, 8, 3]:\n",
    "    out_str = \"sent: {val:3d}, new average: {avg:6.2f}\"\n",
    "    print(out_str.format(val=value, avg=ra.send(value)))  "
   ]
  },
  {
   "cell_type": "markdown",
   "metadata": {},
   "source": [
    "Esta es la salida esperada de tu programa\n",
    "\n",
    "sent:   7, new average:   7.00\n",
    "\n",
    "sent:  13, new average:  10.00\n",
    "\n",
    "sent:  17, new average:  12.33\n",
    "\n",
    "sent: 231, new average:  67.00\n",
    "\n",
    "sent:  12, new average:  56.00\n",
    "\n",
    "sent:   8, new average:  48.00\n",
    "\n",
    "sent:   3, new average:  41.57"
   ]
  },
  {
   "cell_type": "markdown",
   "metadata": {},
   "source": [
    "Parte 2: escribe un generador \"trange\", que genere una secuencia de tuplas de tiempo desde un \"inicio\" hasta un \"final\" incrementados por un \"paso\". Una tupla de tiempo es una tupla de 3 enteros: (horas,minutos,segundos)"
   ]
  },
  {
   "cell_type": "code",
   "execution_count": null,
   "metadata": {
    "collapsed": true
   },
   "outputs": [],
   "source": [
    "def trange(start, stop, step):\n",
    "    \"\"\"start, stop y step son tuplas de tres enteros;\n",
    "    uno para horas, minutos y segundos (h,m,s)\n",
    "    start: time tuple (h0,m0,s0)\n",
    "    stop: time tuple (hf,mf,sf)\n",
    "    step: time tuple (ih,im,is), incremento h,m,s\n",
    "    \n",
    "    devuelve una lista de tuplas de tiempo desde el start hasta stop\n",
    "    (o antes) incrementandose en step\"\"\"\n",
    "    #escribe aquí tu código\n",
    "    \n",
    "    ###\n",
    "    \n",
    "for time in trange((6,0,0),(23,0,0),(0,1,30)):\n",
    "    print(time)\n",
    "    "
   ]
  },
  {
   "cell_type": "markdown",
   "metadata": {},
   "source": [
    "Salida esperada:\n",
    "\n",
    "(12, 15, 10)\n",
    "\n",
    "(12, 30, 22)\n",
    "\n",
    "(12, 45, 34)\n",
    "\n",
    "(13, 0, 46)\n",
    "\n",
    "(13, 15, 58)\n",
    "\n",
    "(13, 31, 10)\n",
    "\n",
    "(13, 46, 22)\n",
    "\n",
    "(14, 1, 34)"
   ]
  },
  {
   "cell_type": "raw",
   "metadata": {},
   "source": [
    "Parte 3: modifique la versión de trange para que pueda recibir un mensaje y resetear el valor de inicio."
   ]
  },
  {
   "cell_type": "code",
   "execution_count": null,
   "metadata": {
    "collapsed": true
   },
   "outputs": [],
   "source": [
    "def rtrange(start, stop, step):\n",
    "    \"\"\"start, stop y step son tuplas de tres enteros;\n",
    "    uno para horas, minutos y segundos (h,m,s)\n",
    "    start: time tuple (h0,m0,s0)\n",
    "    stop: time tuple (hf,mf,sf)\n",
    "    step: time tuple (ih,im,is), incremento h,m,s\n",
    "    \n",
    "    devuelve una lista de tuplas de tiempo desde el start hasta stop\n",
    "    (o antes) incrementandose en step\n",
    "    El generador se puede reiniciar enviando un nuevo valor de start\"\"\"\n",
    "    #escribe aquí tu código\n",
    "    \n",
    "    ####\n",
    "    \n",
    "ts = rtrange((10, 10, 10), (13, 50, 15), (0, 15, 12) )  \n",
    "for _ in range(3):\n",
    "    print(next(ts))\n",
    "        \n",
    "print(ts.send((8, 5, 50)))\n",
    "for _ in range(3):\n",
    "    print(next(ts))\n",
    "    "
   ]
  },
  {
   "cell_type": "markdown",
   "metadata": {},
   "source": [
    "Salida esperada:\n",
    "\n",
    "(10, 10, 10)\n",
    "\n",
    "(10, 25, 22)\n",
    "\n",
    "(10, 40, 34)\n",
    "\n",
    "(8, 5, 50)\n",
    "\n",
    "(8, 21, 2)\n",
    "\n",
    "(8, 36, 14)\n",
    "\n",
    "(8, 51, 26)"
   ]
  },
  {
   "cell_type": "markdown",
   "metadata": {},
   "source": [
    "Parte 4: utilice el programa trange para generar un archivo \"Tiempo_vs_Temperatura.txt\". Cada línea del archivo debe contener un tiempo en formato hh:mm:ss y una temperatura (aleatoria) entre 10 y 25 graods. Los tiempos deben ser en orden ascendente con un intervalo de 90 segundos, empezando desde 06:00:00 y terminando a las 23:00:00. No es necesario reescribir la función trange; solo compilarla antes para poderla usar aquí."
   ]
  },
  {
   "cell_type": "code",
   "execution_count": null,
   "metadata": {
    "collapsed": true
   },
   "outputs": [],
   "source": [
    "### importar random para generar la temperatura\n",
    "import random\n",
    "\n",
    "#abrir archivo para escritura, el nombre debe ser \n",
    "# \"Tiempo_vs_Temperatura.txt\"\n",
    "\n",
    "#\n",
    "# generar los tiempos y agregar la temperatura \n",
    "\n",
    "# preparar la línea con el formato correcto \"(:02d)\" \n",
    "\n",
    "# escribir el archivo\n",
    "\n",
    "\n"
   ]
  },
  {
   "cell_type": "markdown",
   "metadata": {},
   "source": [
    "El archivo debe contener algo parecido a esto (la temperatura es aleatoria, pero los tiempos deben ser iguales a estos):\n",
    "\n",
    "06:00:00 14.0\n",
    "\n",
    "06:01:30 10.5\n",
    "\n",
    "06:03:00 21.0\n",
    "\n",
    "...\n",
    "\n",
    "22:57:00 12.1\n",
    "\n",
    "22:58:30 21.5\n",
    "\n",
    "##end of file"
   ]
  },
  {
   "cell_type": "raw",
   "metadata": {},
   "source": [
    "Parte 5: escribe un generador con el nombre \"random_ones_and_zeros\", cuyo resultado sea un bitstream, es decir, una serie de ceros y uno sen sucesión. La probabilidad p de dar como resultado 1 está definida en la variable p. El generador iniciarizara el valor de p a 0.5. Es decir, ceros y unos aparecerán con la misma probabilidad."
   ]
  },
  {
   "cell_type": "code",
   "execution_count": null,
   "metadata": {
    "collapsed": true
   },
   "outputs": [],
   "source": [
    "import random\n",
    "\n",
    "def random_ones_and_zeros():\n",
    "    ### escribe aquí el codigo, recuerda que p=0.5\n",
    "    \n",
    "    ###\n",
    "    \n",
    "x = random_ones_and_zeros()\n",
    "next (x)    #no nos interesa el número generado pero la secuencia\n",
    "for p in [0.2,0.5,0.8]:  #trabajaremos con tres probabilidades distintas\n",
    "    x.send(p)\n",
    "    print(\"\\n probability: \"+str(p))\n",
    "    for i in range(15):\n",
    "        print(next(x), end=\" \")\n"
   ]
  },
  {
   "cell_type": "markdown",
   "metadata": {},
   "source": [
    "La salida esperada debe ser similar a esta:\n",
    "\n",
    "probability: 0.2\n",
    "\n",
    "0 0 0 0 0 0 1 0 0 0 0 0 0 1 0 \n",
    "\n",
    " probability: 0.5\n",
    " \n",
    "1 0 0 1 0 0 0 1 0 1 1 0 0 0 1 \n",
    "\n",
    " probability: 0.8\n",
    " \n",
    "1 1 1 1 1 1 1 1 1 1 0 0 1 1 1 \n"
   ]
  },
  {
   "cell_type": "code",
   "execution_count": null,
   "metadata": {
    "collapsed": true
   },
   "outputs": [],
   "source": []
  }
 ],
 "metadata": {
  "kernelspec": {
   "display_name": "Python 3",
   "language": "python",
   "name": "python3"
  },
  "language_info": {
   "codemirror_mode": {
    "name": "ipython",
    "version": 3
   },
   "file_extension": ".py",
   "mimetype": "text/x-python",
   "name": "python",
   "nbconvert_exporter": "python",
   "pygments_lexer": "ipython3",
   "version": "3.6.1"
  }
 },
 "nbformat": 4,
 "nbformat_minor": 2
}
