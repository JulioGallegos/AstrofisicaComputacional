{
 "cells": [
  {
   "cell_type": "markdown",
   "metadata": {},
   "source": [
    "# PyQt continued 02/Oct/2017"
   ]
  },
  {
   "cell_type": "markdown",
   "metadata": {},
   "source": [
    "## Diálogos"
   ]
  },
  {
   "cell_type": "markdown",
   "metadata": {},
   "source": [
    "### Dialogs in Qt5"
   ]
  },
  {
   "cell_type": "code",
   "execution_count": null,
   "metadata": {},
   "outputs": [],
   "source": [
    "### Recibir datos de un diálogo\n",
    "\n",
    "from PyQt5.QtWidgets import (QWidget, QPushButton, QLineEdit, \n",
    "    QInputDialog, QApplication)\n",
    "import sys\n",
    "\n",
    "class Example(QWidget):\n",
    "    \n",
    "    def __init__(self):\n",
    "        super().__init__()\n",
    "        \n",
    "        self.initUI()\n",
    "        \n",
    "        \n",
    "    def initUI(self):      \n",
    "\n",
    "        self.btn = QPushButton('Dialog', self)\n",
    "        self.btn.move(20, 20)\n",
    "        self.btn.clicked.connect(self.showDialog)\n",
    "        \n",
    "        self.le = QLineEdit(self)\n",
    "        self.le.move(130, 22)\n",
    "        \n",
    "        self.setGeometry(300, 300, 290, 150)\n",
    "        self.setWindowTitle('Input dialog')\n",
    "        self.show()\n",
    "        \n",
    "        \n",
    "    def showDialog(self):\n",
    "        \n",
    "        text, ok = QInputDialog.getText(self, 'Input Dialog', \n",
    "            'Enter your name:')\n",
    "        \n",
    "        if ok:\n",
    "            self.le.setText(str(text))"
   ]
  },
  {
   "cell_type": "code",
   "execution_count": null,
   "metadata": {},
   "outputs": [],
   "source": [
    "app = QApplication(sys.argv)\n",
    "ex = Example()\n",
    "sys.exit(app.exec_())"
   ]
  },
  {
   "cell_type": "markdown",
   "metadata": {},
   "source": [
    "### Selector de Color"
   ]
  },
  {
   "cell_type": "code",
   "execution_count": null,
   "metadata": {},
   "outputs": [],
   "source": [
    "### Seleccionamos color\n",
    "\n",
    "from PyQt5.QtWidgets import (QWidget, QPushButton, QFrame, \n",
    "    QColorDialog, QApplication)\n",
    "from PyQt5.QtGui import QColor\n",
    "import sys\n",
    "\n",
    "class Example(QWidget):\n",
    "    \n",
    "    def __init__(self):\n",
    "        super().__init__()\n",
    "        \n",
    "        self.initUI()\n",
    "        \n",
    "        \n",
    "    def initUI(self):      \n",
    "\n",
    "        col = QColor(0, 0, 0) \n",
    "\n",
    "        self.btn = QPushButton('Dialog', self)\n",
    "        self.btn.move(20, 20)\n",
    "\n",
    "        self.btn.clicked.connect(self.showDialog)\n",
    "\n",
    "        self.frm = QFrame(self)\n",
    "        self.frm.setStyleSheet(\"QWidget { background-color: %s }\" \n",
    "            % col.name())\n",
    "        self.frm.setGeometry(130, 22, 100, 100)            \n",
    "        \n",
    "        self.setGeometry(300, 300, 250, 180)\n",
    "        self.setWindowTitle('Color dialog')\n",
    "        self.show()\n",
    "        \n",
    "        \n",
    "    def showDialog(self):\n",
    "      \n",
    "        col = QColorDialog.getColor()\n",
    "\n",
    "        if col.isValid():\n",
    "            self.frm.setStyleSheet(\"QWidget { background-color: %s }\"\n",
    "                % col.name())"
   ]
  },
  {
   "cell_type": "code",
   "execution_count": null,
   "metadata": {},
   "outputs": [],
   "source": [
    "app = QApplication(sys.argv)\n",
    "ex = Example()\n",
    "sys.exit(app.exec_())"
   ]
  },
  {
   "cell_type": "markdown",
   "metadata": {},
   "source": [
    "### Selector de tipo (Font)"
   ]
  },
  {
   "cell_type": "code",
   "execution_count": null,
   "metadata": {},
   "outputs": [],
   "source": [
    "### Selector de font\n",
    "from PyQt5.QtWidgets import (QWidget, QVBoxLayout, QPushButton, \n",
    "    QSizePolicy, QLabel, QFontDialog, QApplication)\n",
    "import sys\n",
    "\n",
    "class Example(QWidget):\n",
    "    \n",
    "    def __init__(self):\n",
    "        super().__init__()\n",
    "        \n",
    "        self.initUI()\n",
    "        \n",
    "        \n",
    "    def initUI(self):      \n",
    "\n",
    "        vbox = QVBoxLayout()\n",
    "\n",
    "        btn = QPushButton('Dialog', self)\n",
    "        btn.setSizePolicy(QSizePolicy.Fixed,\n",
    "            QSizePolicy.Fixed)\n",
    "        \n",
    "        btn.move(20, 20)\n",
    "\n",
    "        vbox.addWidget(btn)\n",
    "\n",
    "        btn.clicked.connect(self.showDialog)\n",
    "        \n",
    "        self.lbl = QLabel('Knowledge only matters', self)\n",
    "        self.lbl.move(130, 20)\n",
    "\n",
    "        vbox.addWidget(self.lbl)\n",
    "        self.setLayout(vbox)          \n",
    "        \n",
    "        self.setGeometry(300, 300, 250, 180)\n",
    "        self.setWindowTitle('Font dialog')\n",
    "        self.show()\n",
    "        \n",
    "        \n",
    "    def showDialog(self):\n",
    "\n",
    "        font, ok = QFontDialog.getFont()\n",
    "        if ok:\n",
    "            self.lbl.setFont(font)"
   ]
  },
  {
   "cell_type": "code",
   "execution_count": null,
   "metadata": {},
   "outputs": [],
   "source": [
    "app = QApplication(sys.argv)\n",
    "ex = Example()\n",
    "sys.exit(app.exec_())"
   ]
  },
  {
   "cell_type": "markdown",
   "metadata": {},
   "source": [
    "### Dialogo de archivos y directorios"
   ]
  },
  {
   "cell_type": "code",
   "execution_count": null,
   "metadata": {},
   "outputs": [],
   "source": [
    "### Selección de archivos y directorios\n",
    "\n",
    "from PyQt5.QtWidgets import (QMainWindow, QTextEdit, \n",
    "    QAction, QFileDialog, QApplication)\n",
    "from PyQt5.QtGui import QIcon\n",
    "import sys\n",
    "\n",
    "class Example(QMainWindow):\n",
    "    \n",
    "    def __init__(self):\n",
    "        super().__init__()\n",
    "        \n",
    "        self.initUI()\n",
    "        \n",
    "        \n",
    "    def initUI(self):      \n",
    "\n",
    "        self.textEdit = QTextEdit()\n",
    "        self.setCentralWidget(self.textEdit)\n",
    "        self.statusBar()\n",
    "\n",
    "        openFile = QAction('Open', self)\n",
    "        openFile.setShortcut('Ctrl+O')\n",
    "        openFile.setStatusTip('Open new File')\n",
    "        openFile.triggered.connect(self.showDialog)\n",
    "\n",
    "        menubar = self.menuBar()\n",
    "        fileMenu = menubar.addMenu('&File')\n",
    "        fileMenu.addAction(openFile)       \n",
    "        \n",
    "        self.setGeometry(300, 300, 350, 300)\n",
    "        self.setWindowTitle('File dialog')\n",
    "        self.show()\n",
    "        \n",
    "        \n",
    "    def showDialog(self):\n",
    "\n",
    "        fname = QFileDialog.getOpenFileName(self, 'Open file', '/Users/jgallegos')\n",
    "\n",
    "        if fname[0]:\n",
    "            f = open(fname[0], 'r')\n",
    "\n",
    "            with f:\n",
    "                data = f.read()\n",
    "                self.textEdit.setText(data)  "
   ]
  },
  {
   "cell_type": "code",
   "execution_count": null,
   "metadata": {},
   "outputs": [],
   "source": [
    "app = QApplication(sys.argv)\n",
    "ex = Example()\n",
    "sys.exit(app.exec_())"
   ]
  },
  {
   "cell_type": "markdown",
   "metadata": {},
   "source": [
    "## Widgets"
   ]
  },
  {
   "cell_type": "markdown",
   "metadata": {},
   "source": [
    "### QCheckBox"
   ]
  },
  {
   "cell_type": "code",
   "execution_count": null,
   "metadata": {},
   "outputs": [],
   "source": [
    "from PyQt5.QtWidgets import QWidget, QCheckBox, QApplication\n",
    "from PyQt5.QtCore import Qt\n",
    "import sys\n",
    "\n",
    "class Example(QWidget):\n",
    "    \n",
    "    def __init__(self):\n",
    "        super().__init__()\n",
    "        \n",
    "        self.initUI()\n",
    "        \n",
    "        \n",
    "    def initUI(self):      \n",
    "\n",
    "        cb = QCheckBox('Show title', self)\n",
    "        cb.move(20, 20)\n",
    "        cb.toggle()\n",
    "        cb.stateChanged.connect(self.changeTitle)\n",
    "        \n",
    "        self.setGeometry(300, 300, 250, 150)\n",
    "        self.setWindowTitle('QCheckBox')\n",
    "        self.show()\n",
    "        \n",
    "        \n",
    "    def changeTitle(self, state):\n",
    "      \n",
    "        if state == Qt.Checked:\n",
    "            self.setWindowTitle('QCheckBox')\n",
    "        else:\n",
    "            self.setWindowTitle(' ')"
   ]
  },
  {
   "cell_type": "code",
   "execution_count": null,
   "metadata": {},
   "outputs": [],
   "source": [
    "app = QApplication(sys.argv)\n",
    "ex = Example()\n",
    "sys.exit(app.exec_())"
   ]
  },
  {
   "cell_type": "markdown",
   "metadata": {},
   "source": [
    "### Toggle Button"
   ]
  },
  {
   "cell_type": "code",
   "execution_count": null,
   "metadata": {},
   "outputs": [],
   "source": [
    "from PyQt5.QtWidgets import (QWidget, QPushButton, \n",
    "    QFrame, QApplication)\n",
    "from PyQt5.QtGui import QColor\n",
    "import sys\n",
    "\n",
    "class Example(QWidget):\n",
    "    \n",
    "    def __init__(self):\n",
    "        super().__init__()\n",
    "        \n",
    "        self.initUI()\n",
    "        \n",
    "        \n",
    "    def initUI(self):      \n",
    "\n",
    "        self.col = QColor(0, 0, 0)       \n",
    "\n",
    "        redb = QPushButton('Red', self)\n",
    "        redb.setCheckable(True)\n",
    "        redb.move(10, 10)\n",
    "\n",
    "        redb.clicked[bool].connect(self.setColor)\n",
    "\n",
    "        greenb = QPushButton('Green', self)\n",
    "        greenb.setCheckable(True)\n",
    "        greenb.move(10, 60)\n",
    "\n",
    "        greenb.clicked[bool].connect(self.setColor)\n",
    "\n",
    "        blueb = QPushButton('Blue', self)\n",
    "        blueb.setCheckable(True)\n",
    "        blueb.move(10, 110)\n",
    "\n",
    "        blueb.clicked[bool].connect(self.setColor)\n",
    "\n",
    "        self.square = QFrame(self)\n",
    "        self.square.setGeometry(150, 20, 100, 100)\n",
    "        self.square.setStyleSheet(\"QWidget { background-color: %s }\" %  \n",
    "            self.col.name())\n",
    "        \n",
    "        self.setGeometry(300, 300, 280, 170)\n",
    "        self.setWindowTitle('Toggle button')\n",
    "        self.show()\n",
    "        \n",
    "        \n",
    "    def setColor(self, pressed):\n",
    "        \n",
    "        source = self.sender()\n",
    "        \n",
    "        if pressed:\n",
    "            val = 255\n",
    "        else: val = 0\n",
    "                        \n",
    "        if source.text() == \"Red\":\n",
    "            self.col.setRed(val)                \n",
    "        elif source.text() == \"Green\":\n",
    "            self.col.setGreen(val)             \n",
    "        else:\n",
    "            self.col.setBlue(val) \n",
    "            \n",
    "        self.square.setStyleSheet(\"QFrame { background-color: %s }\" %\n",
    "            self.col.name())"
   ]
  },
  {
   "cell_type": "code",
   "execution_count": null,
   "metadata": {},
   "outputs": [],
   "source": [
    "app = QApplication(sys.argv)\n",
    "ex = Example()\n",
    "sys.exit(app.exec_())"
   ]
  },
  {
   "cell_type": "markdown",
   "metadata": {},
   "source": [
    "### Slider"
   ]
  },
  {
   "cell_type": "code",
   "execution_count": null,
   "metadata": {},
   "outputs": [],
   "source": [
    "from PyQt5.QtWidgets import (QWidget, QSlider, \n",
    "    QLabel, QApplication)\n",
    "from PyQt5.QtCore import Qt\n",
    "from PyQt5.QtGui import QPixmap\n",
    "import sys\n",
    "\n",
    "class Example(QWidget):\n",
    "    \n",
    "    def __init__(self):\n",
    "        super().__init__()\n",
    "        \n",
    "        self.initUI()\n",
    "        \n",
    "        \n",
    "    def initUI(self):      \n",
    "\n",
    "        sld = QSlider(Qt.Horizontal, self)\n",
    "        sld.setFocusPolicy(Qt.NoFocus)\n",
    "        sld.setGeometry(30, 40, 100, 30)\n",
    "        sld.valueChanged[int].connect(self.changeValue)\n",
    "        \n",
    "        self.label = QLabel(self)\n",
    "        self.label.setPixmap(QPixmap('mute.png'))\n",
    "        self.label.setGeometry(160, 40, 80, 30)\n",
    "        \n",
    "        self.setGeometry(300, 300, 280, 170)\n",
    "        self.setWindowTitle('QSlider')\n",
    "        self.show()\n",
    "        \n",
    "        \n",
    "    def changeValue(self, value):\n",
    "\n",
    "        if value == 0:\n",
    "            self.label.setPixmap(QPixmap('mute.png'))\n",
    "        elif value > 0 and value <= 30:\n",
    "            self.label.setPixmap(QPixmap('min.png'))\n",
    "        elif value > 30 and value < 80:\n",
    "            self.label.setPixmap(QPixmap('med.png'))\n",
    "        else:\n",
    "            self.label.setPixmap(QPixmap('max.png'))"
   ]
  },
  {
   "cell_type": "code",
   "execution_count": null,
   "metadata": {},
   "outputs": [],
   "source": [
    "app = QApplication(sys.argv)\n",
    "ex = Example()\n",
    "sys.exit(app.exec_())"
   ]
  },
  {
   "cell_type": "markdown",
   "metadata": {
    "collapsed": true
   },
   "source": [
    "### Barra de Progreso"
   ]
  },
  {
   "cell_type": "code",
   "execution_count": null,
   "metadata": {},
   "outputs": [],
   "source": [
    "from PyQt5.QtWidgets import (QWidget, QProgressBar, \n",
    "    QPushButton, QApplication)\n",
    "from PyQt5.QtCore import QBasicTimer\n",
    "import sys\n",
    "\n",
    "class Example(QWidget):\n",
    "    \n",
    "    def __init__(self):\n",
    "        super().__init__()\n",
    "        \n",
    "        self.initUI()\n",
    "        \n",
    "        \n",
    "    def initUI(self):      \n",
    "\n",
    "        self.pbar = QProgressBar(self)\n",
    "        self.pbar.setGeometry(30, 40, 200, 25)\n",
    "\n",
    "        self.btn = QPushButton('Start', self)\n",
    "        self.btn.move(40, 80)\n",
    "        self.btn.clicked.connect(self.doAction)\n",
    "\n",
    "        self.timer = QBasicTimer()\n",
    "        self.step = 0\n",
    "        \n",
    "        self.setGeometry(300, 300, 280, 170)\n",
    "        self.setWindowTitle('QProgressBar')\n",
    "        self.show()\n",
    "        \n",
    "    def timerEvent(self, e):\n",
    "      \n",
    "        if self.step >= 100:\n",
    "            \n",
    "            self.timer.stop()\n",
    "            self.btn.setText('Finished')\n",
    "            return\n",
    "            \n",
    "        self.step = self.step + 1\n",
    "        self.pbar.setValue(self.step)\n",
    "        \n",
    "\n",
    "    def doAction(self):\n",
    "      \n",
    "        if self.timer.isActive():\n",
    "            self.timer.stop()\n",
    "            self.btn.setText('Start')\n",
    "        else:\n",
    "            self.timer.start(100, self)\n",
    "            self.btn.setText('Stop')"
   ]
  },
  {
   "cell_type": "code",
   "execution_count": null,
   "metadata": {},
   "outputs": [],
   "source": [
    "app = QApplication(sys.argv)\n",
    "ex = Example()\n",
    "sys.exit(app.exec_())"
   ]
  },
  {
   "cell_type": "markdown",
   "metadata": {},
   "source": [
    "### Calendario\n"
   ]
  },
  {
   "cell_type": "code",
   "execution_count": null,
   "metadata": {},
   "outputs": [],
   "source": [
    "from PyQt5.QtWidgets import (QWidget, QCalendarWidget, \n",
    "    QLabel, QApplication, QVBoxLayout)\n",
    "from PyQt5.QtCore import QDate\n",
    "import sys\n",
    "\n",
    "class Example(QWidget):\n",
    "    \n",
    "    def __init__(self):\n",
    "        super().__init__()\n",
    "        \n",
    "        self.initUI()\n",
    "        \n",
    "        \n",
    "    def initUI(self):      \n",
    "        \n",
    "        vbox = QVBoxLayout(self)\n",
    "\n",
    "        cal = QCalendarWidget(self)\n",
    "        cal.setGridVisible(True)\n",
    "        cal.clicked[QDate].connect(self.showDate)\n",
    "        \n",
    "        vbox.addWidget(cal)\n",
    "        \n",
    "        self.lbl = QLabel(self)\n",
    "        date = cal.selectedDate()\n",
    "        self.lbl.setText(date.toString())\n",
    "        \n",
    "        vbox.addWidget(self.lbl)\n",
    "        \n",
    "        self.setLayout(vbox)\n",
    "        \n",
    "        self.setGeometry(300, 300, 350, 300)\n",
    "        self.setWindowTitle('Calendar')\n",
    "        self.show()\n",
    "        \n",
    "        \n",
    "    def showDate(self, date):     \n",
    "        \n",
    "        self.lbl.setText(date.toString())"
   ]
  },
  {
   "cell_type": "code",
   "execution_count": null,
   "metadata": {},
   "outputs": [],
   "source": [
    "app = QApplication(sys.argv)\n",
    "ex = Example()\n",
    "sys.exit(app.exec_())"
   ]
  },
  {
   "cell_type": "markdown",
   "metadata": {},
   "source": [
    "### QPixmap"
   ]
  },
  {
   "cell_type": "code",
   "execution_count": null,
   "metadata": {},
   "outputs": [],
   "source": [
    "from PyQt5.QtWidgets import (QWidget, QHBoxLayout, \n",
    "    QLabel, QApplication)\n",
    "from PyQt5.QtGui import QPixmap\n",
    "import sys\n",
    "\n",
    "class Example(QWidget):\n",
    "    \n",
    "    def __init__(self):\n",
    "        super().__init__()\n",
    "        \n",
    "        self.initUI()\n",
    "        \n",
    "        \n",
    "    def initUI(self):      \n",
    "\n",
    "        hbox = QHBoxLayout(self)\n",
    "        pixmap = QPixmap(\"Horsehead.png\")\n",
    "\n",
    "        lbl = QLabel(self)\n",
    "        lbl.setPixmap(pixmap)\n",
    "\n",
    "        hbox.addWidget(lbl)\n",
    "        self.setLayout(hbox)\n",
    "        \n",
    "        self.move(300, 200)\n",
    "        self.setWindowTitle('Horsehead Nebula')\n",
    "        self.show() "
   ]
  },
  {
   "cell_type": "code",
   "execution_count": null,
   "metadata": {},
   "outputs": [],
   "source": [
    "app = QApplication(sys.argv)\n",
    "ex = Example()\n",
    "sys.exit(app.exec_())"
   ]
  },
  {
   "cell_type": "markdown",
   "metadata": {},
   "source": [
    "### Splitter"
   ]
  },
  {
   "cell_type": "code",
   "execution_count": null,
   "metadata": {},
   "outputs": [],
   "source": [
    "from PyQt5.QtWidgets import (QWidget, QHBoxLayout, QFrame, \n",
    "    QSplitter, QStyleFactory, QApplication)\n",
    "from PyQt5.QtCore import Qt\n",
    "import sys\n",
    "\n",
    "class Example(QWidget):\n",
    "    \n",
    "    def __init__(self):\n",
    "        super().__init__()\n",
    "        \n",
    "        self.initUI()\n",
    "        \n",
    "        \n",
    "    def initUI(self):      \n",
    "\n",
    "        hbox = QHBoxLayout(self)\n",
    "\n",
    "        topleft = QFrame(self)\n",
    "        topleft.setFrameShape(QFrame.StyledPanel)\n",
    " \n",
    "        topright = QFrame(self)\n",
    "        topright.setFrameShape(QFrame.StyledPanel)\n",
    "\n",
    "        bottom = QFrame(self)\n",
    "        bottom.setFrameShape(QFrame.StyledPanel)\n",
    "\n",
    "        splitter1 = QSplitter(Qt.Horizontal)\n",
    "        splitter1.addWidget(topleft)\n",
    "        splitter1.addWidget(topright)\n",
    "\n",
    "        splitter2 = QSplitter(Qt.Vertical)\n",
    "        splitter2.addWidget(splitter1)\n",
    "        splitter2.addWidget(bottom)\n",
    "\n",
    "        hbox.addWidget(splitter2)\n",
    "        self.setLayout(hbox)\n",
    "        \n",
    "        self.setGeometry(300, 300, 300, 200)\n",
    "        self.setWindowTitle('QSplitter')\n",
    "        self.show()\n",
    "        \n",
    "        \n",
    "    def onChanged(self, text):\n",
    "        \n",
    "        self.lbl.setText(text)\n",
    "        self.lbl.adjustSize()  "
   ]
  },
  {
   "cell_type": "code",
   "execution_count": null,
   "metadata": {},
   "outputs": [],
   "source": [
    "app = QApplication(sys.argv)\n",
    "ex = Example()\n",
    "sys.exit(app.exec_())"
   ]
  },
  {
   "cell_type": "markdown",
   "metadata": {},
   "source": [
    "### ComboBox"
   ]
  },
  {
   "cell_type": "code",
   "execution_count": null,
   "metadata": {},
   "outputs": [],
   "source": [
    "from PyQt5.QtWidgets import (QWidget, QLabel, \n",
    "    QComboBox, QApplication)\n",
    "import sys\n",
    "\n",
    "class Example(QWidget):\n",
    "    \n",
    "    def __init__(self):\n",
    "        super().__init__()\n",
    "        \n",
    "        self.initUI()\n",
    "        \n",
    "        \n",
    "    def initUI(self):      \n",
    "\n",
    "        self.lbl = QLabel(\"Ubuntu\", self)\n",
    "\n",
    "        combo = QComboBox(self)\n",
    "        combo.addItem(\"Ubuntu\")\n",
    "        combo.addItem(\"Mandriva\")\n",
    "        combo.addItem(\"Fedora\")\n",
    "        combo.addItem(\"Arch\")\n",
    "        combo.addItem(\"Gentoo\")\n",
    "\n",
    "        combo.move(50, 50)\n",
    "        self.lbl.move(50, 150)\n",
    "\n",
    "        combo.activated[str].connect(self.onActivated)        \n",
    "         \n",
    "        self.setGeometry(300, 300, 300, 200)\n",
    "        self.setWindowTitle('QComboBox')\n",
    "        self.show()\n",
    "        \n",
    "        \n",
    "    def onActivated(self, text):\n",
    "      \n",
    "        self.lbl.setText(text)\n",
    "        self.lbl.adjustSize()  "
   ]
  },
  {
   "cell_type": "code",
   "execution_count": null,
   "metadata": {},
   "outputs": [],
   "source": [
    "app = QApplication(sys.argv)\n",
    "ex = Example()\n",
    "sys.exit(app.exec_())"
   ]
  },
  {
   "cell_type": "markdown",
   "metadata": {},
   "source": [
    "### Line Edit"
   ]
  },
  {
   "cell_type": "code",
   "execution_count": 1,
   "metadata": {},
   "outputs": [],
   "source": [
    "import sys\n",
    "from PyQt5.QtWidgets import (QWidget, QLabel, \n",
    "    QLineEdit, QApplication)\n",
    "\n",
    "\n",
    "class Example(QWidget):\n",
    "    \n",
    "    def __init__(self):\n",
    "        super().__init__()\n",
    "        \n",
    "        self.initUI()\n",
    "        \n",
    "        \n",
    "    def initUI(self):      \n",
    "\n",
    "        self.lbl = QLabel(self)\n",
    "        qle = QLineEdit(self)\n",
    "        \n",
    "        qle.move(60, 100)\n",
    "        self.lbl.move(60, 40)\n",
    "\n",
    "        qle.textChanged[str].connect(self.onChanged)\n",
    "        \n",
    "        self.setGeometry(300, 300, 280, 170)\n",
    "        self.setWindowTitle('QLineEdit')\n",
    "        self.show()\n",
    "        \n",
    "        \n",
    "    def onChanged(self, text):\n",
    "        \n",
    "        self.lbl.setText(text)\n",
    "        self.lbl.adjustSize()        "
   ]
  },
  {
   "cell_type": "code",
   "execution_count": 2,
   "metadata": {},
   "outputs": [
    {
     "ename": "SystemExit",
     "evalue": "0",
     "output_type": "error",
     "traceback": [
      "An exception has occurred, use %tb to see the full traceback.\n",
      "\u001b[0;31mSystemExit\u001b[0m\u001b[0;31m:\u001b[0m 0\n"
     ]
    },
    {
     "name": "stderr",
     "output_type": "stream",
     "text": [
      "/Library/Frameworks/Python.framework/Versions/3.5/lib/python3.5/site-packages/IPython/core/interactiveshell.py:2918: UserWarning: To exit: use 'exit', 'quit', or Ctrl-D.\n",
      "  warn(\"To exit: use 'exit', 'quit', or Ctrl-D.\", stacklevel=1)\n"
     ]
    }
   ],
   "source": [
    "app = QApplication(sys.argv)\n",
    "ex = Example()\n",
    "sys.exit(app.exec_())"
   ]
  },
  {
   "cell_type": "code",
   "execution_count": null,
   "metadata": {},
   "outputs": [],
   "source": []
  }
 ],
 "metadata": {
  "kernelspec": {
   "display_name": "Python 3",
   "language": "python",
   "name": "python3"
  },
  "language_info": {
   "codemirror_mode": {
    "name": "ipython",
    "version": 3
   },
   "file_extension": ".py",
   "mimetype": "text/x-python",
   "name": "python",
   "nbconvert_exporter": "python",
   "pygments_lexer": "ipython3",
   "version": "3.5.1"
  }
 },
 "nbformat": 4,
 "nbformat_minor": 2
}
