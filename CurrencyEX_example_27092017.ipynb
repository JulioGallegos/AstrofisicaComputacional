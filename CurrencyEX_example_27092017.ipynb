{
 "cells": [
  {
   "cell_type": "code",
   "execution_count": 3,
   "metadata": {},
   "outputs": [],
   "source": [
    "class Currency:\n",
    "    currencies={'CHF': 1.0821202355817312, \n",
    "                'CAD': 1.488609845538393, \n",
    "                'GBP': 0.8916546282920325, \n",
    "                'JPY': 114.38826536281809, \n",
    "                'EUR': 1.0, \n",
    "                'USD': 1.11123458162018}\n",
    "    def __init__(self, value, unit=\"EUR\"):\n",
    "        self.value=value\n",
    "        self.unit=unit\n",
    "    \n",
    "    def __str__(self):\n",
    "        return \"{0:5.2f}\".format(self.value) + \" \" + self.unit\n",
    "    \n",
    "    def changeTo(self, new_unit):\n",
    "        self.value=(self.value/Currency.currencies[self.unit]*Currency.currencies[new_unit])\n",
    "        self.unit=new_unit\n",
    "        \n",
    "    def __add__(self, other):\n",
    "        if type(other) == int or type(other) == float:\n",
    "            x=(other*Currency.currencies[self.unit])\n",
    "        else:\n",
    "            x=(other.value/Currency.currencies[other.unit]*Currency.currencies[self.unit])\n",
    "        return Currency(x+self.value, self.unit)\n",
    "    \n",
    "    def __iadd__(self,other):\n",
    "        if type(other) == int or type(other) == float:\n",
    "            x = (other * Currency.currencies[self.unit])\n",
    "        else:\n",
    "            x = (other.value / Currency.currencies[other.unit] * Currency.currencies[self.unit])\n",
    "        self.value += x\n",
    "        return self\n",
    "    \n",
    "    def __radd__(self,other):\n",
    "        res = self + other\n",
    "        if self.unit !=\"EUR\":\n",
    "            res.changeTo(\"EUR\")\n",
    "        return res\n",
    "    ### definir resta como __sub__, __isub__, __rsub__ de forma similar\n",
    "        \n",
    "    ### definir multiplicación de un int o float por una moneda \n",
    "    "
   ]
  },
  {
   "cell_type": "code",
   "execution_count": 11,
   "metadata": {},
   "outputs": [
    {
     "name": "stdout",
     "output_type": "stream",
     "text": [
      "34.99 EUR\n"
     ]
    }
   ],
   "source": [
    "x=Currency(11.11,\"USD\")\n",
    "y=Currency(15,\"EUR\")\n",
    "z=Currency(14.88,\"CAD\")\n",
    "z=y+x+z\n",
    "print(z)"
   ]
  },
  {
   "cell_type": "code",
   "execution_count": 13,
   "metadata": {
    "collapsed": true
   },
   "outputs": [],
   "source": [
    "import urllib.request   \n",
    "\n",
    "def get_currencies(base=\"EUR\"):\n",
    "    currency_dict = {}\n",
    "    for currency in (\"EUR\", \"USD\", \"GBP\", \"CHF\", \"CAD\", \"JPY\"):\n",
    "        url = 'http://finance.yahoo.com/d/quotes.csv?&s=' + currency + '=X&f=p'\n",
    "        currency_dict[currency] = float(urllib.request.urlopen(url).read())\n",
    "    factor = currency_dict[base]\n",
    "    for currency in currency_dict:\n",
    "        currency_dict[currency] /= factor\n",
    "    return currency_dict\n",
    "\n",
    "class Ccy:\n",
    "    currencies = get_currencies()\n",
    "    def __init__(self, value, unit=\"EUR\"):\n",
    "        self.value=value\n",
    "        self.unit=unit\n",
    "    \n",
    "    def __str__(self):\n",
    "        return \"{0:5.2f}\".format(self.value) + \" \" + self.unit\n",
    "    \n",
    "    def changeTo(self, new_unit):\n",
    "        self.value=(self.value/Ccy.currencies[self.unit]*Ccy.currencies[new_unit])\n",
    "        self.unit=new_unit\n",
    "        \n",
    "    def __add__(self, other):\n",
    "        if type(other) == int or type(other) == float:\n",
    "            x=(other*Currency.currencies[self.unit])\n",
    "        else:\n",
    "            x=(other.value/Ccy.currencies[other.unit]*Ccy.currencies[self.unit])\n",
    "        return Ccy(x+self.value, self.unit)\n",
    "    \n",
    "    def __iadd__(self,other):\n",
    "        if type(other) == int or type(other) == float:\n",
    "            x = (other * Ccy.currencies[self.unit])\n",
    "        else:\n",
    "            x = (other.value / Ccy.currencies[other.unit] * Ccy.currencies[self.unit])\n",
    "        self.value += x\n",
    "        return self\n",
    "    \n",
    "    def __radd__(self,other):\n",
    "        res = self + other\n",
    "        if self.unit !=\"EUR\":\n",
    "            res.changeTo(\"EUR\")\n",
    "        return res"
   ]
  },
  {
   "cell_type": "code",
   "execution_count": 16,
   "metadata": {},
   "outputs": [],
   "source": [
    "x = Ccy(1000, \"JPY\")\n",
    "y = Ccy(0,\"EUR\")"
   ]
  },
  {
   "cell_type": "code",
   "execution_count": 19,
   "metadata": {},
   "outputs": [
    {
     "name": "stdout",
     "output_type": "stream",
     "text": [
      " 7.55 EUR\n"
     ]
    }
   ],
   "source": [
    "print(y+x)"
   ]
  },
  {
   "cell_type": "code",
   "execution_count": null,
   "metadata": {
    "collapsed": true
   },
   "outputs": [],
   "source": []
  }
 ],
 "metadata": {
  "kernelspec": {
   "display_name": "Python 3",
   "language": "python",
   "name": "python3"
  },
  "language_info": {
   "codemirror_mode": {
    "name": "ipython",
    "version": 3
   },
   "file_extension": ".py",
   "mimetype": "text/x-python",
   "name": "python",
   "nbconvert_exporter": "python",
   "pygments_lexer": "ipython3",
   "version": "3.6.1"
  }
 },
 "nbformat": 4,
 "nbformat_minor": 2
}
