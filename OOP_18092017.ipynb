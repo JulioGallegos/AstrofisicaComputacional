{
 "cells": [
  {
   "cell_type": "markdown",
   "metadata": {},
   "source": [
    "# Herencia Múltiple\n",
    "Algunos la entienden como algo peligroso o \"equivocado\", pero Python la permite y tiene una implementación sofisticada y bien diseñada. El resultado es un árbol genealógico de herencias."
   ]
  },
  {
   "cell_type": "markdown",
   "metadata": {},
   "source": [
    "## Ejemplo: RelojCalendario\n",
    "Vamos a implementar 2 clases independientes: Reloj y Calendario. Después de esto crearemos una nueva clase llamada RelojCalendario, que como su nombre indica heredará de ambas clases."
   ]
  },
  {
   "cell_type": "code",
   "execution_count": 23,
   "metadata": {},
   "outputs": [],
   "source": [
    "\"\"\"Clase Reloj para simular uno\"\"\"\n",
    "class Reloj(object):\n",
    "    \n",
    "    def __init__(self, horas, minutos, segundos):\n",
    "        \"\"\"Los parámetros son horas, minutos, segundos:\n",
    "        tienen que ser enteros y deben satisfacer las siguientes\n",
    "        restricciones\n",
    "        0<= horas < 24\n",
    "        0<= minutos < 60\n",
    "        0<= segundos < 60\n",
    "        \"\"\"\n",
    "        self.set_Reloj(horas, minutos, segundos)\n",
    "    \n",
    "    def set_Reloj(self, horas, minutos, segundos):\n",
    "        \"\"\"Los parámetros son horas, minutos, segundos:\n",
    "        tienen que ser enteros y deben satisfacer las siguientes\n",
    "        restricciones\n",
    "        0<= horas < 24\n",
    "        0<= minutos < 60\n",
    "        0<= segundos < 60\"\"\"\n",
    "        if type(horas) == int and 0<= horas and horas <24:\n",
    "            self._horas=horas\n",
    "        else:\n",
    "            raise TypeError(\"Las horas deben ser enteras entre 0 y 23\")\n",
    "        if type(minutos) == int and 0<= minutos and minutos <60:\n",
    "            self.__minutos=minutos\n",
    "        else:\n",
    "            raise TypeError(\"Los minutos deben ser enteros entre 0 y 59\")\n",
    "        if type(segundos) == int and 0<= segundos and segundos< 60:\n",
    "            self.__segundos=segundos\n",
    "        else:\n",
    "            raise TypeError(\"Los segundos deben ser enteros entre 0 y 59\")\n",
    "\n",
    "    def __str__(self):\n",
    "        return\"{0:02d}:{1:02d}:{2:02d}\".format(self._horas,self.__minutos,self.__segundos)\n",
    "\n",
    "    def tick(self):\n",
    "        \"\"\"Este método hace que el reloj haga tick, es decir, el tiempo\n",
    "        interno se incrementará en un segundo\"\"\"\n",
    "         \n",
    "        if self.__segundos== 59:\n",
    "            self.__segundos = 0\n",
    "            if self.__minutos == 59:\n",
    "                self.__minutos = 0\n",
    "                if self._horas == 23:\n",
    "                    self._horas = 0\n",
    "                else:\n",
    "                    self._horas += 1\n",
    "            else:\n",
    "                self.__minutos += 1\n",
    "        else:\n",
    "            self.__segundos += 1\n",
    "            \n",
    "        "
   ]
  },
  {
   "cell_type": "code",
   "execution_count": 26,
   "metadata": {},
   "outputs": [
    {
     "name": "stdout",
     "output_type": "stream",
     "text": [
      "23:59:59\n"
     ]
    }
   ],
   "source": [
    "x=Reloj(23,59,59)\n",
    "print(x)"
   ]
  },
  {
   "cell_type": "markdown",
   "metadata": {},
   "source": [
    "Qué tests se deberían ejecutar?"
   ]
  },
  {
   "cell_type": "markdown",
   "metadata": {},
   "source": [
    "Ahora vayamos con el Calendario"
   ]
  },
  {
   "cell_type": "code",
   "execution_count": 35,
   "metadata": {
    "collapsed": true
   },
   "outputs": [],
   "source": [
    "\"\"\" \n",
    "La clase calendario implementa uno.   \n",
    "\"\"\"\n",
    "\n",
    "class Calendario(object):\n",
    "\n",
    "    months = (31,28,31,30,31,30,31,31,30,31,30,31)\n",
    "    date_style = \"Guatemala\"\n",
    "\n",
    "    @staticmethod\n",
    "    def bisiesto(year):\n",
    "        \"\"\" \n",
    "        El método bisiesto bisiesto regresa True si el año entrado\n",
    "        es bisiesto, False en el caso contrario\n",
    "        \"\"\"\n",
    "        if not year % 4 == 0:\n",
    "            return False\n",
    "        elif not year % 100 == 0:\n",
    "            return True\n",
    "        elif not year % 400 == 0:\n",
    "            return False\n",
    "        else:\n",
    "            return True\n",
    "\n",
    "\n",
    "    def __init__(self, d, m, y):\n",
    "        \"\"\"\n",
    "        d, m, y deben ser enteros y año (year) debe ser un número\n",
    "        de cuatro cifras, ejemplo, 1971.\n",
    "        \"\"\"\n",
    "\n",
    "        self.set_Calendario(d,m,y)\n",
    "\n",
    "\n",
    "    def set_Calendario(self, d, m, y):\n",
    "        \"\"\"\n",
    "        d, m, y deben ser enteros y año (year) debe ser un número\n",
    "        de cuatro cifras, ejemplo, 1971.\n",
    "        \"\"\"\n",
    "\n",
    "        if type(d) == int and type(m) == int and type(y) == int:\n",
    "            self.__days = d\n",
    "            self.__months = m\n",
    "            self.__years = y\n",
    "        else:\n",
    "            raise TypeError(\"d, m, y deben ser enteros\")\n",
    "\n",
    "\n",
    "    def __str__(self):\n",
    "        if Calendario.date_style == \"Guatemala\":\n",
    "            return \"{0:02d}/{1:02d}/{2:4d}\".format(self.__days,\n",
    "                                                   self.__months,\n",
    "                                                   self.__years)\n",
    "        else: \n",
    "            # por defecto el estilo EEUU\n",
    "            return \"{0:02d}/{1:02d}/{2:4d}\".format(self.__months,\n",
    "                                                   self.__days,\n",
    "                                                   self.__years)\n",
    "\n",
    "\n",
    "\n",
    "    def advance(self):\n",
    "        \"\"\"\n",
    "        Este método avanza un día.\n",
    "        \"\"\"\n",
    "\n",
    "        max_days = Calendario.months[self.__months-1]\n",
    "        if self.__months == 2 and Calendario.bisiesto(self.__years):\n",
    "            max_days += 1\n",
    "        if self.__days == max_days:\n",
    "            self.__days= 1\n",
    "            if self.__months == 12:\n",
    "                self.__months = 1\n",
    "                self.__years += 1\n",
    "            else:\n",
    "                self.__months += 1\n",
    "        else:\n",
    "            self.__days += 1"
   ]
  },
  {
   "cell_type": "code",
   "execution_count": 37,
   "metadata": {},
   "outputs": [
    {
     "name": "stdout",
     "output_type": "stream",
     "text": [
      "31/12/2012 "
     ]
    }
   ],
   "source": [
    "x = Calendario(31,12,2012)\n",
    "print(x, end=\" \")\n"
   ]
  },
  {
   "cell_type": "code",
   "execution_count": 38,
   "metadata": {},
   "outputs": [
    {
     "name": "stdout",
     "output_type": "stream",
     "text": [
      "02/01/2013 "
     ]
    }
   ],
   "source": [
    "x.advance()\n",
    "print(x, end=\" \")"
   ]
  },
  {
   "cell_type": "code",
   "execution_count": 40,
   "metadata": {},
   "outputs": [],
   "source": [
    "Calendario.date_style=\"EEUU\""
   ]
  },
  {
   "cell_type": "code",
   "execution_count": 41,
   "metadata": {},
   "outputs": [
    {
     "name": "stdout",
     "output_type": "stream",
     "text": [
      "01/02/2013 "
     ]
    }
   ],
   "source": [
    "print(x,end=\" \")"
   ]
  },
  {
   "cell_type": "code",
   "execution_count": 42,
   "metadata": {
    "collapsed": true
   },
   "outputs": [],
   "source": [
    "Calendario.date_style=\"Guatemala\""
   ]
  },
  {
   "cell_type": "code",
   "execution_count": 43,
   "metadata": {},
   "outputs": [
    {
     "name": "stdout",
     "output_type": "stream",
     "text": [
      "02/01/2013 "
     ]
    }
   ],
   "source": [
    "print(x,end=\" \")"
   ]
  },
  {
   "cell_type": "code",
   "execution_count": null,
   "metadata": {
    "collapsed": true
   },
   "outputs": [],
   "source": []
  }
 ],
 "metadata": {
  "kernelspec": {
   "display_name": "Python 3",
   "language": "python",
   "name": "python3"
  },
  "language_info": {
   "codemirror_mode": {
    "name": "ipython",
    "version": 3
   },
   "file_extension": ".py",
   "mimetype": "text/x-python",
   "name": "python",
   "nbconvert_exporter": "python",
   "pygments_lexer": "ipython3",
   "version": "3.6.1"
  }
 },
 "nbformat": 4,
 "nbformat_minor": 2
}
