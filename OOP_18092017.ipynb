{
 "cells": [
  {
   "cell_type": "markdown",
   "metadata": {},
   "source": [
    "# Herencia Múltiple\n",
    "Algunos la entienden como algo peligroso o \"equivocado\", pero Python la permite y tiene una implementación sofisticada y bien diseñada. El resultado es un árbol genealógico de herencias."
   ]
  },
  {
   "cell_type": "markdown",
   "metadata": {},
   "source": [
    "class SubclassName (Baseclass1, Baseclass2, Baseclass3):\n",
    "    pass"
   ]
  },
  {
   "cell_type": "markdown",
   "metadata": {},
   "source": [
    "## Ejemplo: RelojCalendario\n",
    "Vamos a implementar 2 clases independientes: Reloj y Calendario. Después de esto crearemos una nueva clase llamada RelojCalendario, que como su nombre indica heredará de ambas clases."
   ]
  },
  {
   "cell_type": "code",
   "execution_count": 1,
   "metadata": {
    "collapsed": true
   },
   "outputs": [],
   "source": [
    "\"\"\"Clase Reloj para simular uno\"\"\"\n",
    "class Reloj(object):\n",
    "    \n",
    "    def __init__(self, horas, minutos, segundos):\n",
    "        \"\"\"Los parámetros son horas, minutos, segundos:\n",
    "        tienen que ser enteros y deben satisfacer las siguientes\n",
    "        restricciones\n",
    "        0<= horas < 24\n",
    "        0<= minutos < 60\n",
    "        0<= segundos < 60\n",
    "        \"\"\"\n",
    "        self.set_Reloj(horas, minutos, segundos)\n",
    "    \n",
    "    def set_Reloj(self, horas, minutos, segundos):\n",
    "        \"\"\"Los parámetros son horas, minutos, segundos:\n",
    "        tienen que ser enteros y deben satisfacer las siguientes\n",
    "        restricciones\n",
    "        0<= horas < 24\n",
    "        0<= minutos < 60\n",
    "        0<= segundos < 60\"\"\"\n",
    "        if type(horas) == int and 0<= horas and horas <24:\n",
    "            self._horas=horas\n",
    "        else:\n",
    "            raise TypeError(\"Las horas deben ser enteras entre 0 y 23\")\n",
    "        if type(minutos) == int and 0<= minutos and minutos <60:\n",
    "            self.__minutos=minutos\n",
    "        else:\n",
    "            raise TypeError(\"Los minutos deben ser enteros entre 0 y 59\")\n",
    "        if type(segundos) == int and 0<= segundos and segundos< 60:\n",
    "            self.__segundos=segundos\n",
    "        else:\n",
    "            raise TypeError(\"Los segundos deben ser enteros entre 0 y 59\")\n",
    "\n",
    "    def __str__(self):\n",
    "        return\"{0:02d}:{1:02d}:{2:02d}\".format(self._horas,self.__minutos,self.__segundos)\n",
    "\n",
    "    def tick(self):\n",
    "        \"\"\"Este método hace que el reloj haga tick, es decir, el tiempo\n",
    "        interno se incrementará en un segundo\"\"\"\n",
    "         \n",
    "        if self.__segundos== 59:\n",
    "            self.__segundos = 0\n",
    "            if self.__minutos == 59:\n",
    "                self.__minutos = 0\n",
    "                if self._horas == 23:\n",
    "                    self._horas = 0\n",
    "                else:\n",
    "                    self._horas += 1\n",
    "            else:\n",
    "                self.__minutos += 1\n",
    "        else:\n",
    "            self.__segundos += 1\n",
    "            \n",
    "        "
   ]
  },
  {
   "cell_type": "code",
   "execution_count": null,
   "metadata": {},
   "outputs": [],
   "source": [
    "x=Reloj(23,59,59)\n",
    "print(x)"
   ]
  },
  {
   "cell_type": "markdown",
   "metadata": {},
   "source": [
    "Qué tests se deberían ejecutar?"
   ]
  },
  {
   "cell_type": "code",
   "execution_count": null,
   "metadata": {},
   "outputs": [],
   "source": [
    "x=Reloj(23,59,59)"
   ]
  },
  {
   "cell_type": "code",
   "execution_count": null,
   "metadata": {},
   "outputs": [],
   "source": [
    "x.tick()\n",
    "print(x)"
   ]
  },
  {
   "cell_type": "markdown",
   "metadata": {},
   "source": [
    "Ahora vayamos con el Calendario"
   ]
  },
  {
   "cell_type": "code",
   "execution_count": 2,
   "metadata": {
    "collapsed": true
   },
   "outputs": [],
   "source": [
    "\"\"\" \n",
    "La clase calendario implementa uno.   \n",
    "\"\"\"\n",
    "\n",
    "class Calendario(object):\n",
    "\n",
    "    months = (31,28,31,30,31,30,31,31,30,31,30,31)\n",
    "    date_style = \"Guatemala\"\n",
    "\n",
    "    @staticmethod\n",
    "    def bisiesto(year):\n",
    "        \"\"\" \n",
    "        El método bisiesto bisiesto regresa True si el año entrado\n",
    "        es bisiesto, False en el caso contrario\n",
    "        \"\"\"\n",
    "        if not year % 4 == 0:\n",
    "            return False\n",
    "        elif not year % 100 == 0:\n",
    "            return True\n",
    "        elif not year % 400 == 0:\n",
    "            return False\n",
    "        else:\n",
    "            return True\n",
    "\n",
    "\n",
    "    def __init__(self, d, m, y):\n",
    "        \"\"\"\n",
    "        d, m, y deben ser enteros y año (year) debe ser un número\n",
    "        de cuatro cifras, ejemplo, 1971.\n",
    "        \"\"\"\n",
    "\n",
    "        self.set_Calendario(d,m,y)\n",
    "\n",
    "\n",
    "    def set_Calendario(self, d, m, y):\n",
    "        \"\"\"\n",
    "        d, m, y deben ser enteros y año (year) debe ser un número\n",
    "        de cuatro cifras, ejemplo, 1971.\n",
    "        \"\"\"\n",
    "\n",
    "        if type(d) == int and type(m) == int and type(y) == int:\n",
    "            self.__days = d\n",
    "            self.__months = m\n",
    "            self.__years = y\n",
    "        else:\n",
    "            raise TypeError(\"d, m, y deben ser enteros\")\n",
    "\n",
    "\n",
    "    def __str__(self):\n",
    "        if Calendario.date_style == \"Guatemala\":\n",
    "            return \"{0:02d}/{1:02d}/{2:4d}\".format(self.__days,\n",
    "                                                   self.__months,\n",
    "                                                   self.__years)\n",
    "        else: \n",
    "            # por defecto el estilo EEUU\n",
    "            return \"{0:02d}/{1:02d}/{2:4d}\".format(self.__months,\n",
    "                                                   self.__days,\n",
    "                                                   self.__years)\n",
    "\n",
    "\n",
    "\n",
    "    def advance(self):\n",
    "        \"\"\"\n",
    "        Este método avanza un día.\n",
    "        \"\"\"\n",
    "\n",
    "        max_days = Calendario.months[self.__months-1]\n",
    "        if self.__months == 2 and Calendario.bisiesto(self.__years):\n",
    "            max_days += 1\n",
    "        if self.__days == max_days:\n",
    "            self.__days= 1\n",
    "            if self.__months == 12:\n",
    "                self.__months = 1\n",
    "                self.__years += 1\n",
    "            else:\n",
    "                self.__months += 1\n",
    "        else:\n",
    "            self.__days += 1"
   ]
  },
  {
   "cell_type": "code",
   "execution_count": null,
   "metadata": {},
   "outputs": [],
   "source": [
    "x = Calendario(31,12,2017)\n",
    "print(x, end=\" \")\n"
   ]
  },
  {
   "cell_type": "code",
   "execution_count": null,
   "metadata": {},
   "outputs": [],
   "source": [
    "Calendario.date_style=\"Guatemala\"\n",
    "x.advance()\n",
    "print(x, end=\" \")"
   ]
  },
  {
   "cell_type": "code",
   "execution_count": null,
   "metadata": {
    "collapsed": true
   },
   "outputs": [],
   "source": [
    "Calendario.date_style=\"EEUU\""
   ]
  },
  {
   "cell_type": "code",
   "execution_count": null,
   "metadata": {},
   "outputs": [],
   "source": [
    "print(x,end=\" \")"
   ]
  },
  {
   "cell_type": "code",
   "execution_count": null,
   "metadata": {
    "collapsed": true
   },
   "outputs": [],
   "source": [
    "Calendario.date_style=\"Guatemala\""
   ]
  },
  {
   "cell_type": "code",
   "execution_count": null,
   "metadata": {},
   "outputs": [],
   "source": [
    "print(x,end=\" \")"
   ]
  },
  {
   "cell_type": "code",
   "execution_count": null,
   "metadata": {},
   "outputs": [],
   "source": [
    "x=Calendario(28,2,2016)"
   ]
  },
  {
   "cell_type": "code",
   "execution_count": null,
   "metadata": {},
   "outputs": [],
   "source": [
    "x.advance()\n",
    "print(x,end=\" \")"
   ]
  },
  {
   "cell_type": "code",
   "execution_count": 7,
   "metadata": {
    "collapsed": true
   },
   "outputs": [],
   "source": [
    "\"\"\"\n",
    "RelojCalendario\n",
    "Implementa un reloj y calenario heredando de dos superclases\n",
    "\"\"\"\n",
    "class RelojCalendario(Reloj,Calendario):\n",
    "    \"\"\"Implementa un reloj calendario integrado\n",
    "    Demuestra el uso de multiherencia\n",
    "    \"\"\"\n",
    "    def __init__(self, day, month, year, horas, minutos, segundos):\n",
    "        Reloj.__init__(self, horas, minutos, segundos)\n",
    "        Calendario.__init__(self, day, month, year)\n",
    "        \n",
    "    def tick(self):\n",
    "        \"\"\"avance el reloj un segundo y sincronizar calendario\"\"\"\n",
    "        hora_previa = self._horas\n",
    "        Reloj.tick(self)\n",
    "        if (self._horas < hora_previa):\n",
    "            self.advance()\n",
    "        \n",
    "        \n",
    "    def __str__(self):\n",
    "        return Calendario.__str__(self)+\", \"+Reloj.__str__(self)\n",
    "    "
   ]
  },
  {
   "cell_type": "code",
   "execution_count": 8,
   "metadata": {},
   "outputs": [
    {
     "name": "stdout",
     "output_type": "stream",
     "text": [
      "One tick from  31/12/2017, 23:59:59 to  01/01/2018, 00:00:00\n"
     ]
    }
   ],
   "source": [
    "x=RelojCalendario(31,12,2017,23,59,59)\n",
    "print(\"One tick from \", x, end=\" \")\n",
    "x.tick()\n",
    "print(\"to \",x)"
   ]
  },
  {
   "cell_type": "markdown",
   "metadata": {},
   "source": [
    "Output esperado:\n",
    "\n",
    "One tick from 31/12/2017, 23:59:59 to 01/01/2018, 00:00:00"
   ]
  },
  {
   "cell_type": "markdown",
   "metadata": {},
   "source": [
    "## El diamante de la muerte"
   ]
  },
  {
   "cell_type": "markdown",
   "metadata": {},
   "source": [
    "![Diamante_de_la_muerte](./diamond.png)"
   ]
  },
  {
   "cell_type": "code",
   "execution_count": 9,
   "metadata": {
    "collapsed": true
   },
   "outputs": [],
   "source": [
    "class A:\n",
    "    def m(self):\n",
    "        print(\"m of A\")\n",
    "class B(A): \n",
    "    def m(self):\n",
    "        print(\"m of B\")\n",
    "class C(A):\n",
    "    def m(self):\n",
    "        print(\"m of C\")\n",
    "class D(B,C):\n",
    "    pass"
   ]
  },
  {
   "cell_type": "code",
   "execution_count": 13,
   "metadata": {},
   "outputs": [],
   "source": [
    "x=D()"
   ]
  },
  {
   "cell_type": "code",
   "execution_count": 14,
   "metadata": {},
   "outputs": [
    {
     "name": "stdout",
     "output_type": "stream",
     "text": [
      "m of B\n"
     ]
    }
   ],
   "source": [
    "x.m()"
   ]
  },
  {
   "cell_type": "code",
   "execution_count": 15,
   "metadata": {
    "collapsed": true
   },
   "outputs": [],
   "source": [
    "class A:\n",
    "    def m(self):\n",
    "        print(\"m of A\")\n",
    "class B(A): \n",
    "    pass\n",
    "class C(A):\n",
    "    def m(self):\n",
    "        print(\"m of C\")\n",
    "class D(B,C):\n",
    "    pass"
   ]
  },
  {
   "cell_type": "code",
   "execution_count": 16,
   "metadata": {},
   "outputs": [
    {
     "name": "stdout",
     "output_type": "stream",
     "text": [
      "m of C\n"
     ]
    }
   ],
   "source": [
    "x=D()\n",
    "x.m()"
   ]
  },
  {
   "cell_type": "code",
   "execution_count": 17,
   "metadata": {
    "collapsed": true
   },
   "outputs": [],
   "source": [
    "class A:\n",
    "    def m(self):\n",
    "        print(\"m of A\")\n",
    "class B(A): \n",
    "    def m(self):\n",
    "        print(\"m of B\")\n",
    "class C(A):\n",
    "    def m(self):\n",
    "        print(\"m of C\")\n",
    "class D(B,C):\n",
    "    def m(self):\n",
    "        print(\"m of D\")"
   ]
  },
  {
   "cell_type": "code",
   "execution_count": 18,
   "metadata": {},
   "outputs": [
    {
     "name": "stdout",
     "output_type": "stream",
     "text": [
      "m of B\n"
     ]
    }
   ],
   "source": [
    "x = D()\n",
    "B.m(x)"
   ]
  },
  {
   "cell_type": "code",
   "execution_count": 19,
   "metadata": {},
   "outputs": [
    {
     "name": "stdout",
     "output_type": "stream",
     "text": [
      "m of C\n"
     ]
    }
   ],
   "source": [
    "C.m(x)"
   ]
  },
  {
   "cell_type": "code",
   "execution_count": 20,
   "metadata": {},
   "outputs": [
    {
     "name": "stdout",
     "output_type": "stream",
     "text": [
      "m of D\n"
     ]
    }
   ],
   "source": [
    "D.m(x)"
   ]
  },
  {
   "cell_type": "code",
   "execution_count": 21,
   "metadata": {},
   "outputs": [
    {
     "name": "stdout",
     "output_type": "stream",
     "text": [
      "m of A\n"
     ]
    }
   ],
   "source": [
    "A.m(x)"
   ]
  },
  {
   "cell_type": "code",
   "execution_count": 22,
   "metadata": {
    "collapsed": true
   },
   "outputs": [],
   "source": [
    "class A:\n",
    "    def m(self):\n",
    "        print(\"m of A\")\n",
    "class B(A): \n",
    "    def m(self):\n",
    "        print(\"m of B\")\n",
    "class C(A):\n",
    "    def m(self):\n",
    "        print(\"m of C\")\n",
    "class D(B,C):\n",
    "    def m(self):\n",
    "        print(\"m of D\")\n",
    "        B.m(self)\n",
    "        C.m(self)\n",
    "        A.m(self)"
   ]
  },
  {
   "cell_type": "code",
   "execution_count": 23,
   "metadata": {},
   "outputs": [
    {
     "name": "stdout",
     "output_type": "stream",
     "text": [
      "m of D\n",
      "m of B\n",
      "m of C\n",
      "m of A\n"
     ]
    }
   ],
   "source": [
    "x=D()\n",
    "x.m()"
   ]
  },
  {
   "cell_type": "code",
   "execution_count": 24,
   "metadata": {
    "collapsed": true
   },
   "outputs": [],
   "source": [
    "class A:\n",
    "    def m(self):\n",
    "        print(\"m of A\")\n",
    "class B(A): \n",
    "    def m(self):\n",
    "        print(\"m of B\")\n",
    "        A.m(self)\n",
    "class C(A):\n",
    "    def m(self):\n",
    "        print(\"m of C\")\n",
    "        A.m(self)\n",
    "class D(B,C):\n",
    "    def m(self):\n",
    "        print(\"m of D\")\n",
    "        B.m(self)\n",
    "        C.m(self)"
   ]
  },
  {
   "cell_type": "code",
   "execution_count": 25,
   "metadata": {},
   "outputs": [
    {
     "name": "stdout",
     "output_type": "stream",
     "text": [
      "m of D\n",
      "m of B\n",
      "m of A\n",
      "m of C\n",
      "m of A\n"
     ]
    }
   ],
   "source": [
    "x=D()\n",
    "x.m()"
   ]
  },
  {
   "cell_type": "code",
   "execution_count": 29,
   "metadata": {},
   "outputs": [],
   "source": [
    "class A:\n",
    "    def m(self):\n",
    "        print(\"m of A\")\n",
    "class B(A): \n",
    "    def _m(self):\n",
    "        print(\"m of B\")\n",
    "    def m(self):  \n",
    "        self._m()\n",
    "        A.m(self)\n",
    "class C(A):\n",
    "    def _m(self):\n",
    "        print(\"m of C\")\n",
    "    def m(self): \n",
    "        self._m()\n",
    "        A.m(self)\n",
    "class D(B,C):\n",
    "    def m(self):\n",
    "        print(\"m of D\")\n",
    "        B._m(self)\n",
    "        C._m(self)\n",
    "        A.m(self)"
   ]
  },
  {
   "cell_type": "code",
   "execution_count": 30,
   "metadata": {},
   "outputs": [
    {
     "name": "stdout",
     "output_type": "stream",
     "text": [
      "m of D\n",
      "m of B\n",
      "m of C\n",
      "m of A\n"
     ]
    }
   ],
   "source": [
    "x=D()\n",
    "x.m()"
   ]
  },
  {
   "cell_type": "code",
   "execution_count": 37,
   "metadata": {
    "collapsed": true
   },
   "outputs": [],
   "source": [
    "class A:\n",
    "    def m(self):\n",
    "        print(\"m of A\")\n",
    "        \n",
    "class B(A): \n",
    "    def m(self):\n",
    "        print(\"m of B\")\n",
    "        super().m()\n",
    "\n",
    "class C(A):\n",
    "    def m(self):\n",
    "        print(\"m of C\")\n",
    "        super().m()\n",
    "\n",
    "class D(B,C):\n",
    "    def m(self):\n",
    "        print(\"m of D\")\n",
    "        super().m()"
   ]
  },
  {
   "cell_type": "code",
   "execution_count": 38,
   "metadata": {},
   "outputs": [
    {
     "name": "stdout",
     "output_type": "stream",
     "text": [
      "m of D\n",
      "m of B\n",
      "m of C\n",
      "m of A\n"
     ]
    }
   ],
   "source": [
    "x=D()\n",
    "x.m()"
   ]
  },
  {
   "cell_type": "code",
   "execution_count": 39,
   "metadata": {
    "collapsed": true
   },
   "outputs": [],
   "source": [
    "class A:\n",
    "    def __init__(self):\n",
    "        print(\"A.__init__\")\n",
    "\n",
    "class B(A):\n",
    "    def __init__(self):\n",
    "        print(\"B.__init__\")\n",
    "        super().__init__()\n",
    "    \n",
    "class C(A):\n",
    "    def __init__(self):\n",
    "        print(\"C.__init__\")\n",
    "        super().__init__()\n",
    "\n",
    "\n",
    "class D(B,C):\n",
    "    def __init__(self):\n",
    "        print(\"D.__init__\")\n",
    "        super().__init__()"
   ]
  },
  {
   "cell_type": "code",
   "execution_count": 40,
   "metadata": {},
   "outputs": [
    {
     "name": "stdout",
     "output_type": "stream",
     "text": [
      "D.__init__\n",
      "B.__init__\n",
      "C.__init__\n",
      "A.__init__\n"
     ]
    }
   ],
   "source": [
    "d=D()"
   ]
  },
  {
   "cell_type": "code",
   "execution_count": 41,
   "metadata": {},
   "outputs": [
    {
     "name": "stdout",
     "output_type": "stream",
     "text": [
      "C.__init__\n",
      "A.__init__\n"
     ]
    }
   ],
   "source": [
    "c=C()"
   ]
  },
  {
   "cell_type": "code",
   "execution_count": 42,
   "metadata": {},
   "outputs": [
    {
     "name": "stdout",
     "output_type": "stream",
     "text": [
      "B.__init__\n",
      "A.__init__\n"
     ]
    }
   ],
   "source": [
    "b=B()"
   ]
  },
  {
   "cell_type": "code",
   "execution_count": 43,
   "metadata": {},
   "outputs": [
    {
     "name": "stdout",
     "output_type": "stream",
     "text": [
      "A.__init__\n"
     ]
    }
   ],
   "source": [
    "a=A()"
   ]
  },
  {
   "cell_type": "markdown",
   "metadata": {},
   "source": [
    "MRO: method resolution order\n",
    "Es utilizado por la superclase para determinar el orden de los métodos a utilizar. El método mro puede ser utilizado para generar la lista mostrando el orden:"
   ]
  },
  {
   "cell_type": "code",
   "execution_count": 44,
   "metadata": {},
   "outputs": [
    {
     "data": {
      "text/plain": [
       "[__main__.D, __main__.B, __main__.C, __main__.A, object]"
      ]
     },
     "execution_count": 44,
     "metadata": {},
     "output_type": "execute_result"
    }
   ],
   "source": [
    "D.mro()"
   ]
  },
  {
   "cell_type": "code",
   "execution_count": 45,
   "metadata": {},
   "outputs": [
    {
     "data": {
      "text/plain": [
       "[__main__.C, __main__.A, object]"
      ]
     },
     "execution_count": 45,
     "metadata": {},
     "output_type": "execute_result"
    }
   ],
   "source": [
    "C.mro()"
   ]
  }
 ],
 "metadata": {
  "kernelspec": {
   "display_name": "Python 3",
   "language": "python",
   "name": "python3"
  },
  "language_info": {
   "codemirror_mode": {
    "name": "ipython",
    "version": 3
   },
   "file_extension": ".py",
   "mimetype": "text/x-python",
   "name": "python",
   "nbconvert_exporter": "python",
   "pygments_lexer": "ipython3",
   "version": "3.6.1"
  }
 },
 "nbformat": 4,
 "nbformat_minor": 2
}
