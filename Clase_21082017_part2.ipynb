{
 "cells": [
  {
   "cell_type": "markdown",
   "metadata": {},
   "source": [
    "# Condicionales"
   ]
  },
  {
   "cell_type": "code",
   "execution_count": 1,
   "metadata": {},
   "outputs": [
    {
     "name": "stdout",
     "output_type": "stream",
     "text": [
      "Age of human on Earth: 12\n",
      "\n",
      "Age in Venus is approx. 17.176470588235293 in years.\n",
      "Press Return>\n"
     ]
    },
    {
     "data": {
      "text/plain": [
       "''"
      ]
     },
     "execution_count": 1,
     "metadata": {},
     "output_type": "execute_result"
    }
   ],
   "source": [
    "age=int(input(\"Age of human on Earth: \"))\n",
    "print()\n",
    "if age < 1:\n",
    "    print(\"I cannot beleive it!\")\n",
    "elif age==1:\n",
    "    print(\"Age in Venus is approx. 19.5 months\")\n",
    "elif age>1:\n",
    "    venus=age*365./255.\n",
    "    print(\"Age in Venus is approx. \"+ str(venus) + \" in years.\")\n",
    "input(\"Press Return>\")"
   ]
  },
  {
   "cell_type": "code",
   "execution_count": 2,
   "metadata": {},
   "outputs": [
    {
     "data": {
      "text/plain": [
       "8"
      ]
     },
     "execution_count": 2,
     "metadata": {},
     "output_type": "execute_result"
    }
   ],
   "source": [
    "a=7\n",
    "b=8\n",
    "maximum = a if (a> b) else b\n",
    "maximum"
   ]
  },
  {
   "cell_type": "markdown",
   "metadata": {},
   "source": [
    "En C, la sintaxis equivalente sería:\n",
    "max = (a>b) ? a:b;"
   ]
  },
  {
   "cell_type": "code",
   "execution_count": 3,
   "metadata": {},
   "outputs": [
    {
     "name": "stdout",
     "output_type": "stream",
     "text": [
      "1st number: 2312\n",
      "2nd number: 1231\n",
      "3rd number: 12312\n",
      "The max value is: 12312.0\n"
     ]
    }
   ],
   "source": [
    "x=float(input(\"1st number: \"))\n",
    "y=float(input(\"2nd number: \"))\n",
    "z=float(input(\"3rd number: \"))\n",
    "if x>y and x>z:\n",
    "    maximum=x\n",
    "elif y>x and y>z:\n",
    "    maximum=y\n",
    "else:\n",
    "    maximum=z\n",
    "print(\"The max value is: \"+str(maximum))"
   ]
  },
  {
   "cell_type": "code",
   "execution_count": 4,
   "metadata": {},
   "outputs": [
    {
     "name": "stdout",
     "output_type": "stream",
     "text": [
      "1st number: 1231\n",
      "2nd number: 1231\n",
      "3rd number: 1231\n",
      "The max value is: 1231.0\n"
     ]
    }
   ],
   "source": [
    "x=float(input(\"1st number: \"))\n",
    "y=float(input(\"2nd number: \"))\n",
    "z=float(input(\"3rd number: \"))\n",
    "if x>y:\n",
    "    if x>z: maximum = x\n",
    "    else:\n",
    "        maximum=z\n",
    "else:\n",
    "    if y>z:\n",
    "        maximum=y\n",
    "    else:\n",
    "        maximum=z\n",
    "print(\"The max value is: \"+str(maximum))"
   ]
  },
  {
   "cell_type": "code",
   "execution_count": 6,
   "metadata": {},
   "outputs": [
    {
     "name": "stdout",
     "output_type": "stream",
     "text": [
      "1st number: 1314\n",
      "2nd number: 2423\n",
      "3rd number: 234234\n",
      "The max value is: 234234.0\n"
     ]
    }
   ],
   "source": [
    "x=float(input(\"1st number: \"))\n",
    "y=float(input(\"2nd number: \"))\n",
    "z=float(input(\"3rd number: \"))\n",
    "maximum=max((x,y,z))\n",
    "print(\"The max value is: \"+str(maximum))\n"
   ]
  },
  {
   "cell_type": "code",
   "execution_count": 9,
   "metadata": {},
   "outputs": [
    {
     "name": "stdout",
     "output_type": "stream",
     "text": [
      "How many values? 5\n",
      "Value: 2342\n",
      "Value: 453425\n",
      "Value: 4243436\n",
      "Value: 43432\n",
      "Value: 242\n",
      "The maximal value is: 4243436.0\n"
     ]
    }
   ],
   "source": [
    "number_of_values = int(input(\"How many values? \"))\n",
    "\n",
    "maximum = float(input(\"Value: \"))\n",
    "for i in range(number_of_values - 1):\n",
    "    value = float(input(\"Value: \"))\n",
    "    if value > maximum:\n",
    "        maximum = value\n",
    "\n",
    "print(\"The maximal value is: \" + str(maximum))"
   ]
  },
  {
   "cell_type": "code",
   "execution_count": 10,
   "metadata": {},
   "outputs": [
    {
     "name": "stdout",
     "output_type": "stream",
     "text": [
      "Sum of 1 until 100: 5050\n"
     ]
    }
   ],
   "source": [
    "n=100\n",
    "s=0\n",
    "counter=1\n",
    "while counter <= n:\n",
    "    s=s+counter\n",
    "    counter += 1\n",
    "print(\"Sum of 1 until %d: %d\" % (n,s))"
   ]
  },
  {
   "cell_type": "code",
   "execution_count": 22,
   "metadata": {},
   "outputs": [
    {
     "name": "stdout",
     "output_type": "stream",
     "text": [
      "0.216853245086\n"
     ]
    }
   ],
   "source": [
    "import numpy as np\n",
    "M=1.45\n",
    "tol=1e-8\n",
    "nmax=500\n",
    "E=2\n",
    "ratio=(E-0.3333*np.sin(E)-M)/(1-0.3333*np.cos(E))\n",
    "counter=1"
   ]
  },
  {
   "cell_type": "code",
   "execution_count": 25,
   "metadata": {},
   "outputs": [
    {
     "name": "stdout",
     "output_type": "stream",
     "text": [
      "1.14628383046\n"
     ]
    }
   ],
   "source": [
    "while counter < nmax and abs(ratio)>tol:\n",
    "    ratio=(E+0.3333*np.sin(E)-M)/(1+0.3333*np.cos(E))\n",
    "    E=E-ratio\n",
    "    counter+=1\n",
    "print(E)"
   ]
  },
  {
   "cell_type": "code",
   "execution_count": 28,
   "metadata": {},
   "outputs": [
    {
     "name": "stdout",
     "output_type": "stream",
     "text": [
      "New number: 6\n",
      "Number too small\n",
      "New number: 12\n",
      "Number too small\n",
      "New number: 19\n",
      "Number too large\n",
      "New number: 18\n",
      "Number too large\n",
      "New number: 15\n",
      "Number too large\n",
      "New number: 14\n",
      "Number too large\n",
      "New number: 13\n",
      "Congratulations. You made it!\n"
     ]
    }
   ],
   "source": [
    "import random\n",
    "n=20\n",
    "to_be_guessed = int(n*random.random())+1\n",
    "guess=0\n",
    "while guess != to_be_guessed:\n",
    "    guess = int(input(\"New number: \"))\n",
    "    if guess > 0:\n",
    "        if guess > to_be_guessed:\n",
    "            print(\"Number too large\")\n",
    "        elif guess < to_be_guessed:\n",
    "            print(\"Number too small\")\n",
    "    else:\n",
    "        print(\"Sorry that you give up!\")\n",
    "else:\n",
    "    print(\"Congratulations. You made it!\")"
   ]
  },
  {
   "cell_type": "code",
   "execution_count": null,
   "metadata": {
    "collapsed": true
   },
   "outputs": [],
   "source": [
    "julio.gallegos@sciops.esa.int"
   ]
  }
 ],
 "metadata": {
  "kernelspec": {
   "display_name": "Python 3",
   "language": "python",
   "name": "python3"
  },
  "language_info": {
   "codemirror_mode": {
    "name": "ipython",
    "version": 3
   },
   "file_extension": ".py",
   "mimetype": "text/x-python",
   "name": "python",
   "nbconvert_exporter": "python",
   "pygments_lexer": "ipython3",
   "version": "3.6.1"
  }
 },
 "nbformat": 4,
 "nbformat_minor": 2
}
