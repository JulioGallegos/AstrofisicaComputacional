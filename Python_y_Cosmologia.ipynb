{
 "cells": [
  {
   "cell_type": "markdown",
   "metadata": {},
   "source": [
    "<h1 style=\"text-align:center;\"> Python y Cosmología </h1> \n",
    "\n",
    "<h1 style=\"text-align:center;\">\n",
    "Análisis de datos en Cosmología usando Jupyter Notebook </h1> \n",
    "\n",
    "\n",
    "<p style=\"font-size:20px\">\n",
    "<ol>\n",
    "<li> Dar una introducción al análisis de datos en Cosmología del CMB\n",
    "<li> Acceder al archivo de Planck http://pla.esac.esa.int/pla/#home.\n",
    "<li> Ejemplos.\n",
    "<li> Paquetes adicionales: AstroML, scipy, healpy, camb, astropy.\n",
    "<ol>\n",
    " \n",
    " http://www.astroml.org/\n",
    " \n",
    " https://camb.readthedocs.io/en/latest/camb.html\n",
    " \n",
    " https://healpy.readthedocs.io/en/latest/tutorial.html\n",
    " \n",
    " http://www.astropy.org/"
   ]
  },
  {
   "cell_type": "markdown",
   "metadata": {
    "collapsed": true
   },
   "source": [
    "Datos:\n",
    "Utilizaremos 5 archivos de datos para los ejemplos:\n",
    "\n",
    "3 mapas de CMB -> SMICA, Commander y NILC Full Mission maps download http://pla.esac.esa.int/pla/#maps\n",
    "\n",
    "COM_CMB_IQU-smica_1024_R2.02_full.fits\n",
    "\n",
    "COM_CMB_IQU-commander_1024_R2.02_full.fits\n",
    "\n",
    "COM_CMB_IQU-nilc_1024_R2.02_full.fits\n",
    "\n",
    "1 mapa de Foregrounds -> Dust -> Commander maps download http://pla.esac.esa.int/pla/#maps\n",
    "\n",
    "COM_CompMap_dust-commander_0256_R2.00.fits\n",
    "\n",
    "1 CMB Angular Power Spectrum http://pla.esac.esa.int/pla/#cosmology\n",
    "\n",
    "COM_PowerSpect_CMB-base-plikHM-TT-lowTEB-minimum-theory_R2.02.txt"
   ]
  },
  {
   "cell_type": "code",
   "execution_count": null,
   "metadata": {},
   "outputs": [],
   "source": [
    "#Set/path/to/data/dir\n",
    "from os.path import expanduser\n",
    "home = expanduser(\"~\")\n",
    "data_dir = '%s/Astrofisica Computacional/cosmology/' % home"
   ]
  },
  {
   "cell_type": "code",
   "execution_count": null,
   "metadata": {},
   "outputs": [],
   "source": [
    "%matplotlib inline\n",
    "import sys, platform, os\n",
    "from matplotlib import pyplot as plt\n",
    "import numpy as np\n",
    "import camb\n",
    "import math\n",
    "import healpy as hp \n",
    "from tqdm import tqdm\n",
    "\n",
    "#For spherical harmonics\n",
    "from matplotlib import cm, colors\n",
    "from mpl_toolkits.mplot3d import Axes3D\n",
    "from scipy.special import sph_harm\n",
    "\n",
    "from scipy.fftpack import ifftn, fftn\n",
    "import matplotlib.cm as cm\n",
    "from math import pi, sin, cos, sqrt, log, floor\n",
    "\n",
    "plt.rcParams['figure.figsize'] = (12.0, 12.0)"
   ]
  },
  {
   "cell_type": "markdown",
   "metadata": {},
   "source": [
    "<h1 style=\"text-align:center;\"> The Fourier Transform </h1>"
   ]
  },
  {
   "cell_type": "markdown",
   "metadata": {},
   "source": [
    "La transformada de Fourier es una técnica importante para el tratamiento de señales, en Cosmología y en otros campos.\n",
    "\n",
    "En Cosmología se utiliza para calculare el espectro de potencia de señales (la distribución de la potencia en los componentes de frecuencia presentes en la señal.\n",
    "\n",
    "Facilita la resolución de problemas muy complicados utilizadon \"trucos\".\n",
    "\n",
    "Cualquier función compleja continua ($-\\infty, +\\infty$) se puede representar por una sumatoria de ondas plans clan $\\mathrm{e}^{iwt}$. \n",
    "\n",
    "(Formula de Euler: $e^{iwt} = \\cos(wt) + i\\sin(wt)$)\n",
    "\n",
    "Claro que en la práctica tenemos un intervalo finito y un conjunto discreto de puntos para evaluar.\n"
   ]
  },
  {
   "cell_type": "code",
   "execution_count": null,
   "metadata": {},
   "outputs": [],
   "source": [
    "plt.rcParams.update({'font.size': 22})\n",
    "\n",
    "x = np.linspace(0, 4*pi, 100)\n",
    "y = np.sin(x)\n",
    "y2 = np.sin(2*x)\n",
    "\n",
    "subx = np.linspace(1*pi, 3*pi, 20)\n",
    "suby = np.sin(subx)\n",
    "suby2 = np.sin(2*subx)\n",
    "\n",
    "fig, ax = plt.subplots(1,2, figsize = (20,10))\n",
    "\n",
    "ax[0].plot(x, y, lw=0.2)\n",
    "ax[0].plot(subx, suby, 'ro')\n",
    "\n",
    "ax[1].plot(x, y2, lw=0.2)\n",
    "ax[1].plot(subx, suby2, 'ro')\n",
    "\n",
    "#A bunch of lines and text\n",
    "\n",
    "for i in range(0,2):\n",
    "    ax[i].plot([pi, pi], [-0.5, sin(11*pi/10)], 'k-', lw=1)\n",
    "    ax[i].plot([11*pi/10., 11*pi/10.], [sin(11*pi/10), -0.5], 'k-', lw=1)\n",
    "    ax[i].plot([pi, 3*pi], [0,0], 'k-', lw=1)\n",
    "    ax[i].plot([pi, 11*pi/10.], [-0.5,-0.5], 'k-', lw=1)\n",
    "    ax[i].text(9*pi/10., -0.6, '$\\Delta t$')\n",
    "    ax[i].text(6, 0.05, '$L$')\n",
    "    ax[i].text(3*pi, 0.05, '$y_{N-1}$')\n",
    "    ax[i].text(pi, 0.05, '$y_0$')\n",
    " \n",
    "    ax[i].set_ylabel('$y$')\n"
   ]
  },
  {
   "cell_type": "markdown",
   "metadata": {},
   "source": [
    "\n",
    "La Tranformada de Fourier Discreta (DFT) es: $Y_k = \\sum\\limits_{n=0}^{N - 1}y_n\\mathrm{e}^{-2\\pi ikn/N}$\n",
    "\n",
    "Transforma un vector $y_n$ de N números complejos en un vector $Y_k$ de N números complejos.\n",
    "\n",
    "La inversa de la DFT es: $y_n = \\frac{1}{N}\\sum\\limits_{m=0}^{N - 1}Y_k\\mathrm{e}^{2\\pi ikn/N}$\n",
    "\n",
    "La Transformada Rápida de Fourier (Fast Fourier Transform FFT) es un algoritmo que se aprovecha de las multiplicaciones repedias para acelear el cálculo de la DFT \n",
    "\n",
    "Cooley & Tukey 1965 http://www.ams.org/journals/mcom/1965-19-090/S0025-5718-1965-0178586-1/\n",
    "\n",
    "DFT $O(N^2)$ \n",
    "\n",
    "FFT $O(N\\log N)$"
   ]
  },
  {
   "cell_type": "code",
   "execution_count": null,
   "metadata": {},
   "outputs": [],
   "source": [
    "plt.rcParams.update({'font.size': 14})\n",
    "\n",
    "# Code copied from:\n",
    "# https://docs.scipy.org/doc/scipy/reference/tutorial/fftpack.html\n",
    "\n",
    "N = 100\n",
    "f, ((ax1, ax2, ax3), (ax4, ax5, ax6)) = plt.subplots(2, 3, sharex='col', sharey='row')\n",
    "xf = np.zeros((N,N))\n",
    "xf[0, 5] = 1\n",
    "# xf[0, N-5] = 1\n",
    "Z = ifftn(xf)\n",
    "ax1.imshow(xf, cmap=cm.Reds)\n",
    "ax4.imshow(np.real(Z), cmap=cm.gray)\n",
    "\n",
    "\n",
    "xf = np.zeros((N, N))\n",
    "xf[5, 0] = 1\n",
    "# xf[N-5, 0] = 1\n",
    "Z = ifftn(xf)\n",
    "ax2.imshow(xf, cmap=cm.Reds)\n",
    "ax5.imshow(np.real(Z), cmap=cm.gray)\n",
    "\n",
    "\n",
    "xf = np.zeros((N, N))\n",
    "xf[5, 10] = 1\n",
    "xf[N-5, N-10] = 1\n",
    "Z = ifftn(xf)\n",
    "ax3.imshow(xf, cmap=cm.Reds)\n",
    "ax6.imshow(np.real(Z), cmap=cm.gray)\n",
    "\n",
    "\n",
    "plt.show()"
   ]
  },
  {
   "cell_type": "markdown",
   "metadata": {},
   "source": [
    "<h1 style=\"text-align:center;\"> The CMB </h1>"
   ]
  },
  {
   "cell_type": "markdown",
   "metadata": {},
   "source": [
    "Qué es el CMB?\n",
    "\n",
    "La teoría del Big Bang predice un campo de radiación a una temperatura de 2.72 K liberada alrededor de 380,000 años después del Big Bang cuando la temperatura del Universo bajo lo suficiente para que la materia y la energía se separaran. \n",
    "\n",
    "Es un campo uniforme e isotrópico, con un espectro de cuerpo negro. En este campo de radiación existen fluctuaciones de temperatura originadas por la distribución de materia en el Universo $\\mathcal{O}(10^{-5}K)$\n",
    "\n",
    "También existen fluctuaciones en la polarización de unos cuantos órdenes de magnitud inferior.\n",
    "\n",
    "Fue el gran reto de la Cosmología Observacional de finales del Siglo XX.\n",
    "\n",
    "\n",
    "\n"
   ]
  },
  {
   "cell_type": "code",
   "execution_count": null,
   "metadata": {
    "collapsed": true
   },
   "outputs": [],
   "source": [
    "#Before we start plotting the CMB let's set a nice cmap\n",
    "cmap = cm.RdBu_r\n",
    "cmap.set_under(\"w\") # sets background to white"
   ]
  },
  {
   "cell_type": "code",
   "execution_count": null,
   "metadata": {},
   "outputs": [],
   "source": [
    "planck_IQU_SMICA = hp.read_map('COM_CMB_IQU-smica_1024_R2.02_full.fits')\n",
    "fig = plt.figure(1)\n",
    "hp.mollview(planck_IQU_SMICA, min=-0.0003, max=0.0003, title='Planck Temperature Map',\n",
    "            fig=1, unit='K',cmap=cmap)"
   ]
  },
  {
   "cell_type": "markdown",
   "metadata": {},
   "source": [
    "<h1 style=\"text-align:center;\"> The Data </h1>"
   ]
  },
  {
   "cell_type": "markdown",
   "metadata": {},
   "source": [
    "\n",
    "\n",
    "El archivo de Plank es público: http://pla.esac.esa.int/pla/#home\n",
    "\n",
    "O el de WMAP (con menos resolución): https://lambda.gsfc.nasa.gov/product/map/current/\n"
   ]
  },
  {
   "cell_type": "markdown",
   "metadata": {},
   "source": [
    "<h1 style=\"text-align:center;\"> Gaussian Random Fields  </h1>"
   ]
  },
  {
   "cell_type": "markdown",
   "metadata": {},
   "source": [
    "Como describimos el CMB?\n",
    "\n",
    "Un campo aleatorio continuo 2D $y(\\hat{q}) = \\delta T(\\hat{q})/T_{CMB}$ donde $\\hat{q}$ cubre la esfera celeste.\n",
    "\n",
    "Esto se mapea a un vector ${\\bf y} = [y_1,...,y_n]$ donde $N$ es el número de pixels.\n",
    "\n",
    "El CMB es un Campo Aleatorio Gaussiano (Gaussian Random Field),  o al menos muy cerca de serlo, así que el vector ${\\bf y}$ es una multivariable aleatoria con media gaussiana cero y una Probability Distribution Function:\n",
    "\n",
    "$P(y_1,...,y_n) =\\frac{1}{(2\\pi)^{N/2} | C|^{1/2}}\\exp(-\\frac{1}{2}{\\bf y.C^{-1}.y^{\\dagger}})$\n",
    "\n",
    "donde $C$ es la matriz de covarianza $C = \\langle {\\bf y.y}^{\\dagger}\\rangle$"
   ]
  },
  {
   "cell_type": "code",
   "execution_count": null,
   "metadata": {},
   "outputs": [],
   "source": [
    "from scipy.stats import norm\n",
    "import matplotlib.mlab as mlab\n",
    "\n",
    "# best fit of data\n",
    "(mu, sigma) = norm.fit(planck_IQU_SMICA)\n",
    "\n",
    "# the histogram of the data\n",
    "n, bins, patches = plt.hist(planck_IQU_SMICA, 60, normed=1, facecolor='r', alpha=0.25)\n",
    "\n",
    "# add a 'best fit' line\n",
    "y = mlab.normpdf( bins, mu, sigma)\n",
    "l = plt.plot(bins, y, 'r--', linewidth=2)\n",
    "\n",
    "plt.xlabel('Temperature/K')\n",
    "plt.ylabel('Frequency')\n",
    "plt.title(r'Histogram of $12N_{side}^2$ pixels from the Planck SMICA map', y=1.08)\n",
    "plt.xlim(-0.0005, 0.0005)\n",
    "\n",
    "plt.legend()\n",
    "\n",
    "plt.show()"
   ]
  },
  {
   "cell_type": "markdown",
   "metadata": {},
   "source": [
    "<h1 style=\"text-align:center;\"> Predicting the CMB power spectra </h1>"
   ]
  },
  {
   "cell_type": "markdown",
   "metadata": {},
   "source": [
    "Dadas las condiciones iniciales y los valores de los parámetros cosmológicos, códigos numéricos de CMB Boltzmann como CAMB hacen evolucionar las perturbaciones iniciales utilizando las ecuaciones de Boltzmann para predecir el espectro del CMB. "
   ]
  },
  {
   "cell_type": "markdown",
   "metadata": {},
   "source": [
    "Para mayor información, vean la documentación de CAMB\n",
    "https://camb.readthedocs.io/en/latest/\n",
    "<img src=\"camb.png\">\n",
    "Source: camb.info"
   ]
  },
  {
   "cell_type": "code",
   "execution_count": null,
   "metadata": {},
   "outputs": [],
   "source": [
    "#Object storing the parameters for a CAMB calculation, including cosmological parameters\n",
    "cp = camb.model.CAMBparams() \n",
    "\n",
    "#Sets cosmological parameters in terms of physical densities and parameters used in Planck 2015 analysis. \n",
    "T0 = 2.7255\n",
    "cp.set_cosmology(TCMB=T0)\n",
    "\n",
    "#Set parameters to get CMB power spectra accurate to specific a l_max.\n",
    "cp.set_for_lmax(2500)\n",
    "\n",
    "#Set the InitialPower primordial power spectrum parameters\n",
    "cp.InitPower.set_params()"
   ]
  },
  {
   "cell_type": "code",
   "execution_count": null,
   "metadata": {},
   "outputs": [],
   "source": [
    "#Parameters used by Fortran CAMB\n",
    "print(cp)"
   ]
  },
  {
   "cell_type": "code",
   "execution_count": null,
   "metadata": {},
   "outputs": [],
   "source": [
    "cp.validate()"
   ]
  },
  {
   "cell_type": "markdown",
   "metadata": {},
   "source": [
    "Para probar sus parámetros cosmológicos, pueden visitar: https://lambda.gsfc.nasa.gov/toolbox/tb_camb_form.cfm"
   ]
  },
  {
   "cell_type": "code",
   "execution_count": null,
   "metadata": {},
   "outputs": [],
   "source": [
    "#Calculate results for specified parameters and return CAMBdata instance for getting results.\n",
    "results = camb.get_results(cp)"
   ]
  },
  {
   "cell_type": "code",
   "execution_count": null,
   "metadata": {},
   "outputs": [],
   "source": [
    "#Get dictionary of CMB power spectra\n",
    "powers = results.get_cmb_power_spectra(cp)\n",
    "for name in powers: print(name)"
   ]
  },
  {
   "cell_type": "markdown",
   "metadata": {},
   "source": [
    "<h1 style=\"text-align:center;\"> Experiments </h1>"
   ]
  },
  {
   "cell_type": "markdown",
   "metadata": {},
   "source": [
    "Read more: https://wiki.cosmos.esa.int/planckpla2015/index.php/Main_Page\n",
    "\n",
    "Data: http://pla.esac.esa.int/pla/#cosmology"
   ]
  },
  {
   "cell_type": "code",
   "execution_count": null,
   "metadata": {},
   "outputs": [],
   "source": [
    "#read in theoretical best fit power spectra from Planck 2015 data\n",
    "planck_theory_cl = np.loadtxt(\"COM_PowerSpect_CMB-base-plikHM-TT-lowTEB-minimum-theory_R2.02.txt\")"
   ]
  },
  {
   "cell_type": "code",
   "execution_count": null,
   "metadata": {},
   "outputs": [],
   "source": [
    "#Plot the total lensed CMB power spectra against the theoretical best fit\n",
    "plt.rcParams.update({'font.size': 14})\n",
    "\n",
    "#All power spectra are l(l+1)C_l/2pi numpy arrays (0..lmax, 0..3), where 0..3 index are TT, EE, BB, TE.\n",
    "totCL = powers['total']\n",
    "print(totCL.shape)\n",
    "\n",
    "T0sq = T0**2\n",
    "totCL = T0sq*totCL\n",
    "\n",
    "#Convert from K^2 to microK^2\n",
    "totCL = totCL*1e12\n",
    "\n",
    "ls = np.arange(totCL.shape[0])\n",
    "\n",
    "fig, ax = plt.subplots(3,1, figsize = (12,20))\n",
    "ax[0].set_xlabel('$l$')\n",
    "ax[0].set_ylabel('$l(l+1)C_l/2\\pi$')\n",
    "ax[0].plot(planck_theory_cl[:,0], planck_theory_cl[:,1], '-r', label = ' Planck best fit')\n",
    "ax[0].plot(ls,totCL[:,0], color='k', label = 'CAMB test')\n",
    "ax[0].set_xscale('log')\n",
    "ax[0].set_yscale('log')\n",
    "ax[0].legend(loc='lower left')\n",
    "ax[0].set_title('$TT$')\n",
    "\n",
    "ax[1].plot(ls,totCL[:,1], color='k')\n",
    "ax[1].set_xlabel('$l$')\n",
    "ax[1].set_xscale('log')\n",
    "ax[1].set_yscale('log')\n",
    "ax[1].set_title(r'$EE$')\n",
    "\n",
    "ax[2].plot(ls,totCL[:,3], color='k')\n",
    "ax[2].set_xlabel('$l$')\n",
    "ax[2].set_title(r'$TE$')\n",
    "ax[2].set_xscale('log')\n",
    "\n",
    "for ax in ax.reshape(-1): ax.set_xlim([2,2500])\n"
   ]
  },
  {
   "cell_type": "markdown",
   "metadata": {},
   "source": [
    "<h1 style=\"text-align:center;\"> Spherical Harmonics </h1>"
   ]
  },
  {
   "cell_type": "markdown",
   "metadata": {},
   "source": [
    "Los armónicos esféricos son funciones propias del cuadrado del momento angular orbital; los primeros son: \n",
    "\n",
    "$Y_{00}(\\theta,\\phi) = \\frac{1}{\\sqrt{4\\pi}}$\n",
    "\n",
    "$Y_{10}(\\theta,\\phi) = \\mathrm{i}\\sqrt{\\frac{3}{4\\pi}}\\cos\\theta$\n",
    "\n",
    "$Y_{1,\\pm1}(\\theta,\\phi) = \\mp \\mathrm{i}\\sqrt{\\frac{3}{8\\pi}}\\sin\\theta \\,\\mathrm{e}^{\\pm i\\phi}$\n",
    "\n",
    "$Y_{20}(\\theta,\\phi) = \\sqrt{\\frac{5}{16\\pi}}(1 - 3\\cos^2\\theta)$\n",
    "\n",
    "$Y_{2,\\pm1}(\\theta,\\phi) = \\pm \\mathrm{i}\\sqrt{\\frac{15}{8\\pi}}\\cos\\theta\\sin\\theta \\,\\mathrm{e}^{\\pm i\\phi}$\n",
    "\n",
    "$Y_{2,\\pm2}(\\theta,\\phi) = -\\sqrt{\\frac{15}{32\\pi}}\\sin^2\\theta \\,\\mathrm{e}^{\\pm 2i\\phi}$\n",
    "\n",
    "La Temperatura se define sobre una esfera, es decir, es una función de $\\theta$ y $\\phi$ así que se puede descomponer en la suma de armónicos esféricos:\n",
    "\n",
    "$T(\\hat{n}) = \\sum\\limits_{l,m}a_{T,lm}Y_{lm}(\\hat{n})$\n",
    "\n",
    "Esto es análogo a la descomposición de Fourier en el plano, es decir, campos 2D o 3D son función de coordenadas espaciales:\n",
    "\n",
    "La amplitud $a_{lm}$ son coeficienes complejos de los armónicos esféricos. Tienen una distribución Gaussiana en el modelo estándar de inflación. \n",
    "\n",
    "$l$ se relaciona a la escala angular en el cielo.\n",
    "\n",
    "$m$ se relaciona con la orientación de este modo en el cielo\n",
    "\n",
    "La función de densidad de probabilidad (PDF) de la distribución $a_{lm}$ es\n",
    "\n",
    "$P(a_{lm}) = \\frac{1}{\\sqrt{2\\pi C_l}}e^{-a^2_{lm}/2C_l} $\n",
    "\n",
    "$a_{lm}$ son variables aleatorias con media Gaussiana cero\n",
    "\n",
    "$C_l$ es el espectro de potencia (la varianza de la distribución.)\n",
    "\n",
    "La varianza del campo en una dada escala angular es:  \n",
    "\n",
    "$\\langle a^*_{l'm'}a_{lm} \\rangle = C_l\\delta_{l'l}\\delta_{m'm}$\n",
    "\n",
    "Solamente tenemos un universo así que nuestra mejor estimación viene del promedio sobre $m$\n",
    "\n",
    "Isotropía Estadística: No existe correlación entre las $a_{lm}$ a menos que $l=l'$ y $m=m'$"
   ]
  },
  {
   "cell_type": "markdown",
   "metadata": {},
   "source": [
    "<h1 style=\"text-align:center;\"> Spherical Harmonics </h1>"
   ]
  },
  {
   "cell_type": "code",
   "execution_count": null,
   "metadata": {},
   "outputs": [],
   "source": [
    "# http://scipython.com/book/chapter-8-scipy/examples/visualizing-the-spherical-harmonics/\n",
    "# Example code used from the book Learning Scientific Programming with Python \n",
    "# published by Cambridge University Press (ISBN: 9781107428225).\n",
    "\n",
    "phi = np.linspace(0, np.pi, 100) #Polar (colatitudinal) coordinate\n",
    "theta = np.linspace(0, 2*np.pi, 100) #Azimuthal (longitudinal) coordinate\n",
    "phi, theta = np.meshgrid(phi, theta)"
   ]
  },
  {
   "cell_type": "code",
   "execution_count": null,
   "metadata": {
    "collapsed": true
   },
   "outputs": [],
   "source": [
    "# The Cartesian coordinates of the unit sphere\n",
    "# https://en.wikipedia.org/wiki/Spherical_coordinate_system\n",
    "x = np.sin(phi) * np.cos(theta)\n",
    "y = np.sin(phi) * np.sin(theta)\n",
    "z = np.cos(phi)"
   ]
  },
  {
   "cell_type": "code",
   "execution_count": null,
   "metadata": {
    "collapsed": true
   },
   "outputs": [],
   "source": [
    "def norm_harmonic(l, m, theta, phi):\n",
    "    # Calculate the spherical harmonic Y(l,m) and normalize to [0,1]\n",
    "    fcolors = sph_harm(m, l, theta, phi).real\n",
    "    fmax, fmin = fcolors.max(), fcolors.min()\n",
    "    fcolors = (fcolors - fmin)/(fmax - fmin)\n",
    "    return fcolors"
   ]
  },
  {
   "cell_type": "code",
   "execution_count": null,
   "metadata": {},
   "outputs": [],
   "source": [
    "def plot_harmonic(fcolors, x, y, z):\n",
    "    # Set the aspect ratio to 1 so our sphere looks spherical\n",
    "    fig = plt.figure(figsize=plt.figaspect(1.))\n",
    "    ax = fig.add_subplot(111, projection='3d')\n",
    "    ax.plot_surface(x, y, z,  rstride=1, cstride=1, facecolors=cm.RdBu_r(fcolors))\n",
    "    # Turn off the axis planes\n",
    "    ax.set_axis_off()\n",
    "    plt.show()"
   ]
  },
  {
   "cell_type": "code",
   "execution_count": null,
   "metadata": {},
   "outputs": [],
   "source": [
    "def plot_ax(fig, fcolors, x, y, z, numplots, pos):\n",
    "    ax = fig.add_subplot(1, numplots, pos, projection='3d', aspect=1.0)\n",
    "    ax.plot_surface(x, y, z,  rstride=1, cstride=1, facecolors=cm.RdBu_r(fcolors))\n",
    "    # Turn off the axis planes\n",
    "    ax.set_axis_off()"
   ]
  },
  {
   "cell_type": "code",
   "execution_count": null,
   "metadata": {
    "collapsed": true
   },
   "outputs": [],
   "source": [
    "def plot_l(l):\n",
    "    fig = plt.figure(figsize=(12, 12))\n",
    "    for m in range(0, l + 1):\n",
    "        plot_ax(fig, norm_harmonic(l, m, theta, phi), x, y, z, l + 1, m + 1)\n",
    "    plt.show()"
   ]
  },
  {
   "cell_type": "markdown",
   "metadata": {},
   "source": [
    "Ahora hagamos un plot:"
   ]
  },
  {
   "cell_type": "code",
   "execution_count": null,
   "metadata": {},
   "outputs": [],
   "source": [
    "l = 0; m = 0\n",
    "fcolors = sph_harm(m, l, theta, phi).real\n",
    "plot_harmonic(fcolors/fcolors, x, y, z)"
   ]
  },
  {
   "cell_type": "code",
   "execution_count": null,
   "metadata": {},
   "outputs": [],
   "source": [
    "plot_l(1)"
   ]
  },
  {
   "cell_type": "code",
   "execution_count": null,
   "metadata": {},
   "outputs": [],
   "source": [
    "plot_l(2)"
   ]
  },
  {
   "cell_type": "code",
   "execution_count": null,
   "metadata": {},
   "outputs": [],
   "source": [
    "plot_l(3)"
   ]
  },
  {
   "cell_type": "code",
   "execution_count": null,
   "metadata": {},
   "outputs": [],
   "source": [
    "plot_l(4)"
   ]
  },
  {
   "cell_type": "markdown",
   "metadata": {},
   "source": [
    "Como se relacionan los armónicos esféricos con el CMB?\n",
    "\n",
    "\n",
    "http://spud.spa.umn.edu/~pryke/logbook/20000922/\n",
    "\n",
    "http://spud.spa.umn.edu/~pryke/logbook/20000922/individual_cmb.html\n",
    "\n",
    "http://spud.spa.umn.edu/~pryke/logbook/20000922/cumulative_cmb.html\n",
    "\n",
    "Cuál es la relación entre $l$ y $\\theta$? $l \\approx 180/\\theta$\n",
    "\n",
    "\n",
    "\n"
   ]
  },
  {
   "cell_type": "code",
   "execution_count": null,
   "metadata": {},
   "outputs": [],
   "source": [
    "plt.plot(planck_theory_cl[:,0], planck_theory_cl[:,1], '-r')\n",
    "plt.xlim(0,2500)\n",
    "plt.show()"
   ]
  },
  {
   "cell_type": "markdown",
   "metadata": {},
   "source": [
    "<h1 style=\"text-align:center;\"> Instrumental Effects </h1>"
   ]
  },
  {
   "cell_type": "markdown",
   "metadata": {},
   "source": [
    "Gaussian beam in harmonic space\n",
    "$B_l(\\theta_s) = exp(-2(l+\\frac{1}{2})^2sin^2(\\frac{\\theta_s}{2}))$ \n",
    "\n",
    "where $\\theta_s = \\theta_{FWHM}/\\sqrt{8\\ln 2}$\n",
    "\n",
    "The power spectrum of the observed map $C_\\ell(map)$ is the convolution of the beam window function $B_l$ with the power spectrum of the sky $C_l(sky)$\n",
    "\n",
    "$C_l(map)$ = $C_l(sky)*B_l(\\theta_s)$ \n",
    "\n",
    "The Planck SMICA map has an effective beam window function described here:\n",
    "\n",
    "https://wiki.cosmos.esa.int/planckpla/index.php/CMB_and_astrophysical_component_maps\n",
    "https://wiki.cosmos.esa.int/planckpla2015/index.php/CMB_and_astrophysical_component_maps#Polarization_products"
   ]
  },
  {
   "cell_type": "code",
   "execution_count": null,
   "metadata": {},
   "outputs": [],
   "source": [
    "#Calculating the beam window function\n",
    "ls = np.arange(1024)\n",
    "beam_arcmin = 30.0\n",
    "\n",
    "def B_l(beam_arcmin, ls):\n",
    "    theta_fwhm = ((beam_arcmin/60.0)/180.0)*math.pi #angle in radians \n",
    "    theta_s = theta_fwhm/(math.sqrt(8*math.log(2)))\n",
    "    return np.exp(-2*(ls + 0.5)**2*(math.sin(theta_s/2.0))**2)\n",
    "\n",
    "#Let's plot it\n",
    "fig, ax = plt.subplots(1,1, figsize = (10,10))\n",
    "ax.plot(ls, B_l(beam_arcmin, ls), color='k')\n",
    "ax.set_xlabel(r'$\\ell$')\n",
    "ax.set_ylabel(r'$B_\\ell(\\theta_s)$')\n",
    "ax.set_title(r\"Beam Window Function for $\\theta_{FWHM}$ of 30'\")"
   ]
  },
  {
   "cell_type": "markdown",
   "metadata": {},
   "source": [
    "<h1 style=\"text-align:center;\"> White Noise </h1>"
   ]
  },
  {
   "cell_type": "code",
   "execution_count": null,
   "metadata": {
    "collapsed": true
   },
   "outputs": [],
   "source": [
    "white_noise = np.ma.asarray(np.random.normal(0, 0.0001, 12*1024**2))"
   ]
  },
  {
   "cell_type": "code",
   "execution_count": null,
   "metadata": {},
   "outputs": [],
   "source": [
    "fig = plt.figure(1)\n",
    "hp.mollview(white_noise, min=-0.0003, max=0.0003, title='White Noise Map',\n",
    "            fig=1, unit=r'Temperature/K', cmap=cmap)"
   ]
  },
  {
   "cell_type": "code",
   "execution_count": null,
   "metadata": {},
   "outputs": [],
   "source": [
    "plt.hist(white_noise,  bins=np.arange(-0.0005, 0.0005, 0.00002), color='b', alpha = 0.2 ) \n",
    "plt.xlim(-0.0005, 0.0005)\n",
    "plt.xlabel('Temperature/K')\n",
    "plt.ylabel('Frequency')\n",
    "plt.title(r'Histogram of $12N_{side}^2$ random samples from a normal (Gaussian) distribution', y=1.08)\n",
    "plt.show()"
   ]
  },
  {
   "cell_type": "code",
   "execution_count": null,
   "metadata": {},
   "outputs": [],
   "source": [
    "plt.plot(planck_theory_cl[:,0], planck_theory_cl[:,1], '-r')\n",
    "plt.xlim(0,2500)\n",
    "plt.show()"
   ]
  },
  {
   "cell_type": "code",
   "execution_count": null,
   "metadata": {},
   "outputs": [],
   "source": [
    "#http://pla.esac.esa.int/pla/#maps\n",
    "planck_IQU_SMICA = hp.read_map('%sCOM_CMB_IQU-smica_1024_R2.02_full.fits' % data_dir)\n",
    "planck_IQU_COM = hp.read_map('%sCOM_CMB_IQU-commander_1024_R2.02_full.fits' % data_dir)\n",
    "planck_IQU_NILC = hp.read_map('%sCOM_CMB_IQU-nilc_1024_R2.02_full.fits' % data_dir)"
   ]
  },
  {
   "cell_type": "code",
   "execution_count": null,
   "metadata": {},
   "outputs": [],
   "source": [
    "# best fit of data\n",
    "(mu, sigma) = norm.fit(planck_IQU_SMICA)\n",
    "\n",
    "# the histogram of the data\n",
    "n, bins, patches = plt.hist(planck_IQU_SMICA, 60, normed=1, facecolor='r', alpha=0.25)\n",
    "\n",
    "# add a 'best fit' line\n",
    "y = mlab.normpdf( bins, mu, sigma)\n",
    "l = plt.plot(bins, y, 'r--', linewidth=2)\n",
    "\n",
    "n, bins, patches = plt.hist(white_noise, 60, normed=1, facecolor='b', alpha=0.25)\n",
    "\n",
    "plt.xlim(-0.0005, 0.0005)\n",
    "plt.xlabel('Temperature/K')\n",
    "plt.ylabel('Frequency')\n",
    "plt.title(r'Histogram of $12N_{side}^2$ random samples from a normal (Gaussian) distribution and the Planck SMICA map', y=1.08)\n",
    "plt.legend()\n",
    "plt.show()"
   ]
  },
  {
   "cell_type": "markdown",
   "metadata": {},
   "source": [
    "CMB Temperature fluctuations are tiny!\n",
    "\n",
    "1 part in $10^5$\n",
    "\n"
   ]
  },
  {
   "cell_type": "code",
   "execution_count": null,
   "metadata": {},
   "outputs": [],
   "source": [
    "fig = plt.figure(1)\n",
    "hp.mollview(planck_IQU_SMICA, min=-0.0003, max=0.0003, title='Planck Temperature Map',\n",
    "            fig=1, unit='K',cmap=cmap)"
   ]
  },
  {
   "cell_type": "code",
   "execution_count": null,
   "metadata": {
    "collapsed": true
   },
   "outputs": [],
   "source": [
    "# compute and plot the power spectrum\n",
    "\n",
    "cl_SMICA = hp.anafast(planck_IQU_SMICA, lmax=1024)\n",
    "cl_COM = hp.anafast(planck_IQU_COM, lmax=1024)\n",
    "cl_NILC = hp.anafast(planck_IQU_NILC, lmax=1024)\n",
    "\n",
    "ell = np.arange(len(cl_SMICA))\n"
   ]
  },
  {
   "cell_type": "code",
   "execution_count": null,
   "metadata": {},
   "outputs": [],
   "source": [
    "pl = hp.sphtfunc.pixwin(1024)"
   ]
  },
  {
   "cell_type": "code",
   "execution_count": null,
   "metadata": {},
   "outputs": [],
   "source": [
    "#Deconvolve the beam and the pixel window function\n",
    "dl_SMICA = cl_SMICA/(B_l(10.0, ell)**2*pl[0:1025]**2)\n",
    "dl_COM = cl_COM/(B_l(10.0, ell)**2*pl[0:1025]**2)\n",
    "dl_NILC = cl_NILC/(B_l(10.0, ell)**2*pl[0:1025]**2)\n",
    "\n",
    "#Apply scaling factors for plotting (convention)\n",
    "dl_SMICA = (ell * (ell + 1) * dl_SMICA / (2*math.pi)) / 1e-12\n",
    "dl_COM = (ell * (ell + 1) * dl_COM / (2*math.pi)) / 1e-12\n",
    "dl_NILC = (ell * (ell + 1) * dl_NILC / (2*math.pi)) / 1e-12"
   ]
  },
  {
   "cell_type": "code",
   "execution_count": null,
   "metadata": {
    "collapsed": true
   },
   "outputs": [],
   "source": [
    "cl_white = hp.anafast(white_noise, lmax=1024)"
   ]
  },
  {
   "cell_type": "code",
   "execution_count": null,
   "metadata": {
    "collapsed": true
   },
   "outputs": [],
   "source": [
    "#Scaled as above\n",
    "dl_white = (ell * (ell + 1) * cl_white / (2*math.pi)) / 1e-12"
   ]
  },
  {
   "cell_type": "code",
   "execution_count": null,
   "metadata": {},
   "outputs": [],
   "source": [
    "fig = plt.figure(3)\n",
    "ax = fig.add_subplot(111)\n",
    "ax.scatter(ell, dl_SMICA,\n",
    "           s=4, c='black', lw=0, \n",
    "           label='SMICA')\n",
    "ax.scatter(ell, dl_COM,\n",
    "           s=4, c='blue', lw=0, \n",
    "           label='COM')\n",
    "ax.scatter(ell, dl_NILC,\n",
    "           s=4, c='green', lw=0, \n",
    "           label='NILC')\n",
    "ax.scatter(ell, dl_white,\n",
    "           s=4, c='gray', lw=0,\n",
    "           label='white noise')\n",
    "\n",
    "ax.plot(planck_theory_cl[:,0], planck_theory_cl[:,1], '-r', label='Theory')\n",
    "\n",
    "\n",
    "ax.set_xlabel('$\\ell$')\n",
    "ax.set_ylabel('$\\ell(\\ell+1)C_\\ell/2\\pi \\,\\,(\\mu K^2)$ ')\n",
    "ax.set_title('Angular Power Spectra')\n",
    "ax.legend(loc='upper right')\n",
    "ax.grid()\n",
    "\n",
    "ax.set_xlim(2, 1024)\n",
    "ax.set_ylim(2, 7000)\n",
    "\n",
    "plt.show()"
   ]
  },
  {
   "cell_type": "code",
   "execution_count": null,
   "metadata": {},
   "outputs": [],
   "source": [
    "fig = plt.figure(3)\n",
    "ax = fig.add_subplot(111)\n",
    "ax.scatter(ell, dl_SMICA,\n",
    "           s=4, c='black', lw=0, \n",
    "           label='SMICA')\n",
    "ax.scatter(ell, dl_COM,\n",
    "           s=4, c='blue', lw=0, \n",
    "           label='COM')\n",
    "ax.scatter(ell, dl_NILC,\n",
    "           s=4, c='green', lw=0, \n",
    "           label='NILC')\n",
    "ax.scatter(ell, dl_white,\n",
    "           s=4, c='gray', lw=0,\n",
    "           label='white noise')\n",
    "ax.set_xscale('log')\n",
    "ax.set_yscale('log')\n",
    "\n",
    "ax.plot(planck_theory_cl[:,0], planck_theory_cl[:,1], '-r', label = 'Theory')\n",
    "\n",
    "\n",
    "ax.set_xlabel('$\\ell$')\n",
    "ax.set_ylabel('$\\ell(\\ell+1)C_\\ell/2\\pi \\,\\,(\\mu K^2)$ ')\n",
    "ax.set_title('Angular Power Spectra')\n",
    "ax.legend(loc='lower left')\n",
    "ax.grid()\n",
    "\n",
    "ax.set_xlim(2, 1024)\n",
    "ax.set_ylim(2, 10000)\n",
    "\n",
    "plt.show()"
   ]
  },
  {
   "cell_type": "code",
   "execution_count": null,
   "metadata": {},
   "outputs": [],
   "source": [
    "hp.zoomtool.mollzoom(planck_IQU_SMICA, cmap=cmap)"
   ]
  },
  {
   "cell_type": "code",
   "execution_count": null,
   "metadata": {},
   "outputs": [],
   "source": [
    "hp.zoomtool.mollzoom(white_noise, cmap=cmap)"
   ]
  },
  {
   "cell_type": "markdown",
   "metadata": {},
   "source": [
    "CMB Simulations\n",
    "\n",
    "Unfortunately, we can only observe one CMB. We can never observe them from another part of the Universe. \n",
    "\n",
    "So, in order to do experiments with the CMB, we need simulation... \n",
    "\n",
    "We will do this using healpy and the power spectrum from Planck"
   ]
  },
  {
   "cell_type": "code",
   "execution_count": null,
   "metadata": {},
   "outputs": [],
   "source": [
    "nside =1024\n",
    "lmax = 1024\n",
    "mmax = 1024\n",
    " \n",
    "synmap = hp.sphtfunc.synfast(cl_SMICA, nside, lmax=lmax, mmax=mmax, verbose=True)\n",
    "\n",
    "fig = plt.figure(1)\n",
    "hp.mollview(synmap,title='Simulated Universe', min = -0.0003, max = 0.0003,\n",
    "            fig=1, unit=r'K', cmap=cmap)"
   ]
  },
  {
   "cell_type": "markdown",
   "metadata": {},
   "source": [
    "Let's manually smooth the map with a Gaussian beam by convolving the power spectrum with the Gaussian beam (simple multiplication in Fourier space!)"
   ]
  },
  {
   "cell_type": "code",
   "execution_count": null,
   "metadata": {},
   "outputs": [],
   "source": [
    "cl_obs = hp.anafast(synmap, lmax=1024)\n",
    "ls = np.arange(len(cl_obs))\n",
    "cl = cl_obs*B_l(30.0, ls)**2\n",
    "\n",
    "alms = hp.sphtfunc.synalm(cl)\n",
    "map_smoothed = hp.sphtfunc.alm2map(alms, 1024)"
   ]
  },
  {
   "cell_type": "markdown",
   "metadata": {},
   "source": [
    "And plot it"
   ]
  },
  {
   "cell_type": "code",
   "execution_count": null,
   "metadata": {},
   "outputs": [],
   "source": [
    "# plot the map\n",
    "fig = plt.figure(1)\n",
    "hp.mollview(map_smoothed,title='Manually smoothed map', min = -0.0003, max = 0.0003,\n",
    "            fig=1, unit=r'K', cmap=cmap)"
   ]
  },
  {
   "cell_type": "markdown",
   "metadata": {},
   "source": [
    "Using the healpy smoothing function gives similar results"
   ]
  },
  {
   "cell_type": "code",
   "execution_count": null,
   "metadata": {},
   "outputs": [],
   "source": [
    "map_smoothed_2 = hp.sphtfunc.smoothing(synmap, fwhm = 0.5*math.pi/180)"
   ]
  },
  {
   "cell_type": "code",
   "execution_count": null,
   "metadata": {},
   "outputs": [],
   "source": [
    "# plot the unmasked map\n",
    "fig = plt.figure(1)\n",
    "hp.mollview(map_smoothed_2, min = -0.0003, max = 0.0003,title='Smoothed map',\n",
    "            fig=1, unit=r'K', cmap=cmap)"
   ]
  },
  {
   "cell_type": "markdown",
   "metadata": {},
   "source": [
    "To zoom in use mollzoom"
   ]
  },
  {
   "cell_type": "code",
   "execution_count": null,
   "metadata": {},
   "outputs": [],
   "source": [
    "hp.zoomtool.mollzoom(map_smoothed, cmap=cmap)"
   ]
  },
  {
   "cell_type": "code",
   "execution_count": null,
   "metadata": {},
   "outputs": [],
   "source": [
    "hp.zoomtool.mollzoom(map_smoothed_2, cmap=cmap)"
   ]
  },
  {
   "cell_type": "code",
   "execution_count": null,
   "metadata": {},
   "outputs": [],
   "source": [
    "hp.zoomtool.mollzoom(synmap, cmap=cmap)"
   ]
  },
  {
   "cell_type": "markdown",
   "metadata": {},
   "source": [
    "The Planck website also provides maps of foregrounds e.g. interstellar dust:"
   ]
  },
  {
   "cell_type": "code",
   "execution_count": null,
   "metadata": {},
   "outputs": [],
   "source": [
    "planck_dust = hp.read_map('%sCOM_CompMap_dust-commander_0256_R2.00.fits'  % data_dir)"
   ]
  },
  {
   "cell_type": "code",
   "execution_count": null,
   "metadata": {},
   "outputs": [],
   "source": [
    "fig = plt.figure(1)\n",
    "hp.mollview(planck_dust, min=0, max=1000, title='Thermal dust emission map',\n",
    "            fig=1, cmap=cmap)"
   ]
  }
 ],
 "metadata": {
  "kernelspec": {
   "display_name": "Python 3",
   "language": "python",
   "name": "python3"
  },
  "language_info": {
   "codemirror_mode": {
    "name": "ipython",
    "version": 3
   },
   "file_extension": ".py",
   "mimetype": "text/x-python",
   "name": "python",
   "nbconvert_exporter": "python",
   "pygments_lexer": "ipython3",
   "version": "3.6.1"
  }
 },
 "nbformat": 4,
 "nbformat_minor": 2
}
