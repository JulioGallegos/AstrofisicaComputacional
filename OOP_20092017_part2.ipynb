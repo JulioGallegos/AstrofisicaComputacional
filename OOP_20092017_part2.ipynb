{
 "cells": [
  {
   "cell_type": "markdown",
   "metadata": {},
   "source": [
    "# Slots\n",
    "Los atributos de un objeto se almacenan en un diccionario \\_\\_dict\\_\\_. El diccionario no tiene un número determinado de elementos; es dinámico, por eso se pueden agregar atributos de forma dinámica a los objetos de clases que ya se han creado:"
   ]
  },
  {
   "cell_type": "code",
   "execution_count": null,
   "metadata": {
    "collapsed": true
   },
   "outputs": [],
   "source": [
    "class A(object):\n",
    "    pass"
   ]
  },
  {
   "cell_type": "code",
   "execution_count": null,
   "metadata": {},
   "outputs": [],
   "source": [
    "a=A()\n",
    "a.x=66\n",
    "a.y=\"atributo creado dinámicamente\""
   ]
  },
  {
   "cell_type": "code",
   "execution_count": null,
   "metadata": {},
   "outputs": [],
   "source": [
    "a.__dict__"
   ]
  },
  {
   "cell_type": "markdown",
   "metadata": {},
   "source": [
    "Esto no se puede hacer con las clases propias de Python como \"int\" o \"list\""
   ]
  },
  {
   "cell_type": "code",
   "execution_count": null,
   "metadata": {},
   "outputs": [],
   "source": [
    "x=42\n",
    "x.a=\"Me da error\""
   ]
  },
  {
   "cell_type": "markdown",
   "metadata": {},
   "source": [
    "Si sabemos el número de atributos, podemos ahorrar espacio utilizando \\_\\_slots\\_\\_ en lugar de diccionarios."
   ]
  },
  {
   "cell_type": "code",
   "execution_count": null,
   "metadata": {
    "collapsed": true
   },
   "outputs": [],
   "source": [
    "class S(object):\n",
    "    __slots__ =['val']\n",
    "    \n",
    "    def __init__(self,v):\n",
    "        self.val=v\n",
    "        "
   ]
  },
  {
   "cell_type": "code",
   "execution_count": null,
   "metadata": {
    "collapsed": true
   },
   "outputs": [],
   "source": [
    "x=S(42)"
   ]
  },
  {
   "cell_type": "code",
   "execution_count": null,
   "metadata": {},
   "outputs": [],
   "source": [
    "print(x.val)"
   ]
  },
  {
   "cell_type": "code",
   "execution_count": null,
   "metadata": {},
   "outputs": [],
   "source": [
    "x.new=\"Otra vez error\""
   ]
  },
  {
   "cell_type": "markdown",
   "metadata": {},
   "source": [
    "A partir de Python 3.3, los diccionarios comparten memoria, así que el ahorro con Slots no es tan impresionante. Pero se utiliza por otras razones."
   ]
  },
  {
   "cell_type": "markdown",
   "metadata": {},
   "source": [
    "# Clases y Creación de Clases\n",
    "\n",
    "Profundicemos un poco en el tema de la creación de clases y la magia que hay detrás."
   ]
  },
  {
   "cell_type": "code",
   "execution_count": null,
   "metadata": {
    "collapsed": true
   },
   "outputs": [],
   "source": [
    "class A:\n",
    "    pass"
   ]
  },
  {
   "cell_type": "code",
   "execution_count": null,
   "metadata": {},
   "outputs": [],
   "source": [
    "x=A()\n",
    "print(type(x))"
   ]
  },
  {
   "cell_type": "code",
   "execution_count": null,
   "metadata": {
    "collapsed": true
   },
   "outputs": [],
   "source": [
    "A=type(\"A\",(),{})\n",
    "x=A()"
   ]
  },
  {
   "cell_type": "code",
   "execution_count": null,
   "metadata": {},
   "outputs": [],
   "source": [
    "print(type(x))"
   ]
  },
  {
   "cell_type": "markdown",
   "metadata": {},
   "source": [
    "Estamos creando una clase utilizando __type__, de la siguiente forma:\n",
    "\n",
    "type(classname, superclassess, attributedict{})\n",
    "\n",
    "El método type es un método llamada (call) que ejecuta dos médotos: \\_\\_init\\_\\_ y \\_\\_new\\_\\_\n",
    "\n",
    "type.\\_\\_new\\_\\_(typeclass, classname, superclasses, attributedict)\n",
    "\n",
    "type.\\_\\_init\\_\\_(cls, classname, superclasses, attributedict)"
   ]
  },
  {
   "cell_type": "code",
   "execution_count": null,
   "metadata": {},
   "outputs": [],
   "source": [
    "class Robot:\n",
    "    counter = 0\n",
    "    def __init__(self, name):\n",
    "        self.name = name\n",
    "    def sayHello(self):\n",
    "        return \"Hi, I am \" + self.name\n",
    "    \n",
    "#fuera de la clase\n",
    "def Rob_init(self, name):\n",
    "    self.name = name\n",
    "    "
   ]
  },
  {
   "cell_type": "code",
   "execution_count": null,
   "metadata": {},
   "outputs": [],
   "source": [
    "Robot2 = type(\"Robot2\", \n",
    "              (), \n",
    "              {\"counter\":0, \n",
    "               \"__init__\": Rob_init,\n",
    "               \"sayHello\": lambda self: \"Hi, I am \" + self.name})"
   ]
  },
  {
   "cell_type": "code",
   "execution_count": null,
   "metadata": {},
   "outputs": [],
   "source": [
    "x=Robot2(\"C3P0\")\n",
    "print(x.name)\n",
    "print(x.sayHello())"
   ]
  },
  {
   "cell_type": "code",
   "execution_count": null,
   "metadata": {},
   "outputs": [],
   "source": [
    "y=Robot(\"R2D2\")\n",
    "print(y.name)\n",
    "print(y.sayHello())"
   ]
  },
  {
   "cell_type": "markdown",
   "metadata": {},
   "source": [
    "Aunque las formas son distintas, Robot y Robot2 implementan la misma clase lógica"
   ]
  },
  {
   "cell_type": "markdown",
   "metadata": {},
   "source": [
    "# Clases Abstractas\n",
    "\n",
    "Son clases que contienen métodos abstractos, es decir, métodos declarados pero no implementados. Las clases abstractas no se pueden instanciar y necesitan subclases para proveer implementaciones para los métodos abstractos.\n"
   ]
  },
  {
   "cell_type": "code",
   "execution_count": null,
   "metadata": {},
   "outputs": [],
   "source": [
    "from abc import ABC, abstractmethod\n",
    "# Abstract Base Classes = ABC, es un módulo de Python\n",
    "\n",
    "class AbstractClassExample(ABC):\n",
    "    \n",
    "    @abstractmethod\n",
    "    def hacer_algo(self):\n",
    "        print(\"Una implementación de este método.\")"
   ]
  },
  {
   "cell_type": "code",
   "execution_count": null,
   "metadata": {},
   "outputs": [],
   "source": [
    "x=AbstractClassExample()"
   ]
  },
  {
   "cell_type": "code",
   "execution_count": 1,
   "metadata": {},
   "outputs": [],
   "source": [
    "\n",
    "\n",
    "from abc import ABC, abstractmethod\n",
    " \n",
    "class AbstractClassExample(ABC):\n",
    "    \n",
    "    @abstractmethod\n",
    "    def hacer_algo(self):\n",
    "        print(\"Una implementación de este método.\")\n",
    "        \n",
    "\n",
    "        "
   ]
  },
  {
   "cell_type": "code",
   "execution_count": 2,
   "metadata": {},
   "outputs": [],
   "source": [
    "# necesitamos una subclase\n",
    "\n",
    "class UnaSubclase(AbstractClassExample):\n",
    "    def hacer_algo(self):\n",
    "        super().hacer_algo()\n",
    "        print(\"Con una subclase\")\n",
    "        "
   ]
  },
  {
   "cell_type": "code",
   "execution_count": 3,
   "metadata": {},
   "outputs": [
    {
     "name": "stdout",
     "output_type": "stream",
     "text": [
      "Una implementación de este método.\n",
      "Con una subclase\n"
     ]
    }
   ],
   "source": [
    "x = UnaSubclase()\n",
    "x.hacer_algo()"
   ]
  },
  {
   "cell_type": "code",
   "execution_count": null,
   "metadata": {
    "collapsed": true
   },
   "outputs": [],
   "source": []
  }
 ],
 "metadata": {
  "kernelspec": {
   "display_name": "Python 3",
   "language": "python",
   "name": "python3"
  },
  "language_info": {
   "codemirror_mode": {
    "name": "ipython",
    "version": 3
   },
   "file_extension": ".py",
   "mimetype": "text/x-python",
   "name": "python",
   "nbconvert_exporter": "python",
   "pygments_lexer": "ipython3",
   "version": "3.6.1"
  }
 },
 "nbformat": 4,
 "nbformat_minor": 2
}
